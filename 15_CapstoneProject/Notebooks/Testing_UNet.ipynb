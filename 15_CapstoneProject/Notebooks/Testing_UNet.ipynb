{
  "nbformat": 4,
  "nbformat_minor": 0,
  "metadata": {
    "colab": {
      "name": "Testing-UNet.ipynb",
      "provenance": [],
      "collapsed_sections": [],
      "machine_shape": "hm"
    },
    "kernelspec": {
      "name": "python3",
      "display_name": "Python 3"
    },
    "accelerator": "GPU"
  },
  "cells": [
    {
      "cell_type": "markdown",
      "metadata": {
        "id": "EdHVQrqyDB50",
        "colab_type": "text"
      },
      "source": [
        "# Memory Information"
      ]
    },
    {
      "cell_type": "code",
      "metadata": {
        "id": "E58HaeA6CsM9",
        "colab_type": "code",
        "colab": {
          "base_uri": "https://localhost:8080/",
          "height": 109
        },
        "outputId": "2a2a13e3-0d2a-4054-81da-e8fbc5705b97"
      },
      "source": [
        "import psutil\n",
        "def get_size(bytes, suffix=\"B\"):\n",
        "    factor = 1024\n",
        "    for unit in [\"\", \"K\", \"M\", \"G\", \"T\", \"P\"]:\n",
        "        if bytes < factor:\n",
        "            return f\"{bytes:.2f}{unit}{suffix}\"\n",
        "        bytes /= factor\n",
        "print(\"=\"*40, \"Memory Information\", \"=\"*40)\n",
        "svmem = psutil.virtual_memory()\n",
        "print(f\"Total: {get_size(svmem.total)}\") ; print(f\"Available: {get_size(svmem.available)}\")\n",
        "print(f\"Used: {get_size(svmem.used)}\") ; print(f\"Percentage: {svmem.percent}%\")"
      ],
      "execution_count": 50,
      "outputs": [
        {
          "output_type": "stream",
          "text": [
            "======================================== Memory Information ========================================\n",
            "Total: 25.51GB\n",
            "Available: 22.46GB\n",
            "Used: 3.29GB\n",
            "Percentage: 12.0%\n"
          ],
          "name": "stdout"
        }
      ]
    },
    {
      "cell_type": "markdown",
      "metadata": {
        "id": "FgVfBlvZDEja",
        "colab_type": "text"
      },
      "source": [
        "# GPU Information"
      ]
    },
    {
      "cell_type": "code",
      "metadata": {
        "id": "rxlkxvkrCyin",
        "colab_type": "code",
        "colab": {
          "base_uri": "https://localhost:8080/",
          "height": 384
        },
        "outputId": "50a20e31-1fea-482d-b7a5-ef1544f50d69"
      },
      "source": [
        "! nvidia-smi"
      ],
      "execution_count": 51,
      "outputs": [
        {
          "output_type": "stream",
          "text": [
            "Tue Aug  4 11:11:49 2020       \n",
            "+-----------------------------------------------------------------------------+\n",
            "| NVIDIA-SMI 450.57       Driver Version: 418.67       CUDA Version: 10.1     |\n",
            "|-------------------------------+----------------------+----------------------+\n",
            "| GPU  Name        Persistence-M| Bus-Id        Disp.A | Volatile Uncorr. ECC |\n",
            "| Fan  Temp  Perf  Pwr:Usage/Cap|         Memory-Usage | GPU-Util  Compute M. |\n",
            "|                               |                      |               MIG M. |\n",
            "|===============================+======================+======================|\n",
            "|   0  Tesla P100-PCIE...  Off  | 00000000:00:04.0 Off |                    0 |\n",
            "| N/A   38C    P0    32W / 250W |   5091MiB / 16280MiB |      0%      Default |\n",
            "|                               |                      |                 ERR! |\n",
            "+-------------------------------+----------------------+----------------------+\n",
            "                                                                               \n",
            "+-----------------------------------------------------------------------------+\n",
            "| Processes:                                                                  |\n",
            "|  GPU   GI   CI        PID   Type   Process name                  GPU Memory |\n",
            "|        ID   ID                                                   Usage      |\n",
            "|=============================================================================|\n",
            "|  No running processes found                                                 |\n",
            "+-----------------------------------------------------------------------------+\n"
          ],
          "name": "stdout"
        }
      ]
    },
    {
      "cell_type": "code",
      "metadata": {
        "id": "jyDODoaWC6KI",
        "colab_type": "code",
        "colab": {
          "base_uri": "https://localhost:8080/",
          "height": 129
        },
        "outputId": "69bc6ef1-eb95-4c5b-a370-591db9a568e1"
      },
      "source": [
        "from google.colab import drive\n",
        "drive.mount('/content/gdrive/')"
      ],
      "execution_count": 3,
      "outputs": [
        {
          "output_type": "stream",
          "text": [
            "Go to this URL in a browser: https://accounts.google.com/o/oauth2/auth?client_id=947318989803-6bn6qk8qdgf4n4g3pfee6491hc0brc4i.apps.googleusercontent.com&redirect_uri=urn%3aietf%3awg%3aoauth%3a2.0%3aoob&response_type=code&scope=email%20https%3a%2f%2fwww.googleapis.com%2fauth%2fdocs.test%20https%3a%2f%2fwww.googleapis.com%2fauth%2fdrive%20https%3a%2f%2fwww.googleapis.com%2fauth%2fdrive.photos.readonly%20https%3a%2f%2fwww.googleapis.com%2fauth%2fpeopleapi.readonly\n",
            "\n",
            "Enter your authorization code:\n",
            "··········\n",
            "Mounted at /content/gdrive/\n"
          ],
          "name": "stdout"
        }
      ]
    },
    {
      "cell_type": "code",
      "metadata": {
        "id": "M_c2043FJwBt",
        "colab_type": "code",
        "colab": {
          "base_uri": "https://localhost:8080/",
          "height": 35
        },
        "outputId": "1f64a129-2b50-4912-9717-08182a25d6d7"
      },
      "source": [
        "import time;\n",
        "start = time.time()\n",
        "!unzip -q 'gdrive/My Drive/Pull-0-Depth/MonoDepth_Inp_Dataset_192.zip' -d 'Data/'\n",
        "print (time.time() - start)"
      ],
      "execution_count": 4,
      "outputs": [
        {
          "output_type": "stream",
          "text": [
            "233.10646629333496\n"
          ],
          "name": "stdout"
        }
      ]
    },
    {
      "cell_type": "code",
      "metadata": {
        "id": "YRBGK7PPKT7J",
        "colab_type": "code",
        "colab": {
          "base_uri": "https://localhost:8080/",
          "height": 35
        },
        "outputId": "3574d4b8-e998-458f-8de1-effde8f314b2"
      },
      "source": [
        "import time;\n",
        "\n",
        "start = time.time()\n",
        "!unzip -q 'gdrive/My Drive/Pull-0-Depth/MonoDepth_GT_Dataset_192.zip' -d 'Data/Dataset/depth_'\n",
        "print (time.time() - start)"
      ],
      "execution_count": 5,
      "outputs": [
        {
          "output_type": "stream",
          "text": [
            "72.08990716934204\n"
          ],
          "name": "stdout"
        }
      ]
    },
    {
      "cell_type": "code",
      "metadata": {
        "id": "SxlAhYs4KWkA",
        "colab_type": "code",
        "colab": {
          "base_uri": "https://localhost:8080/",
          "height": 35
        },
        "outputId": "5a52b240-ff9f-4b7c-a5ec-fed7a6480aaf"
      },
      "source": [
        "import time;\n",
        "\n",
        "start = time.time()\n",
        "!unzip -q 'gdrive/My Drive/Pull-0-Depth/bg_192.zip' -d 'Data/Dataset/bg_'\n",
        "print (time.time() - start)"
      ],
      "execution_count": 6,
      "outputs": [
        {
          "output_type": "stream",
          "text": [
            "12.057763576507568\n"
          ],
          "name": "stdout"
        }
      ]
    },
    {
      "cell_type": "code",
      "metadata": {
        "id": "UIqhqdPNKZKF",
        "colab_type": "code",
        "colab": {
          "base_uri": "https://localhost:8080/",
          "height": 90
        },
        "outputId": "36156c74-fc47-4a48-d41d-f62c69800c08"
      },
      "source": [
        "import os\n",
        "\n",
        "list_m = os.listdir('Data/Dataset/mask_/mask') # dir is your directory path\n",
        "list_f = os.listdir('Data/Dataset/fg_bg_/fg_bg') # dir is your directory path\n",
        "list_d = os.listdir('Data/Dataset/depth_/depth') # dir is your directory path\n",
        "list_b_temp = os.listdir('Data/Dataset/bg_/bg_192') # dir is your directory path\n",
        "\n",
        "list_f.sort()\n",
        "list_m.sort()\n",
        "list_d.sort()\n",
        "list_b_temp.sort()\n",
        "\n",
        "list_b = []\n",
        "for bg in list_b_temp:\n",
        "    list_b += [bg]*4000\n",
        "\n",
        "print('No. of fg_bg Images: ', len(list_f))\n",
        "print('No. of mask Images: ', len(list_m))\n",
        "print('No. of depth Images: ', len(list_d))\n",
        "print('No. of backround Images: ', len(list_b))"
      ],
      "execution_count": 1,
      "outputs": [
        {
          "output_type": "stream",
          "text": [
            "No. of fg_bg Images:  400000\n",
            "No. of mask Images:  400000\n",
            "No. of depth Images:  400000\n",
            "No. of backround Images:  400000\n"
          ],
          "name": "stdout"
        }
      ]
    },
    {
      "cell_type": "code",
      "metadata": {
        "id": "8J7DST0tTaMb",
        "colab_type": "code",
        "colab": {}
      },
      "source": [
        "f = open(\"file_name.txt\", \"a\")\n",
        "g = open(\"bg_name.txt\", \"a\")\n",
        "for line in list_f:\n",
        "    f.write(f\"{line} 0\\n\")\n",
        "    g.write(f\"{line[:8]}.jpg 0\\n\")\n",
        "f.close()\n",
        "g.close()"
      ],
      "execution_count": 2,
      "outputs": []
    },
    {
      "cell_type": "code",
      "metadata": {
        "id": "v8apMlx_TnuW",
        "colab_type": "code",
        "colab": {
          "base_uri": "https://localhost:8080/",
          "height": 90
        },
        "outputId": "cb6e831f-003f-4c94-9621-62378c601e09"
      },
      "source": [
        "print('Sample FG_BG Image: ',list_f[351275])\n",
        "print('Sample BG Image: ',list_b[351275])\n",
        "print('Sample MASK Image: ',list_m[351275])\n",
        "print('Sample DEPTh Image: ',list_d[351275])"
      ],
      "execution_count": 3,
      "outputs": [
        {
          "output_type": "stream",
          "text": [
            "Sample FG_BG Image:  bg192_87_fg3275.jpg\n",
            "Sample BG Image:  bg192_87.jpg\n",
            "Sample MASK Image:  bg192_87_fg3275.jpg\n",
            "Sample DEPTh Image:  bg192_87_fg3275.jpg\n"
          ],
          "name": "stdout"
        }
      ]
    },
    {
      "cell_type": "code",
      "metadata": {
        "id": "0JMwRf43TpnK",
        "colab_type": "code",
        "colab": {}
      },
      "source": [
        "import torch\n",
        "from torch.utils.data import Dataset, DataLoader\n",
        "from torchvision import transforms, utils\n",
        "import matplotlib.pyplot as plt\n",
        "from PIL import Image\n",
        "import numpy as np\n",
        "import time"
      ],
      "execution_count": 4,
      "outputs": []
    },
    {
      "cell_type": "code",
      "metadata": {
        "id": "fexBi1NxTsu4",
        "colab_type": "code",
        "colab": {
          "base_uri": "https://localhost:8080/",
          "height": 54
        },
        "outputId": "b467d6a2-257a-4c21-8226-cbe19aa67fe0"
      },
      "source": [
        "#Creating Split of Data for Training and Testing of 70:30\n",
        "import random\n",
        "\n",
        "for _ in range(50):\n",
        "    seed = random.random()\n",
        "    def rand_num():\n",
        "        return seed\n",
        "    random.shuffle(list_f, rand_num)\n",
        "    random.shuffle(list_b, rand_num)\n",
        "\n",
        "#Testing if Randomizing worked\n",
        "print(list_f[351275])\n",
        "print(list_b[351275])"
      ],
      "execution_count": 5,
      "outputs": [
        {
          "output_type": "stream",
          "text": [
            "bg192_23_fg3609.jpg\n",
            "bg192_23.jpg\n"
          ],
          "name": "stdout"
        }
      ]
    },
    {
      "cell_type": "code",
      "metadata": {
        "id": "IgDqUY4CULUo",
        "colab_type": "code",
        "colab": {
          "base_uri": "https://localhost:8080/",
          "height": 35
        },
        "outputId": "daef8e9b-0779-41de-bcd2-837192e15070"
      },
      "source": [
        "train_data = list_f[0:12800]\n",
        "test_data = list_f[102800:106000]\n",
        "print(len(train_data), len(test_data))"
      ],
      "execution_count": 38,
      "outputs": [
        {
          "output_type": "stream",
          "text": [
            "12800 3200\n"
          ],
          "name": "stdout"
        }
      ]
    },
    {
      "cell_type": "code",
      "metadata": {
        "id": "c5ccgIOkUUMJ",
        "colab_type": "code",
        "colab": {}
      },
      "source": [
        "class DepMaskDataset(Dataset):\n",
        "    def __init__(self, file_list):\n",
        "        \n",
        "        self.to_tensor = transforms.ToTensor()\n",
        "        self.fg_norm = transforms.Normalize(mean = [0.56414794921875, 0.5432481169700623, 0.5214933753013611],\n",
        "                                            std = [0.208669513463974, 0.213966503739357, 0.2230370044708252])\n",
        "        self.bg_norm = transforms.Normalize(mean = [0.5810659527778625, 0.5633341670036316, 0.5403051972389221],\n",
        "                                            std= [0.18558748066425323, 0.19134603440761566, 0.20390349626541138])\n",
        "        self.mask_norm = transforms.Normalize(mean = 0.09639497846364975,\n",
        "                                              std = 0.2823259234428406)\n",
        "        self.depth_norm = transforms.Normalize(mean = 0.40525129437446594,\n",
        "                                               std = 0.24363896250724792)\n",
        "        self.file_name_list = file_list\n",
        "        self.fgbg = 'Data/Dataset/fg_bg_/fg_bg/'\n",
        "        self.bg = 'Data/Dataset/bg_/bg_192/'\n",
        "        self.mask = 'Data/Dataset/mask_/mask/'\n",
        "        self.depth = 'Data/Dataset/depth_/depth/'\n",
        "        self.len = len(self.file_name_list)\n",
        "\n",
        "        \n",
        "    def __getitem__(self, index):\n",
        "        # stuff\n",
        "\n",
        "        fg = Image.open(self.fgbg+self.file_name_list[index]).convert('RGB')\n",
        "        bg = Image.open(self.bg+self.file_name_list[index][0:8]+'.jpg').convert('RGB')\n",
        "        mask = Image.open(self.mask+self.file_name_list[index]).convert('L')\n",
        "        mask_arr = np.array(mask)\n",
        "        mask_arr[mask_arr >= 150] = 255\n",
        "        mask_arr[mask_arr < 150]  = 0\n",
        "        mask = Image.fromarray(mask_arr).convert('L')\n",
        "        depth = Image.open(self.depth+self.file_name_list[index]).convert('L')\n",
        "        \n",
        "        fg = self.to_tensor(fg)\n",
        "        bg = self.to_tensor(bg)\n",
        "        mask = self.to_tensor(mask)\n",
        "        depth = self.to_tensor(depth)\n",
        "\n",
        "        fg = self.fg_norm(fg)\n",
        "        bg = self.bg_norm(bg)\n",
        "        mask = self.mask_norm(mask)\n",
        "        depth = self.depth_norm(depth)\n",
        "\n",
        "        return {'fgbg': fg, 'bg': bg, 'mask':mask, 'depth': depth}\n",
        "\n",
        "    def __len__(self):\n",
        "        return self.len # of how many data(images) you have"
      ],
      "execution_count": 7,
      "outputs": []
    },
    {
      "cell_type": "code",
      "metadata": {
        "id": "8tuKnSSvUXOZ",
        "colab_type": "code",
        "colab": {}
      },
      "source": [
        "train_dataset = DepMaskDataset(train_data)\n",
        "test_dataset = DepMaskDataset(test_data)"
      ],
      "execution_count": 41,
      "outputs": []
    },
    {
      "cell_type": "code",
      "metadata": {
        "id": "_jpq2Q2cUZBX",
        "colab_type": "code",
        "colab": {}
      },
      "source": [
        "train_loader = DataLoader(train_dataset, batch_size=32, shuffle=True, num_workers=4)\n",
        "test_loader = DataLoader(test_dataset, batch_size=32, shuffle=False, num_workers=4)"
      ],
      "execution_count": 42,
      "outputs": []
    },
    {
      "cell_type": "code",
      "metadata": {
        "id": "TpoD-DB_UmI4",
        "colab_type": "code",
        "colab": {
          "base_uri": "https://localhost:8080/",
          "height": 54
        },
        "outputId": "9711575c-063c-4af0-ecbb-081d2a542304"
      },
      "source": [
        "data = next(iter(train_loader))\n",
        "print(type(data))\n",
        "print(len(data))"
      ],
      "execution_count": 10,
      "outputs": [
        {
          "output_type": "stream",
          "text": [
            "<class 'dict'>\n",
            "4\n"
          ],
          "name": "stdout"
        }
      ]
    },
    {
      "cell_type": "code",
      "metadata": {
        "id": "8mGGxKVAXXKV",
        "colab_type": "code",
        "colab": {
          "base_uri": "https://localhost:8080/",
          "height": 54
        },
        "outputId": "1c47fbda-23f0-46a2-9fa9-bb3fc156f272"
      },
      "source": [
        "print(len(train_loader))\n",
        "print(len(test_loader))"
      ],
      "execution_count": 11,
      "outputs": [
        {
          "output_type": "stream",
          "text": [
            "400\n",
            "100\n"
          ],
          "name": "stdout"
        }
      ]
    },
    {
      "cell_type": "code",
      "metadata": {
        "id": "dUo1BWoiWTm-",
        "colab_type": "code",
        "colab": {
          "base_uri": "https://localhost:8080/",
          "height": 90
        },
        "outputId": "fbdbddf9-0762-4fc4-f33d-f8297f23c230"
      },
      "source": [
        "print('Number of fg_bg Images in one batch: ', data['fgbg'].shape)\n",
        "print('Number of bg Images in one batch: ', data['bg'].shape)\n",
        "print('Number of mask Images in one batch: ', data['mask'].shape)\n",
        "print('Number of depth Images in one batch: ', data['depth'].shape)"
      ],
      "execution_count": 12,
      "outputs": [
        {
          "output_type": "stream",
          "text": [
            "Number of fg_bg Images in one batch:  torch.Size([32, 3, 192, 192])\n",
            "Number of bg Images in one batch:  torch.Size([32, 3, 192, 192])\n",
            "Number of mask Images in one batch:  torch.Size([32, 1, 192, 192])\n",
            "Number of depth Images in one batch:  torch.Size([32, 1, 192, 192])\n"
          ],
          "name": "stdout"
        }
      ]
    },
    {
      "cell_type": "code",
      "metadata": {
        "id": "TrIkoAxGecPc",
        "colab_type": "code",
        "colab": {
          "base_uri": "https://localhost:8080/",
          "height": 72
        },
        "outputId": "7f248e71-cb82-4d5b-a460-ab255a497cb0"
      },
      "source": [
        "from tqdm import tqdm\n",
        "load_start = time.time()\n",
        "pbar = tqdm(train_loader)\n",
        "for batch_idx, data in enumerate(pbar):\n",
        "        fgbg, bg = data['fgbg'].to('cuda'), data['bg'].to('cuda')\n",
        "        mask, depth = data['mask'].to('cuda'), data['depth'].to('cuda')\n",
        "        model_inp = torch.cat((fgbg, bg), dim=1)\n",
        "load_end = time.time()\n",
        "print('\\n Total Loading Time ',load_end-load_start)"
      ],
      "execution_count": 13,
      "outputs": [
        {
          "output_type": "stream",
          "text": [
            "100%|██████████| 400/400 [00:32<00:00, 12.33it/s]"
          ],
          "name": "stderr"
        },
        {
          "output_type": "stream",
          "text": [
            "\n",
            " Total Loading Time  32.44303560256958\n"
          ],
          "name": "stdout"
        },
        {
          "output_type": "stream",
          "text": [
            "\n"
          ],
          "name": "stderr"
        }
      ]
    },
    {
      "cell_type": "code",
      "metadata": {
        "id": "A46F8k2baDrY",
        "colab_type": "code",
        "colab": {}
      },
      "source": [
        "from UNet import UNet\n",
        "from loss import BCEDiceLoss, RMSELoss, rmse, miou\n",
        "import torch.optim as optim\n",
        "from tqdm import tqdm\n",
        "import gc"
      ],
      "execution_count": 14,
      "outputs": []
    },
    {
      "cell_type": "code",
      "metadata": {
        "id": "tbTDrxKkdo7u",
        "colab_type": "code",
        "colab": {}
      },
      "source": [
        "model = UNet(6).to('cuda')\n",
        "optimizer = optim.Adam(model.parameters())"
      ],
      "execution_count": 15,
      "outputs": []
    },
    {
      "cell_type": "code",
      "metadata": {
        "id": "vpAQCH0h8-_A",
        "colab_type": "code",
        "colab": {
          "base_uri": "https://localhost:8080/",
          "height": 1000
        },
        "outputId": "1ea9d271-0429-4cff-a38e-e3071dcd3093"
      },
      "source": [
        "from torchsummary import summary\n",
        "summary(model, (6,192,192))"
      ],
      "execution_count": 16,
      "outputs": [
        {
          "output_type": "stream",
          "text": [
            "----------------------------------------------------------------\n",
            "        Layer (type)               Output Shape         Param #\n",
            "================================================================\n",
            "            Conv2d-1         [-1, 64, 192, 192]           3,456\n",
            "       BatchNorm2d-2         [-1, 64, 192, 192]             128\n",
            "              ReLU-3         [-1, 64, 192, 192]               0\n",
            "            Conv2d-4         [-1, 64, 192, 192]          36,864\n",
            "       BatchNorm2d-5         [-1, 64, 192, 192]             128\n",
            "              ReLU-6         [-1, 64, 192, 192]               0\n",
            "        DoubleConv-7  [[-1, 64, 192, 192], [-1, 64, 192, 192]]               0\n",
            "         MaxPool2d-8           [-1, 64, 96, 96]               0\n",
            "            Conv2d-9          [-1, 128, 96, 96]          73,728\n",
            "      BatchNorm2d-10          [-1, 128, 96, 96]             256\n",
            "             ReLU-11          [-1, 128, 96, 96]               0\n",
            "           Conv2d-12          [-1, 128, 96, 96]         147,456\n",
            "      BatchNorm2d-13          [-1, 128, 96, 96]             256\n",
            "             ReLU-14          [-1, 128, 96, 96]               0\n",
            "       DoubleConv-15  [[-1, 128, 96, 96], [-1, 128, 96, 96]]               0\n",
            "        MaxPool2d-16          [-1, 128, 48, 48]               0\n",
            "           Conv2d-17          [-1, 256, 48, 48]         294,912\n",
            "      BatchNorm2d-18          [-1, 256, 48, 48]             512\n",
            "             ReLU-19          [-1, 256, 48, 48]               0\n",
            "           Conv2d-20          [-1, 256, 48, 48]         589,824\n",
            "      BatchNorm2d-21          [-1, 256, 48, 48]             512\n",
            "             ReLU-22          [-1, 256, 48, 48]               0\n",
            "       DoubleConv-23  [[-1, 256, 48, 48], [-1, 256, 48, 48]]               0\n",
            "        MaxPool2d-24          [-1, 256, 24, 24]               0\n",
            "           Conv2d-25          [-1, 512, 24, 24]       1,179,648\n",
            "      BatchNorm2d-26          [-1, 512, 24, 24]           1,024\n",
            "             ReLU-27          [-1, 512, 24, 24]               0\n",
            "           Conv2d-28          [-1, 512, 24, 24]       2,359,296\n",
            "      BatchNorm2d-29          [-1, 512, 24, 24]           1,024\n",
            "             ReLU-30          [-1, 512, 24, 24]               0\n",
            "       DoubleConv-31  [[-1, 512, 24, 24], [-1, 512, 24, 24]]               0\n",
            "        MaxPool2d-32          [-1, 512, 12, 12]               0\n",
            "           Conv2d-33         [-1, 1024, 12, 12]       4,718,592\n",
            "      BatchNorm2d-34         [-1, 1024, 12, 12]           2,048\n",
            "             ReLU-35         [-1, 1024, 12, 12]               0\n",
            "           Conv2d-36         [-1, 1024, 12, 12]       9,437,184\n",
            "      BatchNorm2d-37         [-1, 1024, 12, 12]           2,048\n",
            "             ReLU-38         [-1, 1024, 12, 12]               0\n",
            "       DoubleConv-39  [[-1, 1024, 12, 12], [-1, 1024, 12, 12]]               0\n",
            "  ConvTranspose2d-40          [-1, 512, 24, 24]       2,097,664\n",
            "           Conv2d-41          [-1, 512, 24, 24]       4,718,592\n",
            "      BatchNorm2d-42          [-1, 512, 24, 24]           1,024\n",
            "             ReLU-43          [-1, 512, 24, 24]               0\n",
            "           Conv2d-44          [-1, 512, 24, 24]       2,359,296\n",
            "      BatchNorm2d-45          [-1, 512, 24, 24]           1,024\n",
            "             ReLU-46          [-1, 512, 24, 24]               0\n",
            "       DoubleConv-47  [[-1, 512, 24, 24], [-1, 512, 24, 24]]               0\n",
            "  ConvTranspose2d-48          [-1, 256, 48, 48]         524,544\n",
            "           Conv2d-49          [-1, 256, 48, 48]       1,179,648\n",
            "      BatchNorm2d-50          [-1, 256, 48, 48]             512\n",
            "             ReLU-51          [-1, 256, 48, 48]               0\n",
            "           Conv2d-52          [-1, 256, 48, 48]         589,824\n",
            "      BatchNorm2d-53          [-1, 256, 48, 48]             512\n",
            "             ReLU-54          [-1, 256, 48, 48]               0\n",
            "       DoubleConv-55  [[-1, 256, 48, 48], [-1, 256, 48, 48]]               0\n",
            "  ConvTranspose2d-56          [-1, 128, 96, 96]         131,200\n",
            "           Conv2d-57          [-1, 128, 96, 96]         294,912\n",
            "      BatchNorm2d-58          [-1, 128, 96, 96]             256\n",
            "             ReLU-59          [-1, 128, 96, 96]               0\n",
            "           Conv2d-60          [-1, 128, 96, 96]         147,456\n",
            "      BatchNorm2d-61          [-1, 128, 96, 96]             256\n",
            "             ReLU-62          [-1, 128, 96, 96]               0\n",
            "       DoubleConv-63  [[-1, 128, 96, 96], [-1, 128, 96, 96]]               0\n",
            "  ConvTranspose2d-64         [-1, 64, 192, 192]          32,832\n",
            "           Conv2d-65         [-1, 64, 192, 192]          73,728\n",
            "      BatchNorm2d-66         [-1, 64, 192, 192]             128\n",
            "             ReLU-67         [-1, 64, 192, 192]               0\n",
            "           Conv2d-68         [-1, 64, 192, 192]          36,864\n",
            "      BatchNorm2d-69         [-1, 64, 192, 192]             128\n",
            "             ReLU-70         [-1, 64, 192, 192]               0\n",
            "       DoubleConv-71  [[-1, 64, 192, 192], [-1, 64, 192, 192]]               0\n",
            "           Conv2d-72          [-1, 2, 192, 192]           1,154\n",
            "================================================================\n",
            "Total params: 31,040,450\n",
            "Trainable params: 31,040,450\n",
            "Non-trainable params: 0\n",
            "----------------------------------------------------------------\n",
            "Input size (MB): 0.84\n",
            "Forward/backward pass size (MB): 112969273.50\n",
            "Params size (MB): 118.41\n",
            "Estimated Total Size (MB): 112969392.75\n",
            "----------------------------------------------------------------\n"
          ],
          "name": "stdout"
        }
      ]
    },
    {
      "cell_type": "code",
      "metadata": {
        "id": "KgJXlbQQnyIB",
        "colab_type": "code",
        "colab": {}
      },
      "source": [
        "class UnNormalize(object):\n",
        "    def __init__(self, mean, std):\n",
        "        self.mean = mean\n",
        "        self.std = std\n",
        "\n",
        "    def __call__(self, tensor):\n",
        "        \"\"\"\n",
        "        Args:\n",
        "            tensor (Tensor): Tensor image of size (C, H, W) to be normalized.\n",
        "        Returns:\n",
        "            Tensor: Normalized image.\n",
        "        \"\"\"\n",
        "        for t, m, s in zip(tensor, self.mean, self.std):\n",
        "            t.mul_(s).add_(m)\n",
        "            # The normalize code -> t.sub_(m).div_(s)\n",
        "        return tensor"
      ],
      "execution_count": 17,
      "outputs": []
    },
    {
      "cell_type": "code",
      "metadata": {
        "id": "5z2okb-CcHAs",
        "colab_type": "code",
        "colab": {}
      },
      "source": [
        "def train(train_loader, model, optimizer):\n",
        "\n",
        "    gc.collect()\n",
        "    torch.cuda.empty_cache()\n",
        "\n",
        "    model.train()\n",
        "    pbar = tqdm(train_loader)\n",
        "    seg_crit = BCEDiceLoss()\n",
        "    dep_crit = RMSELoss()\n",
        "    load_time, pred_time, loss_time, back_time, misc_time = 0,0,0,0,0\n",
        "    start = time.time()\n",
        "    total_segloss, total_deploss, total_ = 0,0,0\n",
        "    total_iou, total_rmse = 0,0\n",
        "\n",
        "    for batch_idx, data in enumerate(pbar):\n",
        "        load_start = time.time()\n",
        "        fgbg, bg = data['fgbg'].to('cuda'), data['bg'].to('cuda')\n",
        "        mask, depth = data['mask'].to('cuda'), data['depth'].to('cuda')\n",
        "\n",
        "        model_inp = torch.cat((fgbg, bg), dim=1)\n",
        "        load_end = time.time()\n",
        "        load_time += load_end - load_start\n",
        "\n",
        "        pred_start = time.time()\n",
        "        optimizer.zero_grad()\n",
        "        y_pred = model(model_inp)\n",
        "        pred_end = time.time()\n",
        "        pred_time += pred_end - pred_start\n",
        "\n",
        "        loss_start = time.time()\n",
        "        seg_loss = seg_crit(y_pred[:, :1, :, :], mask)\n",
        "        dep_loss = dep_crit(y_pred[:, 1:, :, :], depth)\n",
        "        total_loss = seg_loss + dep_loss\n",
        "        with torch.no_grad():\n",
        "            total_segloss += seg_loss\n",
        "            total_deploss += dep_loss\n",
        "            total_iou += miou(y_pred[:, :1, :, :], mask)\n",
        "            total_rmse += rmse(y_pred[:, 1:, :, :], depth)\n",
        "            total_ += total_loss\n",
        "        loss_end = time.time()\n",
        "        loss_time += loss_end - loss_start\n",
        "\n",
        "        back_start = time.time()\n",
        "        total_loss.backward()\n",
        "        optimizer.step()\n",
        "        back_end = time.time()\n",
        "        back_time += back_end - back_start\n",
        "        \n",
        "\n",
        "    print('\\nLoad Time: ', load_time)\n",
        "    print('Prediciton Time: ', pred_time)\n",
        "    print('Loss Time: ', loss_time)\n",
        "    print('Backprop Time: ', back_time)\n",
        "    print('Total Time for One Batch: ', time.time() - start)\n",
        "    print('********************* LOSSES ****************************')\n",
        "    print('Segmentation Loss: ', (total_segloss/len(pbar)).item())\n",
        "    print('Depth Loss: ', (total_deploss/len(pbar)).item())\n",
        "    print('Total Loss: ', (total_/len(pbar)).item())\n",
        "    print('mean IOU: ', (total_iou/len(pbar)).item())\n",
        "    print('mean RMSE: ', (total_rmse/len(pbar)).item())\n",
        "    print('********************* ****** ****************************')\n",
        "\n",
        "    del fgbg, bg, mask, depth\n",
        "    del model_inp, y_pred\n",
        "    \n",
        "    gc.collect()\n",
        "    torch.cuda.empty_cache()"
      ],
      "execution_count": 27,
      "outputs": []
    },
    {
      "cell_type": "code",
      "metadata": {
        "id": "C8Jp9TpOZm1t",
        "colab_type": "code",
        "colab": {}
      },
      "source": [
        "def test(test_loader, model):\n",
        "\n",
        "    gc.collect()\n",
        "    torch.cuda.empty_cache()\n",
        "\n",
        "    model.eval()\n",
        "    pbar = tqdm(test_loader)\n",
        "    seg_crit = BCEDiceLoss()\n",
        "    dep_crit = RMSELoss()\n",
        "    load_time, pred_time, loss_time= 0,0,0\n",
        "    start = time.time()\n",
        "    total_segloss, total_deploss, total_ = 0,0,0\n",
        "    total_iou, total_rmse = 0,0\n",
        "\n",
        "    with torch.no_grad():\n",
        "        for batch_idx, data in enumerate(pbar):\n",
        "            load_start = time.time()\n",
        "            fgbg, bg = data['fgbg'].to('cuda'), data['bg'].to('cuda')\n",
        "            mask, depth = data['mask'].to('cuda'), data['depth'].to('cuda')\n",
        "\n",
        "            model_inp = torch.cat((fgbg, bg), dim=1)\n",
        "            load_end = time.time()\n",
        "            load_time += load_end - load_start\n",
        "\n",
        "            pred_start = time.time()\n",
        "            optimizer.zero_grad()\n",
        "            y_pred = model(model_inp)\n",
        "            pred_end = time.time()\n",
        "            pred_time += pred_end - pred_start\n",
        "\n",
        "            loss_start = time.time()\n",
        "            seg_loss = seg_crit(y_pred[:, :1, :, :], mask)\n",
        "            dep_loss = dep_crit(y_pred[:, 1:, :, :], depth)\n",
        "            total_segloss += seg_loss\n",
        "            total_deploss += dep_loss\n",
        "            total_ += seg_loss + dep_loss\n",
        "            total_iou += miou(y_pred[:, :1, :, :], mask)\n",
        "            total_rmse += rmse(y_pred[:, 1:, :, :], depth)\n",
        "            loss_end = time.time()\n",
        "            loss_time += loss_end - loss_start\n",
        "\n",
        "        \n",
        "\n",
        "    print('\\nLoad Time: ', load_time)\n",
        "    print('Prediciton Time: ', pred_time)\n",
        "    print('Loss Time: ', loss_time)\n",
        "    print('Total Time for One Batch: ', time.time() - start)\n",
        "    print('********************* LOSSES ****************************')\n",
        "    print('Segmentation Loss: ', (total_segloss/len(pbar)).item())\n",
        "    print('Depth Loss: ', (total_deploss/len(pbar)).item())\n",
        "    print('Total Loss: ', (total_/len(pbar)).item())\n",
        "    print('mean IOU: ', (total_iou/len(pbar)).item())\n",
        "    print('mean RMSE: ', (total_rmse/len(pbar)).item())\n",
        "    print('********************* ****** ****************************')\n",
        "\n",
        "    return mask, depth, y_pred[:, :1, :, :], y_pred[:, 1:, :, :]\n",
        "    "
      ],
      "execution_count": 28,
      "outputs": []
    },
    {
      "cell_type": "code",
      "metadata": {
        "id": "RVX_zLNodedJ",
        "colab_type": "code",
        "colab": {
          "base_uri": "https://localhost:8080/",
          "height": 1000
        },
        "outputId": "d319f495-3317-4c76-f272-31aa705d71ae"
      },
      "source": [
        "start_process = time.time()\n",
        "for i in range(1,15):\n",
        "    epoch_time = time.time()\n",
        "    train(train_loader, model, optimizer)\n",
        "    print(f'********* EPOCH {i+1} TIME: {time.time()-epoch_time} seconds')\n",
        "    print('******************************************************************************************************************')\n",
        "print(torch.cuda.memory_allocated())\n",
        "torch.cuda.empty_cache()\n",
        "print(torch.cuda.memory_allocated())\n",
        "mask_gt, depth_gt, mask_ot, depth_ot = test(test_loader, model)\n",
        "print('Total Time: ', time.time() - start_process)"
      ],
      "execution_count": 26,
      "outputs": [
        {
          "output_type": "stream",
          "text": [
            "100%|██████████| 400/400 [03:20<00:00,  1.99it/s]\n"
          ],
          "name": "stderr"
        },
        {
          "output_type": "stream",
          "text": [
            "\n",
            "Load Time:  188.67521834373474\n",
            "Prediciton Time:  2.822603225708008\n",
            "Loss Time:  0.5411462783813477\n",
            "Backprop Time:  4.762819051742554\n",
            "Total Time for One Batch:  200.88339471817017\n",
            "********************* LOSSES ****************************\n",
            "Segmentation Loss:  1.1029281616210938\n",
            "Depth Loss:  0.12782032787799835\n",
            "Total Loss:  1.7420287132263184\n",
            "mean IOU:  0.2716015875339508\n",
            "mean RMSE:  0.12782032787799835\n",
            "********************* ****** ****************************\n"
          ],
          "name": "stdout"
        },
        {
          "output_type": "stream",
          "text": [
            "\r  0%|          | 0/400 [00:00<?, ?it/s]"
          ],
          "name": "stderr"
        },
        {
          "output_type": "stream",
          "text": [
            "********* EPOCH 2 TIME: 201.70888209342957 seconds\n",
            "******************************************************************************************************************\n"
          ],
          "name": "stdout"
        },
        {
          "output_type": "stream",
          "text": [
            "100%|██████████| 400/400 [03:20<00:00,  1.99it/s]\n"
          ],
          "name": "stderr"
        },
        {
          "output_type": "stream",
          "text": [
            "\n",
            "Load Time:  188.35859155654907\n",
            "Prediciton Time:  2.929989814758301\n",
            "Loss Time:  0.5570740699768066\n",
            "Backprop Time:  4.870265245437622\n",
            "Total Time for One Batch:  200.91666889190674\n",
            "********************* LOSSES ****************************\n",
            "Segmentation Loss:  1.101245641708374\n",
            "Depth Loss:  0.10979416966438293\n",
            "Total Loss:  1.650216817855835\n",
            "mean IOU:  0.2718007266521454\n",
            "mean RMSE:  0.10979416966438293\n",
            "********************* ****** ****************************\n"
          ],
          "name": "stdout"
        },
        {
          "output_type": "stream",
          "text": [
            "\r  0%|          | 0/400 [00:00<?, ?it/s]"
          ],
          "name": "stderr"
        },
        {
          "output_type": "stream",
          "text": [
            "********* EPOCH 3 TIME: 201.67899751663208 seconds\n",
            "******************************************************************************************************************\n"
          ],
          "name": "stdout"
        },
        {
          "output_type": "stream",
          "text": [
            "100%|██████████| 400/400 [03:20<00:00,  1.99it/s]\n"
          ],
          "name": "stderr"
        },
        {
          "output_type": "stream",
          "text": [
            "\n",
            "Load Time:  188.132976770401\n",
            "Prediciton Time:  2.950075626373291\n",
            "Loss Time:  0.5604026317596436\n",
            "Backprop Time:  4.994873046875\n",
            "Total Time for One Batch:  200.90436244010925\n",
            "********************* LOSSES ****************************\n",
            "Segmentation Loss:  1.1006450653076172\n",
            "Depth Loss:  0.10176098346710205\n",
            "Total Loss:  1.6094506978988647\n",
            "mean IOU:  0.27186107635498047\n",
            "mean RMSE:  0.10176098346710205\n",
            "********************* ****** ****************************\n"
          ],
          "name": "stdout"
        },
        {
          "output_type": "stream",
          "text": [
            "\r  0%|          | 0/400 [00:00<?, ?it/s]"
          ],
          "name": "stderr"
        },
        {
          "output_type": "stream",
          "text": [
            "********* EPOCH 4 TIME: 201.65753388404846 seconds\n",
            "******************************************************************************************************************\n"
          ],
          "name": "stdout"
        },
        {
          "output_type": "stream",
          "text": [
            "100%|██████████| 400/400 [03:20<00:00,  1.99it/s]\n"
          ],
          "name": "stderr"
        },
        {
          "output_type": "stream",
          "text": [
            "\n",
            "Load Time:  188.05630493164062\n",
            "Prediciton Time:  2.9718754291534424\n",
            "Loss Time:  0.5691609382629395\n",
            "Backprop Time:  5.038147211074829\n",
            "Total Time for One Batch:  200.92179107666016\n",
            "********************* LOSSES ****************************\n",
            "Segmentation Loss:  1.099974513053894\n",
            "Depth Loss:  0.09744749963283539\n",
            "Total Loss:  1.5872124433517456\n",
            "mean IOU:  0.2719310224056244\n",
            "mean RMSE:  0.09744749963283539\n",
            "********************* ****** ****************************\n"
          ],
          "name": "stdout"
        },
        {
          "output_type": "stream",
          "text": [
            "\r  0%|          | 0/400 [00:00<?, ?it/s]"
          ],
          "name": "stderr"
        },
        {
          "output_type": "stream",
          "text": [
            "********* EPOCH 5 TIME: 201.69489979743958 seconds\n",
            "******************************************************************************************************************\n"
          ],
          "name": "stdout"
        },
        {
          "output_type": "stream",
          "text": [
            "100%|██████████| 400/400 [03:20<00:00,  1.99it/s]\n"
          ],
          "name": "stderr"
        },
        {
          "output_type": "stream",
          "text": [
            "\n",
            "Load Time:  188.04355645179749\n",
            "Prediciton Time:  2.9895684719085693\n",
            "Loss Time:  0.5676653385162354\n",
            "Backprop Time:  5.057231664657593\n",
            "Total Time for One Batch:  200.94576621055603\n",
            "********************* LOSSES ****************************\n",
            "Segmentation Loss:  1.099715232849121\n",
            "Depth Loss:  0.09362819790840149\n",
            "Total Loss:  1.5678565502166748\n",
            "mean IOU:  0.27195248007774353\n",
            "mean RMSE:  0.09362819790840149\n",
            "********************* ****** ****************************\n",
            "********* EPOCH 6 TIME: 201.70234394073486 seconds"
          ],
          "name": "stdout"
        },
        {
          "output_type": "stream",
          "text": [
            "\r  0%|          | 0/400 [00:00<?, ?it/s]"
          ],
          "name": "stderr"
        },
        {
          "output_type": "stream",
          "text": [
            "\n",
            "******************************************************************************************************************\n"
          ],
          "name": "stdout"
        },
        {
          "output_type": "stream",
          "text": [
            "100%|██████████| 400/400 [03:20<00:00,  1.99it/s]\n"
          ],
          "name": "stderr"
        },
        {
          "output_type": "stream",
          "text": [
            "\n",
            "Load Time:  188.2376573085785\n",
            "Prediciton Time:  2.915163516998291\n",
            "Loss Time:  0.5589213371276855\n",
            "Backprop Time:  4.940877914428711\n",
            "Total Time for One Batch:  200.92267322540283\n",
            "********************* LOSSES ****************************\n",
            "Segmentation Loss:  1.0993425846099854\n",
            "Depth Loss:  0.09161953628063202\n",
            "Total Loss:  1.5574390888214111\n",
            "mean IOU:  0.2719983160495758\n",
            "mean RMSE:  0.09161953628063202\n",
            "********************* ****** ****************************\n",
            "********* EPOCH 7 TIME: 201.67921900749207 seconds\n",
            "******************************************************************************************************************\n"
          ],
          "name": "stdout"
        },
        {
          "output_type": "stream",
          "text": [
            "100%|██████████| 400/400 [03:20<00:00,  1.99it/s]\n"
          ],
          "name": "stderr"
        },
        {
          "output_type": "stream",
          "text": [
            "\n",
            "Load Time:  188.29336309432983\n",
            "Prediciton Time:  2.9276888370513916\n",
            "Loss Time:  0.5587770938873291\n",
            "Backprop Time:  4.893030166625977\n",
            "Total Time for One Batch:  200.9275107383728\n",
            "********************* LOSSES ****************************\n",
            "Segmentation Loss:  1.0994404554367065\n",
            "Depth Loss:  0.08919430524110794\n",
            "Total Loss:  1.5454113483428955\n",
            "mean IOU:  0.2719811499118805\n",
            "mean RMSE:  0.08919430524110794\n",
            "********************* ****** ****************************\n"
          ],
          "name": "stdout"
        },
        {
          "output_type": "stream",
          "text": [
            "\r  0%|          | 0/400 [00:00<?, ?it/s]"
          ],
          "name": "stderr"
        },
        {
          "output_type": "stream",
          "text": [
            "********* EPOCH 8 TIME: 201.67530250549316 seconds\n",
            "******************************************************************************************************************\n"
          ],
          "name": "stdout"
        },
        {
          "output_type": "stream",
          "text": [
            "100%|██████████| 400/400 [03:20<00:00,  1.99it/s]\n"
          ],
          "name": "stderr"
        },
        {
          "output_type": "stream",
          "text": [
            "\n",
            "Load Time:  188.27317309379578\n",
            "Prediciton Time:  2.9502763748168945\n",
            "Loss Time:  0.5509569644927979\n",
            "Backprop Time:  4.88530969619751\n",
            "Total Time for One Batch:  200.94685316085815\n",
            "********************* LOSSES ****************************\n",
            "Segmentation Loss:  1.0989117622375488\n",
            "Depth Loss:  0.08668661117553711\n",
            "Total Loss:  1.532344937324524\n",
            "mean IOU:  0.27204638719558716\n",
            "mean RMSE:  0.08668661117553711\n",
            "********************* ****** ****************************\n",
            "********* EPOCH 9 TIME: 201.6936182975769 seconds\n",
            "******************************************************************************************************************\n"
          ],
          "name": "stdout"
        },
        {
          "output_type": "stream",
          "text": [
            "100%|██████████| 400/400 [03:20<00:00,  1.99it/s]\n"
          ],
          "name": "stderr"
        },
        {
          "output_type": "stream",
          "text": [
            "\n",
            "Load Time:  188.3225600719452\n",
            "Prediciton Time:  2.9045753479003906\n",
            "Loss Time:  0.5604803562164307\n",
            "Backprop Time:  4.895559549331665\n",
            "Total Time for One Batch:  200.90842413902283\n",
            "********************* LOSSES ****************************\n",
            "Segmentation Loss:  1.0990664958953857\n",
            "Depth Loss:  0.0852937176823616\n",
            "Total Loss:  1.5255351066589355\n",
            "mean IOU:  0.27202388644218445\n",
            "mean RMSE:  0.0852937176823616\n",
            "********************* ****** ****************************\n",
            "********* EPOCH 10 TIME: 201.66214966773987 seconds\n",
            "******************************************************************************************************************\n"
          ],
          "name": "stdout"
        },
        {
          "output_type": "stream",
          "text": [
            "100%|██████████| 400/400 [03:20<00:00,  1.99it/s]\n"
          ],
          "name": "stderr"
        },
        {
          "output_type": "stream",
          "text": [
            "\n",
            "Load Time:  188.2869095802307\n",
            "Prediciton Time:  2.950784683227539\n",
            "Loss Time:  0.5613503456115723\n",
            "Backprop Time:  4.896433115005493\n",
            "Total Time for One Batch:  200.95307993888855\n",
            "********************* LOSSES ****************************\n",
            "Segmentation Loss:  1.0988689661026\n",
            "Depth Loss:  0.0835961326956749\n",
            "Total Loss:  1.5168492794036865\n",
            "mean IOU:  0.27204644680023193\n",
            "mean RMSE:  0.0835961326956749\n",
            "********************* ****** ****************************\n"
          ],
          "name": "stdout"
        },
        {
          "output_type": "stream",
          "text": [
            "\r  0%|          | 0/400 [00:00<?, ?it/s]"
          ],
          "name": "stderr"
        },
        {
          "output_type": "stream",
          "text": [
            "********* EPOCH 11 TIME: 201.7142083644867 seconds\n",
            "******************************************************************************************************************\n"
          ],
          "name": "stdout"
        },
        {
          "output_type": "stream",
          "text": [
            "100%|██████████| 400/400 [03:20<00:00,  1.99it/s]\n"
          ],
          "name": "stderr"
        },
        {
          "output_type": "stream",
          "text": [
            "\n",
            "Load Time:  188.20257019996643\n",
            "Prediciton Time:  2.960824728012085\n",
            "Loss Time:  0.5600569248199463\n",
            "Backprop Time:  4.909669637680054\n",
            "Total Time for One Batch:  200.96735334396362\n",
            "********************* LOSSES ****************************\n",
            "Segmentation Loss:  1.0992801189422607\n",
            "Depth Loss:  0.08173912763595581\n",
            "Total Loss:  1.5079752206802368\n",
            "mean IOU:  0.2719845473766327\n",
            "mean RMSE:  0.08173912763595581\n",
            "********************* ****** ****************************\n"
          ],
          "name": "stdout"
        },
        {
          "output_type": "stream",
          "text": [
            "\r  0%|          | 0/400 [00:00<?, ?it/s]"
          ],
          "name": "stderr"
        },
        {
          "output_type": "stream",
          "text": [
            "********* EPOCH 12 TIME: 201.72569489479065 seconds\n",
            "******************************************************************************************************************\n"
          ],
          "name": "stdout"
        },
        {
          "output_type": "stream",
          "text": [
            "100%|██████████| 400/400 [03:20<00:00,  1.99it/s]\n"
          ],
          "name": "stderr"
        },
        {
          "output_type": "stream",
          "text": [
            "\n",
            "Load Time:  188.31027841567993\n",
            "Prediciton Time:  2.958051919937134\n",
            "Loss Time:  0.563906192779541\n",
            "Backprop Time:  4.8961098194122314\n",
            "Total Time for One Batch:  200.9066526889801\n",
            "********************* LOSSES ****************************\n",
            "Segmentation Loss:  1.0988538265228271\n",
            "Depth Loss:  0.08027179539203644\n",
            "Total Loss:  1.5002132654190063\n",
            "mean IOU:  0.272045761346817\n",
            "mean RMSE:  0.08027179539203644\n",
            "********************* ****** ****************************\n",
            "********* EPOCH 13 TIME: 201.6657955646515 seconds\n",
            "******************************************************************************************************************\n"
          ],
          "name": "stdout"
        },
        {
          "output_type": "stream",
          "text": [
            "100%|██████████| 400/400 [03:20<00:00,  1.99it/s]\n"
          ],
          "name": "stderr"
        },
        {
          "output_type": "stream",
          "text": [
            "\n",
            "Load Time:  188.29656410217285\n",
            "Prediciton Time:  2.9440343379974365\n",
            "Loss Time:  0.5533933639526367\n",
            "Backprop Time:  4.904317378997803\n",
            "Total Time for One Batch:  200.91998529434204\n",
            "********************* LOSSES ****************************\n",
            "Segmentation Loss:  1.0986701250076294\n",
            "Depth Loss:  0.07887016236782074\n",
            "Total Loss:  1.493021845817566\n",
            "mean IOU:  0.27207034826278687\n",
            "mean RMSE:  0.07887016236782074\n",
            "********************* ****** ****************************\n"
          ],
          "name": "stdout"
        },
        {
          "output_type": "stream",
          "text": [
            "\r  0%|          | 0/400 [00:00<?, ?it/s]"
          ],
          "name": "stderr"
        },
        {
          "output_type": "stream",
          "text": [
            "********* EPOCH 14 TIME: 201.66942858695984 seconds\n",
            "******************************************************************************************************************\n"
          ],
          "name": "stdout"
        },
        {
          "output_type": "stream",
          "text": [
            "100%|██████████| 400/400 [03:20<00:00,  1.99it/s]\n"
          ],
          "name": "stderr"
        },
        {
          "output_type": "stream",
          "text": [
            "\n",
            "Load Time:  188.29657530784607\n",
            "Prediciton Time:  2.9339334964752197\n",
            "Loss Time:  0.5593113899230957\n",
            "Backprop Time:  4.932789087295532\n",
            "Total Time for One Batch:  200.9379482269287\n",
            "********************* LOSSES ****************************\n",
            "Segmentation Loss:  1.0984381437301636\n",
            "Depth Loss:  0.07684338092803955\n",
            "Total Loss:  1.4826542139053345\n",
            "mean IOU:  0.2720998525619507\n",
            "mean RMSE:  0.07684338092803955\n",
            "********************* ****** ****************************\n"
          ],
          "name": "stdout"
        },
        {
          "output_type": "stream",
          "text": [
            "\r  0%|          | 0/100 [00:00<?, ?it/s]"
          ],
          "name": "stderr"
        },
        {
          "output_type": "stream",
          "text": [
            "********* EPOCH 15 TIME: 201.6884846687317 seconds\n",
            "******************************************************************************************************************\n",
            "588729344\n",
            "588729344\n"
          ],
          "name": "stdout"
        },
        {
          "output_type": "stream",
          "text": [
            "100%|██████████| 100/100 [00:16<00:00,  5.90it/s]"
          ],
          "name": "stderr"
        },
        {
          "output_type": "stream",
          "text": [
            "\n",
            "Load Time:  14.728970527648926\n",
            "Prediciton Time:  0.6433484554290771\n",
            "Loss Time:  0.12499690055847168\n",
            "Total Time for One Batch:  16.94770622253418\n",
            "********************* LOSSES ****************************\n",
            "Segmentation Loss:  1.0975524187088013\n",
            "Depth Loss:  0.08631053566932678\n",
            "Total Loss:  1.1838629245758057\n",
            "mean IOU:  0.27171507477760315\n",
            "mean RMSE:  0.08631053566932678\n",
            "********************* ****** ****************************\n",
            "Total Time:  2840.762004137039\n"
          ],
          "name": "stdout"
        },
        {
          "output_type": "stream",
          "text": [
            "\n"
          ],
          "name": "stderr"
        }
      ]
    },
    {
      "cell_type": "code",
      "metadata": {
        "id": "qfcfKpLx3Z0J",
        "colab_type": "code",
        "colab": {
          "base_uri": "https://localhost:8080/",
          "height": 256
        },
        "outputId": "df72c2ec-162f-4b41-a709-ba6eaf5203af"
      },
      "source": [
        "mask_gt, depth_gt, mask_ot, depth_ot = test(test_loader, model)"
      ],
      "execution_count": 46,
      "outputs": [
        {
          "output_type": "stream",
          "text": [
            "100%|██████████| 100/100 [00:16<00:00,  5.92it/s]"
          ],
          "name": "stderr"
        },
        {
          "output_type": "stream",
          "text": [
            "\n",
            "Load Time:  14.823938608169556\n",
            "Prediciton Time:  0.5934529304504395\n",
            "Loss Time:  0.11877989768981934\n",
            "Total Time for One Batch:  16.90640425682068\n",
            "********************* LOSSES ****************************\n",
            "Segmentation Loss:  1.0993460416793823\n",
            "Depth Loss:  0.08630654215812683\n",
            "Total Loss:  1.185652732849121\n",
            "mean IOU:  0.2711428105831146\n",
            "mean RMSE:  0.08630654215812683\n",
            "********************* ****** ****************************\n"
          ],
          "name": "stdout"
        },
        {
          "output_type": "stream",
          "text": [
            "\n"
          ],
          "name": "stderr"
        }
      ]
    },
    {
      "cell_type": "code",
      "metadata": {
        "id": "AN_1MrEqqRtA",
        "colab_type": "code",
        "colab": {}
      },
      "source": [
        "# mask_out = (mask_ot[1].cpu().numpy().transpose(1,2,0)*255).astype(np.uint8)[:,:,0]\n",
        "# depth_out = (depth_ot[1].cpu().numpy().transpose(1,2,0)*255).astype(np.uint8)[:,:,0]\n",
        "# mask_gt = (mask_gt[1].cpu().numpy().transpose(1,2,0)*255).astype(np.uint8)[:,:,0]\n",
        "# depth_gt = (depth_gt[1].cpu().numpy().transpose(1,2,0)*255).astype(np.uint8)[:,:,0]"
      ],
      "execution_count": 53,
      "outputs": []
    },
    {
      "cell_type": "code",
      "metadata": {
        "id": "iY3Iukmpj-IA",
        "colab_type": "code",
        "colab": {
          "base_uri": "https://localhost:8080/",
          "height": 287
        },
        "outputId": "6f6b4356-6eba-43dc-a8a6-351b5c26b5d7"
      },
      "source": [
        "# img = unnorm_mask(mask_ot[28])\n",
        "img[img >= 150] = 255\n",
        "img[img < 150]  = 0\n",
        "plt.imshow((img.cpu().numpy().transpose(1,2,0)).astype(np.uint8)[:,:,0])"
      ],
      "execution_count": 63,
      "outputs": [
        {
          "output_type": "execute_result",
          "data": {
            "text/plain": [
              "<matplotlib.image.AxesImage at 0x7f6a4eaa6b38>"
            ]
          },
          "metadata": {
            "tags": []
          },
          "execution_count": 63
        },
        {
          "output_type": "display_data",
          "data": {
            "image/png": "[encoded data removed]",
            "text/plain": [
              "<Figure size 432x288 with 1 Axes>"
            ]
          },
          "metadata": {
            "tags": [],
            "needs_background": "light"
          }
        }
      ]
    },
    {
      "cell_type": "code",
      "metadata": {
        "id": "v5DnfhzwplXD",
        "colab_type": "code",
        "colab": {
          "base_uri": "https://localhost:8080/",
          "height": 704
        },
        "outputId": "37c11598-fa22-4a77-bd31-650bf2b635b4"
      },
      "source": [
        "unnorm_mask = UnNormalize(mean= [0.09639497846364975*255], std= [0.2823259234428406*255])\n",
        "unnorm_depth = UnNormalize(mean= [0.40525129437446594*255], std= [0.24363896250724792*255])\n",
        "\n",
        "plt.figure(figsize=(12,12))\n",
        "for i in range(1,20,4):\n",
        "    plt.subplot(5,4,i)\n",
        "    img = mask_ot[i+5]\n",
        "    unnorm_mask(img)\n",
        "    img[img >= 150] = 255\n",
        "    img[img < 150]  = 0\n",
        "    img = (img.cpu().numpy().transpose(1,2,0)).astype(np.uint8)[:,:,0]\n",
        "    plt.imshow(img)\n",
        "    plt.subplot(5,4,i+1)\n",
        "    img = mask_gt[i+5]\n",
        "    unnorm_mask(img)\n",
        "    img = (img.cpu().numpy().transpose(1,2,0)).astype(np.uint8)[:,:,0]\n",
        "    plt.imshow(img)\n",
        "    plt.subplot(5,4,i+2)\n",
        "    img = depth_ot[i+5]\n",
        "    unnorm_depth(img)\n",
        "    img = (img.cpu().numpy().transpose(1,2,0)).astype(np.uint8)[:,:,0]\n",
        "    plt.imshow(img, cmap='binary_r')\n",
        "    plt.subplot(5,4,i+3)\n",
        "    img = depth_gt[i+5]\n",
        "    unnorm_depth(img)\n",
        "    img = (img.cpu().numpy().transpose(1,2,0)).astype(np.uint8)[:,:,0]\n",
        "    plt.imshow(img, cmap='binary_r')"
      ],
      "execution_count": 65,
      "outputs": [
        {
          "output_type": "display_data",
          "data": {
            "image/png": "[encoded data removed]",
            "text/plain": [
              "<Figure size 864x864 with 20 Axes>"
            ]
          },
          "metadata": {
            "tags": [],
            "needs_background": "light"
          }
        }
      ]
    },
    {
      "cell_type": "code",
      "metadata": {
        "id": "YyL05HJ7lbls",
        "colab_type": "code",
        "colab": {}
      },
      "source": [
        ""
      ],
      "execution_count": null,
      "outputs": []
    }
  ]
}