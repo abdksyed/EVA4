{
  "nbformat": 4,
  "nbformat_minor": 0,
  "metadata": {
    "colab": {
      "name": "01 Handwritten Number Detection using PyTorch.ipynb",
      "provenance": [],
      "collapsed_sections": [],
      "authorship_tag": "ABX9TyMB8Pl1S7GELbNt7oPwplSB",
      "include_colab_link": true
    },
    "kernelspec": {
      "name": "python3",
      "display_name": "Python 3"
    },
    "accelerator": "GPU"
  },
  "cells": [
    {
      "cell_type": "markdown",
      "metadata": {
        "id": "view-in-github",
        "colab_type": "text"
      },
      "source": [
        "<a href=\"https://colab.research.google.com/github/abksyed/02MNIST/blob/master/01%20Handwritten%20Number%20Detection%20using%20PyTorch.ipynb\" target=\"_parent\"><img src=\"https://colab.research.google.com/assets/colab-badge.svg\" alt=\"Open In Colab\"/></a>"
      ]
    },
    {
      "cell_type": "code",
      "metadata": {
        "id": "M0Nh_8EwdbMN",
        "colab_type": "code",
        "colab": {}
      },
      "source": [
        "import torch\n",
        "import torch.nn as nn\n",
        "import torch.nn.functional as F\n",
        "import torch.optim as optim\n",
        "from torchvision import datasets, transforms\n",
        "import matplotlib.pyplot as plt"
      ],
      "execution_count": 0,
      "outputs": []
    },
    {
      "cell_type": "markdown",
      "metadata": {
        "id": "X8y3iIEe59v-",
        "colab_type": "text"
      },
      "source": [
        "**Creating Class**"
      ]
    },
    {
      "cell_type": "code",
      "metadata": {
        "id": "FH67EEGldsNi",
        "colab_type": "code",
        "colab": {}
      },
      "source": [
        "class Net(nn.Module):\n",
        "\n",
        "  def __init__(self):\n",
        "    super(Net, self).__init__() # Inheriting __init__ method from  nn.Module Class\n",
        "    self.conv1 = nn.Conv2d(1, 32, 3, padding= 1) #Creating Conv2d Method, with 1 channels in input image (28 x 28 x 1 - before padding), \n",
        "                                                  #and giving 32 channels in the output using 32 kernels of size 3 x 3 x 1 and padding of 1. Receptive Field of 3\n",
        "    \n",
        "    self.conv2 = nn.Conv2d(32, 64, 3, padding= 1) #Creating Conv2d Method, with 32 channels in input image (28 x 28 x 32 - before padding), \n",
        "                                                  #and giving 64 channels in the output using 64 kernels of size 3 x 3 x 1 and padding of 1. Receptive Field of 5\n",
        "    \n",
        "    self.pool1 = nn.MaxPool2d(2,2) #Creating a MaxPool2d Method, with kernel of 2 and stride 2, taking an input of (28 x 28 x 64) giving an output of (14 X 14 X 64). Receptive Field of 10\n",
        "    \n",
        "    self.conv3 = nn.Conv2d(64, 128, 3, padding= 1) #Creating Conv2d Method, with 64 channels in input image (14 x 14 x 64 - before padding), \n",
        "                                                    #and giving 128 channels in the output using 128 kernels of size 3 x 3 x 1 and padding of 1. Receptive Field of 12\n",
        "    \n",
        "    self.conv4 = nn.Conv2d(128, 256, 3, padding= 1) #Creating Conv2d Method, with 128 channels in input image (14 x 14 x 128 - before padding), \n",
        "                                                    #and giving 256 channels in the output using 256 kernels of size 3 x 3 x 1 and padding of 1. Receptive Field of 14.\n",
        "    \n",
        "    self.pool2 = nn.MaxPool2d(2,2) #Creating a MaxPool2d Method, with kernel of 2 and stride 2, taking an input of (14 x 14 x 256) giving an output of (7 X 7 X 256). Receptive Field of 28\n",
        "    \n",
        "    self.conv5 = nn.Conv2d(256, 512, 3) #Creating Conv2d Method, with 256 channels in input image (7 x 7 x 256), \n",
        "                                                    #and giving 512 channels in the output (5 x 5 x 512) using 512 kernels of size 3 x 3 x 1. Receptive Field of 30.\n",
        "    \n",
        "    self.conv6 = nn.Conv2d(512, 1024, 3) #Creating Conv2d Method, with 512 channels in input image (5 x 5 x 512), \n",
        "                                                    #and giving 1024 channels in the output (3 x 3 x 1024) using 1024 kernels of size 3 x 3 x 1. Receptive Field of 32.                                                \n",
        "    \n",
        "    self.conv7 = nn.Conv2d(1024, 10, 3) #Creating Conv2d Method, with 256 channels in input image (3 x 3 x 1024), \n",
        "                                                    #and giving 10 channels in the output (1 x 1 x 10) using 10 kernels of size 3 x 3 x 1. Receptive Field of 34\n",
        "\n",
        "  def forward(self,x):\n",
        "\n",
        "    x = self.pool1(F.relu(self.conv2(F.relu(self.conv1(x)))))\n",
        "    x = self.pool2(F.relu(self.conv4(F.relu(self.conv3(x)))))\n",
        "    x = F.relu(self.conv7(F.relu(self.conv6(F.relu(self.conv5(x))))))\n",
        "\n",
        "    x = x.view(-1, 10)\n",
        "    \n",
        "    return F.log_softmax(x)"
      ],
      "execution_count": 0,
      "outputs": []
    },
    {
      "cell_type": "markdown",
      "metadata": {
        "id": "Fhhx4yuU6HMO",
        "colab_type": "text"
      },
      "source": [
        "**Initantiating Class**"
      ]
    },
    {
      "cell_type": "code",
      "metadata": {
        "id": "ObF_2yHz6NLy",
        "colab_type": "code",
        "outputId": "538e5558-540a-4f17-e69c-4d2a0dc47b1a",
        "colab": {
          "base_uri": "https://localhost:8080/",
          "height": 425
        }
      },
      "source": [
        "!pip install torchsummary\n",
        "\n",
        "from torchsummary import summary\n",
        "\n",
        "use_cuda = torch.cuda.is_available()\n",
        "device = torch.device(\"cuda\" if use_cuda else \"cpu\")\n",
        "model = Net().to(device)\n",
        "summary(model, input_size=(1, 28, 28))"
      ],
      "execution_count": 3,
      "outputs": [
        {
          "output_type": "stream",
          "text": [
            "Requirement already satisfied: torchsummary in /usr/local/lib/python3.6/dist-packages (1.5.1)\n",
            "----------------------------------------------------------------\n",
            "        Layer (type)               Output Shape         Param #\n",
            "================================================================\n",
            "            Conv2d-1           [-1, 32, 28, 28]             320\n",
            "            Conv2d-2           [-1, 64, 28, 28]          18,496\n",
            "         MaxPool2d-3           [-1, 64, 14, 14]               0\n",
            "            Conv2d-4          [-1, 128, 14, 14]          73,856\n",
            "            Conv2d-5          [-1, 256, 14, 14]         295,168\n",
            "         MaxPool2d-6            [-1, 256, 7, 7]               0\n",
            "            Conv2d-7            [-1, 512, 5, 5]       1,180,160\n",
            "            Conv2d-8           [-1, 1024, 3, 3]       4,719,616\n",
            "            Conv2d-9             [-1, 10, 1, 1]          92,170\n",
            "================================================================\n",
            "Total params: 6,379,786\n",
            "Trainable params: 6,379,786\n",
            "Non-trainable params: 0\n",
            "----------------------------------------------------------------\n",
            "Input size (MB): 0.00\n",
            "Forward/backward pass size (MB): 1.51\n",
            "Params size (MB): 24.34\n",
            "Estimated Total Size (MB): 25.85\n",
            "----------------------------------------------------------------\n"
          ],
          "name": "stdout"
        },
        {
          "output_type": "stream",
          "text": [
            "/usr/local/lib/python3.6/dist-packages/ipykernel_launcher.py:38: UserWarning: Implicit dimension choice for log_softmax has been deprecated. Change the call to include dim=X as an argument.\n"
          ],
          "name": "stderr"
        }
      ]
    },
    {
      "cell_type": "markdown",
      "metadata": {
        "id": "ZtKV9A608BIw",
        "colab_type": "text"
      },
      "source": [
        "**Creating Batch and Datasets**"
      ]
    },
    {
      "cell_type": "code",
      "metadata": {
        "id": "-Du5W_iD60yg",
        "colab_type": "code",
        "colab": {}
      },
      "source": [
        "torch.manual_seed(1)\n",
        "batch = 128 #Creating each batch of 128 images.\n",
        "\n",
        "kwargs = {'num_workers': 1, 'pin_memory': True} if use_cuda else {} #Creating Key word arguments to be used when CUDA is available.\n",
        "\n",
        "train_loader = torch.utils.data.DataLoader(\n",
        "    datasets.MNIST('../data', train= True, download= True, \n",
        "                   transform= transforms.Compose([\n",
        "                                                  transforms.ToTensor(), #Converting it to Tensor\n",
        "                                                  transforms.Normalize((0.1307,), (0.3081,)) #Normalize((a,b,c)mean, (p,q,r)std dev) for 3 channels mean and std dev a,p ; b,q and c,r respectively.\n",
        "                   ]                    \n",
        "                   )),\n",
        "    batch_size = batch, shuffle= True, **kwargs)\n",
        "\n",
        "test_loader = torch.utils.data.DataLoader(\n",
        "    datasets.MNIST('../data', train= False,\n",
        "                  transform= transforms.Compose([\n",
        "                                                 transforms.ToTensor(),\n",
        "                                                 transforms.Normalize((0.1307,), (0.3081,))\n",
        "                  ])),\n",
        "    batch_size = batch, shuffle= True, **kwargs\n",
        ")"
      ],
      "execution_count": 0,
      "outputs": []
    },
    {
      "cell_type": "markdown",
      "metadata": {
        "id": "GtAXaGvwonuY",
        "colab_type": "text"
      },
      "source": [
        "**Training the Data**"
      ]
    },
    {
      "cell_type": "code",
      "metadata": {
        "id": "4elBoycvTjI9",
        "colab_type": "code",
        "colab": {}
      },
      "source": [
        "loss_values = []"
      ],
      "execution_count": 0,
      "outputs": []
    },
    {
      "cell_type": "code",
      "metadata": {
        "id": "ob56Zk7aoPJr",
        "colab_type": "code",
        "colab": {}
      },
      "source": [
        "from tqdm import tqdm\n",
        "\n",
        "def train(model, device, train_loader, optimizer, epoch):\n",
        "  model.train() #Setting the model in Training mode.\n",
        "  pbar = tqdm(train_loader) #Wrapping iterable in tqdm shows the progess bar of the iterable when looping\n",
        "\n",
        "  for batch_idx, (data,target) in enumerate(pbar):\n",
        "    data, target = data.to(device), target.to(device) #Converting the variables to work on GPU.\n",
        "    optimizer.zero_grad() #Clearing all the gradients from the previous run for the new batch.\n",
        "    output = model(data) #Finding the output.\n",
        "    loss = F.nll_loss(output, target) #Calculating Loss.\n",
        "    loss.backward() #Backpropogation\n",
        "    optimizer.step()\n",
        "    pbar.set_description(desc= f'loss= {loss.item()} batch_id = {batch_idx}') #Giving description to the progess bar\n",
        "\n",
        "def test(model, device, test_loader):\n",
        " model.eval() #Setting the model to Eval or Testing Mode.\n",
        " test_loss = 0\n",
        " correct = 0\n",
        " with torch.no_grad(): #Asking not to use gradients, to reduce memory usage as Gradients are not needed when evaluation.\n",
        "  for data, target in test_loader:\n",
        "    data, target = data.to(device), target.to(device)\n",
        "    output = model(data)\n",
        "    test_loss += F.nll_loss(output, target, reduction= 'sum').item() #Sum up the batch loss\n",
        "    pred = output.argmax(dim= 1, keepdim= True) #get the index of max log-probability\n",
        "    correct += pred.eq(target.view_as(pred)).sum().item()\n",
        "\n",
        "  test_loss /= len(test_loader.dataset)\n",
        "\n",
        "  print('\\nTest Set: Average Loss: {:4f}, Accuracy {}/{} ){:.0f}%)\\n'.format(\n",
        "      test_loss, correct, len(test_loader.dataset),\n",
        "      100. * correct / len(test_loader.dataset)\n",
        "      ))\n",
        "  loss_values.append(100. * correct / len(test_loader.dataset))"
      ],
      "execution_count": 0,
      "outputs": []
    },
    {
      "cell_type": "code",
      "metadata": {
        "id": "Jcau9IEbeWx9",
        "colab_type": "code",
        "outputId": "48555729-316d-4642-9e0a-c2769c5047fe",
        "colab": {
          "base_uri": "https://localhost:8080/",
          "height": 646
        }
      },
      "source": [
        "model = Net().to(device) #Intantiating a class\n",
        "\n",
        "optimizer = optim.SGD(model.parameters(), lr= 0.01, momentum= 0.9)\n",
        "\n",
        "for epoch in range(1,10):\n",
        "  train(model, device, train_loader, optimizer, epoch)\n",
        "  test(model, device, test_loader)"
      ],
      "execution_count": 7,
      "outputs": [
        {
          "output_type": "stream",
          "text": [
            "  0%|          | 0/469 [00:00<?, ?it/s]/usr/local/lib/python3.6/dist-packages/ipykernel_launcher.py:38: UserWarning: Implicit dimension choice for log_softmax has been deprecated. Change the call to include dim=X as an argument.\n",
            "loss= 1.794254183769226 batch_id = 468: 100%|██████████| 469/469 [00:37<00:00, 12.49it/s]\n",
            "  0%|          | 0/469 [00:00<?, ?it/s]"
          ],
          "name": "stderr"
        },
        {
          "output_type": "stream",
          "text": [
            "\n",
            "Test Set: Average Loss: 1.726100, Accuracy 3786/10000 )38%)\n",
            "\n"
          ],
          "name": "stdout"
        },
        {
          "output_type": "stream",
          "text": [
            "loss= 0.8433466553688049 batch_id = 468: 100%|██████████| 469/469 [00:37<00:00, 12.48it/s]\n",
            "  0%|          | 0/469 [00:00<?, ?it/s]"
          ],
          "name": "stderr"
        },
        {
          "output_type": "stream",
          "text": [
            "\n",
            "Test Set: Average Loss: 0.835172, Accuracy 6936/10000 )69%)\n",
            "\n"
          ],
          "name": "stdout"
        },
        {
          "output_type": "stream",
          "text": [
            "loss= 0.8340342044830322 batch_id = 468: 100%|██████████| 469/469 [00:38<00:00, 12.20it/s]\n",
            "  0%|          | 0/469 [00:00<?, ?it/s]"
          ],
          "name": "stderr"
        },
        {
          "output_type": "stream",
          "text": [
            "\n",
            "Test Set: Average Loss: 0.734237, Accuracy 7863/10000 )79%)\n",
            "\n"
          ],
          "name": "stdout"
        },
        {
          "output_type": "stream",
          "text": [
            "loss= 0.45358455181121826 batch_id = 468: 100%|██████████| 469/469 [00:38<00:00, 12.30it/s]\n",
            "  0%|          | 0/469 [00:00<?, ?it/s]"
          ],
          "name": "stderr"
        },
        {
          "output_type": "stream",
          "text": [
            "\n",
            "Test Set: Average Loss: 0.500805, Accuracy 8862/10000 )89%)\n",
            "\n"
          ],
          "name": "stdout"
        },
        {
          "output_type": "stream",
          "text": [
            "loss= 0.43458905816078186 batch_id = 468: 100%|██████████| 469/469 [00:38<00:00, 12.30it/s]\n",
            "  0%|          | 0/469 [00:00<?, ?it/s]"
          ],
          "name": "stderr"
        },
        {
          "output_type": "stream",
          "text": [
            "\n",
            "Test Set: Average Loss: 0.494560, Accuracy 8905/10000 )89%)\n",
            "\n"
          ],
          "name": "stdout"
        },
        {
          "output_type": "stream",
          "text": [
            "loss= 0.5092942118644714 batch_id = 468: 100%|██████████| 469/469 [00:38<00:00, 12.32it/s]\n",
            "  0%|          | 0/469 [00:00<?, ?it/s]"
          ],
          "name": "stderr"
        },
        {
          "output_type": "stream",
          "text": [
            "\n",
            "Test Set: Average Loss: 0.497683, Accuracy 8907/10000 )89%)\n",
            "\n"
          ],
          "name": "stdout"
        },
        {
          "output_type": "stream",
          "text": [
            "loss= 0.5324965119361877 batch_id = 468: 100%|██████████| 469/469 [00:38<00:00, 12.30it/s]\n",
            "  0%|          | 0/469 [00:00<?, ?it/s]"
          ],
          "name": "stderr"
        },
        {
          "output_type": "stream",
          "text": [
            "\n",
            "Test Set: Average Loss: 0.492099, Accuracy 8920/10000 )89%)\n",
            "\n"
          ],
          "name": "stdout"
        },
        {
          "output_type": "stream",
          "text": [
            "loss= 0.43828654289245605 batch_id = 468: 100%|██████████| 469/469 [00:38<00:00, 12.32it/s]\n",
            "  0%|          | 0/469 [00:00<?, ?it/s]"
          ],
          "name": "stderr"
        },
        {
          "output_type": "stream",
          "text": [
            "\n",
            "Test Set: Average Loss: 0.495550, Accuracy 8909/10000 )89%)\n",
            "\n"
          ],
          "name": "stdout"
        },
        {
          "output_type": "stream",
          "text": [
            "loss= 0.4560554027557373 batch_id = 468: 100%|██████████| 469/469 [00:38<00:00, 12.26it/s]\n"
          ],
          "name": "stderr"
        },
        {
          "output_type": "stream",
          "text": [
            "\n",
            "Test Set: Average Loss: 0.492811, Accuracy 8912/10000 )89%)\n",
            "\n"
          ],
          "name": "stdout"
        }
      ]
    },
    {
      "cell_type": "code",
      "metadata": {
        "id": "h6Pl6E9Bkzjl",
        "colab_type": "code",
        "colab": {
          "base_uri": "https://localhost:8080/",
          "height": 282
        },
        "outputId": "1f272b2b-031a-4321-cf13-e4b2fa23833a"
      },
      "source": [
        "plt.plot(loss_values)"
      ],
      "execution_count": 8,
      "outputs": [
        {
          "output_type": "execute_result",
          "data": {
            "text/plain": [
              "[<matplotlib.lines.Line2D at 0x7fa760a39588>]"
            ]
          },
          "metadata": {
            "tags": []
          },
          "execution_count": 8
        },
        {
          "output_type": "display_data",
          "data": {
            "image/png": "[encoded data removed]",
            "text/plain": [
              "<Figure size 432x288 with 1 Axes>"
            ]
          },
          "metadata": {
            "tags": []
          }
        }
      ]
    },
    {
      "cell_type": "code",
      "metadata": {
        "id": "YEzau3wB2Pk2",
        "colab_type": "code",
        "colab": {}
      },
      "source": [
        ""
      ],
      "execution_count": 0,
      "outputs": []
    }
  ]
}