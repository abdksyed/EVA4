{
  "nbformat": 4,
  "nbformat_minor": 0,
  "metadata": {
    "colab": {
      "name": "EVA4_S5_Assignment.ipynb",
      "provenance": [],
      "collapsed_sections": [],
      "include_colab_link": true
    },
    "kernelspec": {
      "name": "python3",
      "display_name": "Python 3"
    },
    "accelerator": "GPU"
  },
  "cells": [
    {
      "cell_type": "markdown",
      "metadata": {
        "id": "view-in-github",
        "colab_type": "text"
      },
      "source": [
        "<a href=\"https://colab.research.google.com/github/abksyed/EVA4/blob/master/S5/EVA4_S5_Assignment_iter03.ipynb\" target=\"_parent\"><img src=\"https://colab.research.google.com/assets/colab-badge.svg\" alt=\"Open In Colab\"/></a>"
      ]
    },
    {
      "cell_type": "markdown",
      "metadata": {
        "id": "T8lZzUIiRWyN",
        "colab_type": "text"
      },
      "source": [
        "#Import Statements"
      ]
    },
    {
      "cell_type": "code",
      "metadata": {
        "id": "uav9WpxSOSmp",
        "colab_type": "code",
        "outputId": "8ba73f8d-c830-4979-f4ff-ed80eaf33efa",
        "colab": {
          "base_uri": "https://localhost:8080/",
          "height": 34
        }
      },
      "source": [
        "from __future__ import print_function\n",
        "import torch\n",
        "import torch.nn as nn\n",
        "import torch.nn.functional as F\n",
        "import torch.optim as optim\n",
        "from torchvision import datasets, transforms"
      ],
      "execution_count": 0,
      "outputs": [
        {
          "output_type": "stream",
          "text": [
            "Requirement already satisfied: torch in /usr/local/lib/python3.6/dist-packages (1.4.0)\n"
          ],
          "name": "stdout"
        }
      ]
    },
    {
      "cell_type": "markdown",
      "metadata": {
        "id": "I98VURjCRaiQ",
        "colab_type": "text"
      },
      "source": [
        "# Targets"
      ]
    },
    {
      "cell_type": "markdown",
      "metadata": {
        "id": "krJ30b6-P9DC",
        "colab_type": "text"
      },
      "source": [
        "**Overall Target to Acheive**\n",
        " \n",
        "\n",
        "1.   99.4% (this must be consistently shown in your last few epochs, and not a one-time achievement)\n",
        "2.   Less than or equal to 15 Epochs\n",
        "3.   Less than 10000 Parameters\n",
        "\n",
        "*Target Acheived in Last Iteration*\n",
        "\n",
        "1.   Parameters Used: **7624**\n",
        "1.   Test Accuracy: **99.27%**\n",
        "2.   Training Accuracy: **100%**\n",
        "2.   Epochs Used: **15**\n",
        "\n",
        "*Target for this Iteration:*\n",
        "\n",
        "1.   Reduce Over-fitting\n",
        "2.   Add Dropout to reduce overfitting effeciency"
      ]
    },
    {
      "cell_type": "markdown",
      "metadata": {
        "id": "6aO2zedARdx6",
        "colab_type": "text"
      },
      "source": [
        "#Raw Data Statistics"
      ]
    },
    {
      "cell_type": "code",
      "metadata": {
        "id": "ssmdtShCPSJ3",
        "colab_type": "code",
        "outputId": "0bc5acc4-9528-458b-998f-0edc35b00847",
        "colab": {
          "base_uri": "https://localhost:8080/",
          "height": 153
        }
      },
      "source": [
        "#Getting to know Data\n",
        "data = datasets.MNIST('./data', train= True, transform= transforms.Compose([transforms.ToTensor(),]), download= True)\n",
        "\n",
        "exp = data.data\n",
        "exp = data.transform(exp.numpy())\n",
        "\n",
        "print('Train Statistics')\n",
        "print(' - Numpy Shape:', data.data.cpu().numpy().shape)\n",
        "print(' - Tensor Shape:', data.data.size())\n",
        "print(' - min:', torch.min(exp))\n",
        "print(' - max:', torch.max(exp))\n",
        "print(' - mean:', torch.mean(exp))\n",
        "print(' - std:', torch.std(exp))\n",
        "print(' - var:', torch.var(exp))"
      ],
      "execution_count": 0,
      "outputs": [
        {
          "output_type": "stream",
          "text": [
            "Train Statistics\n",
            " - Numpy Shape: (60000, 28, 28)\n",
            " - Tensor Shape: torch.Size([60000, 28, 28])\n",
            " - min: tensor(0.)\n",
            " - max: tensor(1.)\n",
            " - mean: tensor(0.1305)\n",
            " - std: tensor(0.3081)\n",
            " - var: tensor(0.0949)\n"
          ],
          "name": "stdout"
        }
      ]
    },
    {
      "cell_type": "markdown",
      "metadata": {
        "id": "9vYMCFayZNOe",
        "colab_type": "text"
      },
      "source": [
        "#Transforming Raw Data to Normalized Data"
      ]
    },
    {
      "cell_type": "code",
      "metadata": {
        "id": "F_I0mdJXViHB",
        "colab_type": "code",
        "colab": {}
      },
      "source": [
        "#Transforming Data (Normalizing to mean=1, std= 0)\n",
        "train_transform = transforms.Compose([\n",
        "                                      transforms.ToTensor(),\n",
        "                                      transforms.Normalize((0.1311,), (0.3081,))\n",
        "]\n",
        ")\n",
        "\n",
        "test_transform = transforms.Compose([\n",
        "                                     transforms.ToTensor(),\n",
        "                                     transforms.Normalize((0.1311,),(0.3081,))\n",
        "])"
      ],
      "execution_count": 0,
      "outputs": []
    },
    {
      "cell_type": "markdown",
      "metadata": {
        "id": "xbRjcrBZZSOu",
        "colab_type": "text"
      },
      "source": [
        "#Creating Train/Test Split"
      ]
    },
    {
      "cell_type": "code",
      "metadata": {
        "id": "0iY_810tYFOH",
        "colab_type": "code",
        "colab": {}
      },
      "source": [
        "#Getting Train and Test Data\n",
        "train = datasets.MNIST('./data', train= True, transform= train_transform)\n",
        "test = datasets.MNIST('./data', train= False, transform= test_transform)"
      ],
      "execution_count": 0,
      "outputs": []
    },
    {
      "cell_type": "markdown",
      "metadata": {
        "id": "4zj8qSLYZWUz",
        "colab_type": "text"
      },
      "source": [
        "#Dataloader Arguments & Test/Train Dataloaders"
      ]
    },
    {
      "cell_type": "code",
      "metadata": {
        "id": "BOXq3mHkZbwR",
        "colab_type": "code",
        "outputId": "a29fedf4-e223-4973-b2d0-da80737cc8f0",
        "colab": {
          "base_uri": "https://localhost:8080/",
          "height": 34
        }
      },
      "source": [
        "seed = 1\n",
        "\n",
        "#CUDA Availability\n",
        "cuda = torch.cuda.is_available()\n",
        "print(\"CUDA Available?\", cuda)\n",
        "\n",
        "#For Reproducibility\n",
        "torch.manual_seed(seed)\n",
        "\n",
        "if cuda:\n",
        "    torch.cuda.manual_seed(seed)\n",
        "\n",
        "dataloader_args = dict(shuffle=True, batch_size=64, num_workers=4, pin_memory= True) if cuda else dict(shuffle= True, batch_size=64)\n",
        "\n",
        "#Train Dataloader\n",
        "train_loader = torch.utils.data.DataLoader(train, **dataloader_args)\n",
        "\n",
        "#Test Dataloader\n",
        "test_loader = torch.utils.data.DataLoader(test, **dataloader_args)"
      ],
      "execution_count": 0,
      "outputs": [
        {
          "output_type": "stream",
          "text": [
            "CUDA Available? True\n"
          ],
          "name": "stdout"
        }
      ]
    },
    {
      "cell_type": "code",
      "metadata": {
        "id": "s0jiKEl0YVTC",
        "colab_type": "code",
        "outputId": "755b5445-4928-4def-9e77-a0120adb60e4",
        "colab": {
          "base_uri": "https://localhost:8080/",
          "height": 486
        }
      },
      "source": [
        "#Testing Normalized Data Statistics\n",
        "\n",
        "train_numpy = train.train_data\n",
        "train_numpy = train.transform(train_numpy.numpy())\n",
        "\n",
        "print('[Train]')\n",
        "print(' - Numpy Shape:', train_numpy.shape)\n",
        "print(' - Tensor Shape:', train.data.size())\n",
        "print(' - min:', torch.min(train_numpy))\n",
        "print(' - max:', torch.max(train_numpy))\n",
        "print(' - mean:', torch.mean(train_numpy))\n",
        "print(' - std:', torch.std(train_numpy))\n",
        "print(' - var:', torch.var(train_numpy))\n",
        "\n",
        "dataiter = iter(train_loader)\n",
        "images, labels = dataiter.next()\n",
        "\n",
        "print(images.shape)\n",
        "print(labels.shape)\n",
        "\n",
        "# Let's visualize some of the images\n",
        "%matplotlib inline\n",
        "import matplotlib.pyplot as plt\n",
        "\n",
        "plt.imshow(images[0].numpy().squeeze(), cmap='gray_r')"
      ],
      "execution_count": 0,
      "outputs": [
        {
          "output_type": "stream",
          "text": [
            "/usr/local/lib/python3.6/dist-packages/torchvision/datasets/mnist.py:55: UserWarning: train_data has been renamed data\n",
            "  warnings.warn(\"train_data has been renamed data\")\n"
          ],
          "name": "stderr"
        },
        {
          "output_type": "stream",
          "text": [
            "[Train]\n",
            " - Numpy Shape: torch.Size([28, 60000, 28])\n",
            " - Tensor Shape: torch.Size([60000, 28, 28])\n",
            " - min: tensor(-0.4255)\n",
            " - max: tensor(2.8202)\n",
            " - mean: tensor(0.0004)\n",
            " - std: tensor(1.0000)\n",
            " - var: tensor(1.0001)\n",
            "torch.Size([64, 1, 28, 28])\n",
            "torch.Size([64])\n"
          ],
          "name": "stdout"
        },
        {
          "output_type": "execute_result",
          "data": {
            "text/plain": [
              "<matplotlib.image.AxesImage at 0x7f8960198b70>"
            ]
          },
          "metadata": {
            "tags": []
          },
          "execution_count": 21
        },
        {
          "output_type": "display_data",
          "data": {
            "image/png": "[encoded data removed]",
            "text/plain": [
              "<Figure size 432x288 with 1 Axes>"
            ]
          },
          "metadata": {
            "tags": [],
            "needs_background": "light"
          }
        }
      ]
    },
    {
      "cell_type": "markdown",
      "metadata": {
        "id": "FgdU3GJ5b9Nl",
        "colab_type": "text"
      },
      "source": [
        "#Viewing Sample Images in Dataset"
      ]
    },
    {
      "cell_type": "code",
      "metadata": {
        "id": "fsj4EyKhY-4Y",
        "colab_type": "code",
        "outputId": "7593ae06-3ae3-4694-cf4f-dfe39a255948",
        "colab": {
          "base_uri": "https://localhost:8080/",
          "height": 248
        }
      },
      "source": [
        "figure = plt.figure()\n",
        "num_of_images = 64\n",
        "for index in range(0, num_of_images):\n",
        "    plt.subplot(8, 8, index+1)\n",
        "    plt.axis('off')\n",
        "    plt.imshow(images[index].numpy().squeeze(), cmap='gray_r')"
      ],
      "execution_count": 0,
      "outputs": [
        {
          "output_type": "display_data",
          "data": {
            "image/png": "[encoded data removed]",
            "text/plain": [
              "<Figure size 432x288 with 64 Axes>"
            ]
          },
          "metadata": {
            "tags": [],
            "needs_background": "light"
          }
        }
      ]
    },
    {
      "cell_type": "markdown",
      "metadata": {
        "id": "d6Z2eOs0c2_L",
        "colab_type": "text"
      },
      "source": [
        "#**THE MODEL**"
      ]
    },
    {
      "cell_type": "code",
      "metadata": {
        "id": "LV7npc4zcFqB",
        "colab_type": "code",
        "colab": {}
      },
      "source": [
        "class Net(nn.Module):\n",
        "\n",
        "  def __init__(self):\n",
        "\n",
        "    super(Net, self).__init__()\n",
        "\n",
        "    #Input Block - Input= 28\n",
        "    self.block1 = nn.Sequential(\n",
        "        nn.Conv2d(in_channels= 1, out_channels= 8, kernel_size= 3, padding= 1, bias= False),\n",
        "        nn.ReLU(),\n",
        "        nn.BatchNorm2d(8),\n",
        "        nn.Dropout2d(0.1),\n",
        "    ) #Output= 28 / ReceptiveField= 3\n",
        "\n",
        "    #Convolution Block - Input= 28\n",
        "    self.block2 = nn.Sequential(\n",
        "        nn.Conv2d(in_channels= 8, out_channels= 8, kernel_size= 3, padding= 1, bias= False),\n",
        "        nn.ReLU(),\n",
        "        nn.BatchNorm2d(8),\n",
        "        nn.Dropout2d(0.1),\n",
        "    ) #Output= 28 / ReceptiveField= 5\n",
        "\n",
        "    #Max Pooling and 1x1 Convolution\n",
        "    self.mp1 = nn.Sequential(\n",
        "        nn.MaxPool2d(2)\n",
        "    )#Output= 14 / ReceptiveField= 6\n",
        "\n",
        "    #Convolution Block - Input= 14\n",
        "    self.block3 = nn.Sequential(\n",
        "        nn.Conv2d(in_channels= 8, out_channels= 12, kernel_size= 3, bias= False),\n",
        "        nn.ReLU(),\n",
        "        nn.BatchNorm2d(12),\n",
        "        nn.Dropout2d(0.1), \n",
        "        #Output= 12 / ReceptiveField= 10\n",
        "        nn.Conv2d(in_channels= 12, out_channels= 12, kernel_size= 3, bias= False),\n",
        "        nn.ReLU(),\n",
        "        nn.BatchNorm2d(12),\n",
        "        nn.Dropout2d(0.1),\n",
        "    ) #Output= 10 / ReceptiveField= 14  \n",
        "\n",
        "    #Convolution Block - Input= 10\n",
        "    self.block4 = nn.Sequential(\n",
        "        nn.Conv2d(in_channels= 12, out_channels= 12, kernel_size= 3, padding= 0, bias= False),\n",
        "        nn.ReLU(),\n",
        "        nn.BatchNorm2d(12),\n",
        "        nn.Dropout2d(0.1),\n",
        "        #Output= 8 / ReceptiveField= 18\n",
        "        nn.Conv2d(in_channels= 12, out_channels= 16, kernel_size= 3, padding= 0, bias= False),\n",
        "        nn.ReLU(),\n",
        "        nn.BatchNorm2d(16),\n",
        "        nn.Dropout2d(0.1),\n",
        "    ) #Output= 6 / ReceptiveField= 22\n",
        "    \n",
        "    #Convolution Block - Input= 6\n",
        "    self.block5 = nn.Sequential(\n",
        "        nn.Conv2d(in_channels= 16, out_channels= 10, kernel_size= 3, bias= False),\n",
        "        nn.Dropout2d(0.1),\n",
        "    ) #Output= 4 / ReceptiveField= 26\n",
        "\n",
        "    #GAP - Input 3\n",
        "    self.gap = nn.AvgPool2d(4)\n",
        "    #Output= 1 / ReceptiveField= 32\n",
        "\n",
        "  def forward(self,x):\n",
        "\n",
        "     x = self.block1(x)\n",
        "     x = self.block2(x)\n",
        "     x = self.mp1(x)\n",
        "     x = self.block3(x)\n",
        "     x = self.block4(x)\n",
        "     x = self.block5(x)\n",
        "     x = self.gap(x)\n",
        "     x = x.view(-1,10)\n",
        "\n",
        "     return F.log_softmax(x, dim=-1)"
      ],
      "execution_count": 0,
      "outputs": []
    },
    {
      "cell_type": "markdown",
      "metadata": {
        "id": "8hG0p9wAT4fa",
        "colab_type": "text"
      },
      "source": [
        "#Inspecting Model Parameters"
      ]
    },
    {
      "cell_type": "code",
      "metadata": {
        "id": "JachGIPfeIFb",
        "colab_type": "code",
        "outputId": "a7a063d0-1bc4-4f0b-c1f8-977a50f44eef",
        "colab": {
          "base_uri": "https://localhost:8080/",
          "height": 748
        }
      },
      "source": [
        "!pip install torchsummary\n",
        "from torchsummary import summary\n",
        "\n",
        "use_cuda = torch.cuda.is_available()\n",
        "device = torch.device(\"cuda\" if use_cuda else \"cpu\")\n",
        "print(device)\n",
        "model = Net().to(device)\n",
        "summary(model, input_size=(1, 28, 28))"
      ],
      "execution_count": 0,
      "outputs": [
        {
          "output_type": "stream",
          "text": [
            "Requirement already satisfied: torchsummary in /usr/local/lib/python3.6/dist-packages (1.5.1)\n",
            "cuda\n",
            "----------------------------------------------------------------\n",
            "        Layer (type)               Output Shape         Param #\n",
            "================================================================\n",
            "            Conv2d-1            [-1, 8, 28, 28]              72\n",
            "              ReLU-2            [-1, 8, 28, 28]               0\n",
            "       BatchNorm2d-3            [-1, 8, 28, 28]              16\n",
            "         Dropout2d-4            [-1, 8, 28, 28]               0\n",
            "            Conv2d-5            [-1, 8, 28, 28]             576\n",
            "              ReLU-6            [-1, 8, 28, 28]               0\n",
            "       BatchNorm2d-7            [-1, 8, 28, 28]              16\n",
            "         Dropout2d-8            [-1, 8, 28, 28]               0\n",
            "         MaxPool2d-9            [-1, 8, 14, 14]               0\n",
            "           Conv2d-10           [-1, 12, 12, 12]             864\n",
            "             ReLU-11           [-1, 12, 12, 12]               0\n",
            "      BatchNorm2d-12           [-1, 12, 12, 12]              24\n",
            "        Dropout2d-13           [-1, 12, 12, 12]               0\n",
            "           Conv2d-14           [-1, 12, 10, 10]           1,296\n",
            "             ReLU-15           [-1, 12, 10, 10]               0\n",
            "      BatchNorm2d-16           [-1, 12, 10, 10]              24\n",
            "        Dropout2d-17           [-1, 12, 10, 10]               0\n",
            "           Conv2d-18             [-1, 12, 8, 8]           1,296\n",
            "             ReLU-19             [-1, 12, 8, 8]               0\n",
            "      BatchNorm2d-20             [-1, 12, 8, 8]              24\n",
            "        Dropout2d-21             [-1, 12, 8, 8]               0\n",
            "           Conv2d-22             [-1, 16, 6, 6]           1,728\n",
            "             ReLU-23             [-1, 16, 6, 6]               0\n",
            "      BatchNorm2d-24             [-1, 16, 6, 6]              32\n",
            "        Dropout2d-25             [-1, 16, 6, 6]               0\n",
            "           Conv2d-26             [-1, 10, 4, 4]           1,440\n",
            "        Dropout2d-27             [-1, 10, 4, 4]               0\n",
            "        AvgPool2d-28             [-1, 10, 1, 1]               0\n",
            "================================================================\n",
            "Total params: 7,408\n",
            "Trainable params: 7,408\n",
            "Non-trainable params: 0\n",
            "----------------------------------------------------------------\n",
            "Input size (MB): 0.00\n",
            "Forward/backward pass size (MB): 0.53\n",
            "Params size (MB): 0.03\n",
            "Estimated Total Size (MB): 0.56\n",
            "----------------------------------------------------------------\n"
          ],
          "name": "stdout"
        }
      ]
    },
    {
      "cell_type": "markdown",
      "metadata": {
        "id": "DSzU_wXyf89W",
        "colab_type": "text"
      },
      "source": [
        "#Training and Testing"
      ]
    },
    {
      "cell_type": "code",
      "metadata": {
        "id": "xsi7UsciUaQe",
        "colab_type": "code",
        "colab": {}
      },
      "source": [
        "from tqdm import tqdm\n",
        "\n",
        "train_loss = []\n",
        "test_loss = []\n",
        "\n",
        "train_acc = []\n",
        "test_acc = []\n",
        "\n",
        "def train(model, device, train_loader, optimizer, epoch):\n",
        "  model.train()\n",
        "  pbar = tqdm(train_loader)\n",
        "  correct = 0\n",
        "  processed = 0\n",
        "  for batch_idx, (data, target) in enumerate(pbar):\n",
        "    data, target = data.to(device), target.to(device)\n",
        "\n",
        "    optimizer.zero_grad()\n",
        "\n",
        "    y_pred = model(data)\n",
        "\n",
        "    loss = F.nll_loss(y_pred, target)\n",
        "    train_loss.append(loss)\n",
        "\n",
        "    loss.backward()\n",
        "    optimizer.step()\n",
        "\n",
        "    pred = y_pred.argmax(dim=1, keepdim= True)\n",
        "    correct+= pred.eq(target.view_as(pred)).sum().item()\n",
        "    processed += len(data)\n",
        "\n",
        "    pbar.set_description(desc= f'Loss={loss.item()} Batch_id={batch_idx} Accuracy={100*correct/processed:0.2f}')\n",
        "  train_acc.append(100 * correct/processed)"
      ],
      "execution_count": 0,
      "outputs": []
    },
    {
      "cell_type": "code",
      "metadata": {
        "id": "d0nDMuzd2ZzP",
        "colab_type": "code",
        "colab": {}
      },
      "source": [
        "def test(model, device, test_loader):\n",
        "  model.eval()\n",
        "  correct= 0\n",
        "  tloss= 0\n",
        "\n",
        "  with torch.no_grad():\n",
        "    for data, target in test_loader:\n",
        "      data, target = data.to(device), target.to(device)\n",
        "\n",
        "      output = model(data)\n",
        "\n",
        "      tloss+= F.nll_loss(output, target, reduction= 'sum').item()\n",
        "      pred= output.argmax(dim= 1, keepdim= True)\n",
        "      correct+= pred.eq(target.view_as(pred)).sum().item()\n",
        "\n",
        "  tloss /= len(test_loader.dataset)\n",
        "  test_loss.append(tloss)\n",
        "  print(100 * correct/len(test_loader.dataset))\n",
        "  print('\\nTest set: Average loss: {:.4f}, Accuracy: {}/{} ({:.2f}%)\\n'.format(\n",
        "        tloss, correct, len(test_loader.dataset),\n",
        "        100 * correct/len(test_loader.dataset)))\n",
        "  \n",
        "  test_acc.append(100 * correct/len(test_loader.dataset))"
      ],
      "execution_count": 0,
      "outputs": []
    },
    {
      "cell_type": "markdown",
      "metadata": {
        "id": "vgydLZAl4XnJ",
        "colab_type": "text"
      },
      "source": [
        "#Running the Model"
      ]
    },
    {
      "cell_type": "code",
      "metadata": {
        "id": "NQy5kh2d4Vg6",
        "colab_type": "code",
        "outputId": "605ba1e2-a7dd-4d5f-f095-1efacb45a1cd",
        "colab": {
          "base_uri": "https://localhost:8080/",
          "height": 1000
        }
      },
      "source": [
        "model = Net().to(device)\n",
        "optimizer = optim.SGD(model.parameters(), lr= 0.01, momentum= 0.9)\n",
        "epochs = 15\n",
        "\n",
        "for epoch in range(epochs):\n",
        "  print('EPOCH: ', epoch+1)\n",
        "  train(model, device, train_loader, optimizer, epoch)\n",
        "  test(model, device, test_loader)"
      ],
      "execution_count": 0,
      "outputs": [
        {
          "output_type": "stream",
          "text": [
            "\r  0%|          | 0/938 [00:00<?, ?it/s]"
          ],
          "name": "stderr"
        },
        {
          "output_type": "stream",
          "text": [
            "EPOCH:  1\n"
          ],
          "name": "stdout"
        },
        {
          "output_type": "stream",
          "text": [
            "Loss=0.2173222005367279 Batch_id=937 Accuracy=85.69: 100%|██████████| 938/938 [00:14<00:00, 64.06it/s]\n",
            "  0%|          | 0/938 [00:00<?, ?it/s]"
          ],
          "name": "stderr"
        },
        {
          "output_type": "stream",
          "text": [
            "98.11\n",
            "\n",
            "Test set: Average loss: 0.0630, Accuracy: 9811/10000 (98.11%)\n",
            "\n",
            "EPOCH:  2\n"
          ],
          "name": "stdout"
        },
        {
          "output_type": "stream",
          "text": [
            "Loss=0.23130689561367035 Batch_id=937 Accuracy=92.32: 100%|██████████| 938/938 [00:13<00:00, 67.08it/s]\n",
            "  0%|          | 0/938 [00:00<?, ?it/s]"
          ],
          "name": "stderr"
        },
        {
          "output_type": "stream",
          "text": [
            "98.61\n",
            "\n",
            "Test set: Average loss: 0.0429, Accuracy: 9861/10000 (98.61%)\n",
            "\n",
            "EPOCH:  3\n"
          ],
          "name": "stdout"
        },
        {
          "output_type": "stream",
          "text": [
            "Loss=0.09803968667984009 Batch_id=937 Accuracy=92.93: 100%|██████████| 938/938 [00:13<00:00, 67.03it/s]\n",
            "  0%|          | 0/938 [00:00<?, ?it/s]"
          ],
          "name": "stderr"
        },
        {
          "output_type": "stream",
          "text": [
            "98.83\n",
            "\n",
            "Test set: Average loss: 0.0368, Accuracy: 9883/10000 (98.83%)\n",
            "\n",
            "EPOCH:  4\n"
          ],
          "name": "stdout"
        },
        {
          "output_type": "stream",
          "text": [
            "Loss=0.1260022073984146 Batch_id=937 Accuracy=93.55: 100%|██████████| 938/938 [00:14<00:00, 65.19it/s]\n",
            "  0%|          | 0/938 [00:00<?, ?it/s]"
          ],
          "name": "stderr"
        },
        {
          "output_type": "stream",
          "text": [
            "98.85\n",
            "\n",
            "Test set: Average loss: 0.0354, Accuracy: 9885/10000 (98.85%)\n",
            "\n",
            "EPOCH:  5\n"
          ],
          "name": "stdout"
        },
        {
          "output_type": "stream",
          "text": [
            "Loss=0.12266544252634048 Batch_id=937 Accuracy=93.71: 100%|██████████| 938/938 [00:14<00:00, 66.45it/s]\n",
            "  0%|          | 0/938 [00:00<?, ?it/s]"
          ],
          "name": "stderr"
        },
        {
          "output_type": "stream",
          "text": [
            "98.99\n",
            "\n",
            "Test set: Average loss: 0.0323, Accuracy: 9899/10000 (98.99%)\n",
            "\n",
            "EPOCH:  6\n"
          ],
          "name": "stdout"
        },
        {
          "output_type": "stream",
          "text": [
            "Loss=0.10161995142698288 Batch_id=937 Accuracy=93.83: 100%|██████████| 938/938 [00:14<00:00, 64.46it/s]\n",
            "  0%|          | 0/938 [00:00<?, ?it/s]"
          ],
          "name": "stderr"
        },
        {
          "output_type": "stream",
          "text": [
            "99.06\n",
            "\n",
            "Test set: Average loss: 0.0322, Accuracy: 9906/10000 (99.06%)\n",
            "\n",
            "EPOCH:  7\n"
          ],
          "name": "stdout"
        },
        {
          "output_type": "stream",
          "text": [
            "Loss=0.08006316423416138 Batch_id=937 Accuracy=93.95: 100%|██████████| 938/938 [00:14<00:00, 64.62it/s]\n",
            "  0%|          | 0/938 [00:00<?, ?it/s]"
          ],
          "name": "stderr"
        },
        {
          "output_type": "stream",
          "text": [
            "99.11\n",
            "\n",
            "Test set: Average loss: 0.0293, Accuracy: 9911/10000 (99.11%)\n",
            "\n",
            "EPOCH:  8\n"
          ],
          "name": "stdout"
        },
        {
          "output_type": "stream",
          "text": [
            "Loss=0.2925852835178375 Batch_id=937 Accuracy=94.08: 100%|██████████| 938/938 [00:13<00:00, 68.08it/s]\n",
            "  0%|          | 0/938 [00:00<?, ?it/s]"
          ],
          "name": "stderr"
        },
        {
          "output_type": "stream",
          "text": [
            "99.12\n",
            "\n",
            "Test set: Average loss: 0.0277, Accuracy: 9912/10000 (99.12%)\n",
            "\n",
            "EPOCH:  9\n"
          ],
          "name": "stdout"
        },
        {
          "output_type": "stream",
          "text": [
            "Loss=0.039654940366744995 Batch_id=937 Accuracy=94.22: 100%|██████████| 938/938 [00:13<00:00, 67.50it/s]\n",
            "  0%|          | 0/938 [00:00<?, ?it/s]"
          ],
          "name": "stderr"
        },
        {
          "output_type": "stream",
          "text": [
            "99.01\n",
            "\n",
            "Test set: Average loss: 0.0305, Accuracy: 9901/10000 (99.01%)\n",
            "\n",
            "EPOCH:  10\n"
          ],
          "name": "stdout"
        },
        {
          "output_type": "stream",
          "text": [
            "Loss=0.06577508896589279 Batch_id=937 Accuracy=94.30: 100%|██████████| 938/938 [00:14<00:00, 66.92it/s]\n",
            "  0%|          | 0/938 [00:00<?, ?it/s]"
          ],
          "name": "stderr"
        },
        {
          "output_type": "stream",
          "text": [
            "99.18\n",
            "\n",
            "Test set: Average loss: 0.0279, Accuracy: 9918/10000 (99.18%)\n",
            "\n",
            "EPOCH:  11\n"
          ],
          "name": "stdout"
        },
        {
          "output_type": "stream",
          "text": [
            "Loss=0.02538391947746277 Batch_id=937 Accuracy=94.29: 100%|██████████| 938/938 [00:14<00:00, 66.63it/s]\n",
            "  0%|          | 0/938 [00:00<?, ?it/s]"
          ],
          "name": "stderr"
        },
        {
          "output_type": "stream",
          "text": [
            "99.2\n",
            "\n",
            "Test set: Average loss: 0.0294, Accuracy: 9920/10000 (99.20%)\n",
            "\n",
            "EPOCH:  12\n"
          ],
          "name": "stdout"
        },
        {
          "output_type": "stream",
          "text": [
            "Loss=0.11832837760448456 Batch_id=937 Accuracy=94.42: 100%|██████████| 938/938 [00:13<00:00, 67.78it/s]\n",
            "  0%|          | 0/938 [00:00<?, ?it/s]"
          ],
          "name": "stderr"
        },
        {
          "output_type": "stream",
          "text": [
            "99.09\n",
            "\n",
            "Test set: Average loss: 0.0300, Accuracy: 9909/10000 (99.09%)\n",
            "\n",
            "EPOCH:  13\n"
          ],
          "name": "stdout"
        },
        {
          "output_type": "stream",
          "text": [
            "Loss=0.07103816419839859 Batch_id=937 Accuracy=94.50: 100%|██████████| 938/938 [00:14<00:00, 66.92it/s]\n",
            "  0%|          | 0/938 [00:00<?, ?it/s]"
          ],
          "name": "stderr"
        },
        {
          "output_type": "stream",
          "text": [
            "99.12\n",
            "\n",
            "Test set: Average loss: 0.0281, Accuracy: 9912/10000 (99.12%)\n",
            "\n",
            "EPOCH:  14\n"
          ],
          "name": "stdout"
        },
        {
          "output_type": "stream",
          "text": [
            "Loss=0.23678791522979736 Batch_id=937 Accuracy=94.54: 100%|██████████| 938/938 [00:13<00:00, 67.95it/s]\n",
            "  0%|          | 0/938 [00:00<?, ?it/s]"
          ],
          "name": "stderr"
        },
        {
          "output_type": "stream",
          "text": [
            "99.05\n",
            "\n",
            "Test set: Average loss: 0.0297, Accuracy: 9905/10000 (99.05%)\n",
            "\n",
            "EPOCH:  15\n"
          ],
          "name": "stdout"
        },
        {
          "output_type": "stream",
          "text": [
            "Loss=0.04817606136202812 Batch_id=937 Accuracy=94.47: 100%|██████████| 938/938 [00:14<00:00, 66.90it/s]\n"
          ],
          "name": "stderr"
        },
        {
          "output_type": "stream",
          "text": [
            "99.22\n",
            "\n",
            "Test set: Average loss: 0.0265, Accuracy: 9922/10000 (99.22%)\n",
            "\n"
          ],
          "name": "stdout"
        }
      ]
    },
    {
      "cell_type": "code",
      "metadata": {
        "id": "mZxlJ2NWGRwp",
        "colab_type": "code",
        "outputId": "97a58379-c53c-4dd4-c790-6ee51561fafa",
        "colab": {
          "base_uri": "https://localhost:8080/",
          "height": 624
        }
      },
      "source": [
        "fig, axs = plt.subplots(2,2,figsize=(15,10))\n",
        "axs[0, 0].plot(train_loss)\n",
        "axs[0, 0].set_title(\"Training Loss\")\n",
        "axs[1, 0].plot(train_acc)\n",
        "axs[1, 0].set_title(\"Training Accuracy\")\n",
        "axs[0, 1].plot(test_loss)\n",
        "axs[0, 1].set_title(\"Test Loss\")\n",
        "axs[1, 1].plot(test_acc)\n",
        "axs[1, 1].set_title(\"Test Accuracy\")"
      ],
      "execution_count": 0,
      "outputs": [
        {
          "output_type": "execute_result",
          "data": {
            "text/plain": [
              "Text(0.5, 1.0, 'Test Accuracy')"
            ]
          },
          "metadata": {
            "tags": []
          },
          "execution_count": 28
        },
        {
          "output_type": "display_data",
          "data": {
            "image/png": "[encoded data removed]",
            "text/plain": [
              "<Figure size 1080x720 with 4 Axes>"
            ]
          },
          "metadata": {
            "tags": [],
            "needs_background": "light"
          }
        }
      ]
    },
    {
      "cell_type": "code",
      "metadata": {
        "id": "OU6q1TNfXwVA",
        "colab_type": "code",
        "outputId": "33f3413c-ad76-4d37-8884-291e3eaa20dd",
        "colab": {
          "base_uri": "https://localhost:8080/",
          "height": 312
        }
      },
      "source": [
        "plt.axes(xlabel= 'epochs', ylabel= 'Accuracy')\n",
        "plt.plot(train_acc)\n",
        "plt.plot(test_acc)\n",
        "plt.title('Test vs Train Accuracy')\n",
        "plt.legend(['Train', 'Test'])"
      ],
      "execution_count": 0,
      "outputs": [
        {
          "output_type": "execute_result",
          "data": {
            "text/plain": [
              "<matplotlib.legend.Legend at 0x7f894f272cc0>"
            ]
          },
          "metadata": {
            "tags": []
          },
          "execution_count": 29
        },
        {
          "output_type": "display_data",
          "data": {
            "image/png": "[encoded data removed]",
            "text/plain": [
              "<Figure size 432x288 with 1 Axes>"
            ]
          },
          "metadata": {
            "tags": [],
            "needs_background": "light"
          }
        }
      ]
    },
    {
      "cell_type": "code",
      "metadata": {
        "id": "b2Bww4XEX3No",
        "colab_type": "code",
        "outputId": "8bbabddb-382d-46bd-9c89-0233481b86f8",
        "colab": {
          "base_uri": "https://localhost:8080/",
          "height": 68
        }
      },
      "source": [
        "print(f'Max Training Loss {min(train_loss)} with Max Training Accuracy {max(train_acc)}\\n')\n",
        "print(f'Max Testing Loss {min(test_loss)} with Max Testing Accuracy {max(test_acc)}')"
      ],
      "execution_count": 0,
      "outputs": [
        {
          "output_type": "stream",
          "text": [
            "Max Training Loss 0.005630738567560911 with Max Training Accuracy 94.54333333333334\n",
            "\n",
            "Max Testing Loss 0.02647799204289913 with Max Testing Accuracy 99.22\n"
          ],
          "name": "stdout"
        }
      ]
    },
    {
      "cell_type": "markdown",
      "metadata": {
        "id": "fWOHrt_eXKtV",
        "colab_type": "text"
      },
      "source": [
        "#Results:"
      ]
    },
    {
      "cell_type": "markdown",
      "metadata": {
        "id": "Sfu3QqN4XMKR",
        "colab_type": "text"
      },
      "source": [
        "\n",
        "\n",
        "1.   Parameters Used: **7408**\n",
        "1.   Test Accuracy: **99.22%**\n",
        "2.   Training Accuracy: **94.54%**\n",
        "2.   Epochs Used: **15**\n",
        "\n"
      ]
    },
    {
      "cell_type": "markdown",
      "metadata": {
        "id": "7aZvVhIBXS8z",
        "colab_type": "text"
      },
      "source": [
        "#Analysis:"
      ]
    },
    {
      "cell_type": "markdown",
      "metadata": {
        "id": "D4rE0AvgXV9y",
        "colab_type": "text"
      },
      "source": [
        "\n",
        "\n",
        "1.   Over-fitting has been resolved, as we can inspect Train Accuracy is alwasys lesser than Test accuracy.\n",
        "2.   But the test accuracy has decreased from 99.27 in previous iteration(with BatchNorm) to 99.22(with BatchNor+DropOut) \n",
        "3.   Number of Parameters used are 7408, so more 2500 parameters can be used if required.\n",
        "4.   Need to improve effeciency.\n",
        "\n",
        "\n",
        "\n",
        "\n"
      ]
    },
    {
      "cell_type": "code",
      "metadata": {
        "id": "FzsnHvgMXqx-",
        "colab_type": "code",
        "colab": {}
      },
      "source": [
        ""
      ],
      "execution_count": 0,
      "outputs": []
    }
  ]
}