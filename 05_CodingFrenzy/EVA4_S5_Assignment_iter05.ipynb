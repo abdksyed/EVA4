{
  "nbformat": 4,
  "nbformat_minor": 0,
  "metadata": {
    "colab": {
      "name": "EVA4_S5_Assignment.ipynb",
      "provenance": [],
      "collapsed_sections": [],
      "include_colab_link": true
    },
    "kernelspec": {
      "name": "python3",
      "display_name": "Python 3"
    },
    "accelerator": "GPU"
  },
  "cells": [
    {
      "cell_type": "markdown",
      "metadata": {
        "id": "view-in-github",
        "colab_type": "text"
      },
      "source": [
        "<a href=\"https://colab.research.google.com/github/abksyed/EVA4/blob/master/S5/EVA4_S5_Assignment_iter05.ipynb\" target=\"_parent\"><img src=\"https://colab.research.google.com/assets/colab-badge.svg\" alt=\"Open In Colab\"/></a>"
      ]
    },
    {
      "cell_type": "markdown",
      "metadata": {
        "id": "T8lZzUIiRWyN",
        "colab_type": "text"
      },
      "source": [
        "#Import Statements"
      ]
    },
    {
      "cell_type": "code",
      "metadata": {
        "id": "uav9WpxSOSmp",
        "colab_type": "code",
        "colab": {}
      },
      "source": [
        "from __future__ import print_function\n",
        "import torch\n",
        "import torch.nn as nn\n",
        "import torch.nn.functional as F\n",
        "import torch.optim as optim\n",
        "from torchvision import datasets, transforms"
      ],
      "execution_count": 0,
      "outputs": []
    },
    {
      "cell_type": "markdown",
      "metadata": {
        "id": "I98VURjCRaiQ",
        "colab_type": "text"
      },
      "source": [
        "# Targets"
      ]
    },
    {
      "cell_type": "markdown",
      "metadata": {
        "id": "krJ30b6-P9DC",
        "colab_type": "text"
      },
      "source": [
        "**Overall Target to Acheive**\n",
        " \n",
        "\n",
        "1.   99.4% (this must be consistently shown in your last few epochs, and not a one-time achievement)\n",
        "2.   Less than or equal to 15 Epochs\n",
        "3.   Less than 10000 Parameters\n",
        "\n",
        "*Target Acheived in Last Iteration*\n",
        "\n",
        "1.   Parameters Used: **8464**\n",
        "1.   Test Accuracy: **99.41%**\n",
        "2.   Training Accuracy: **99.18%**\n",
        "2.   Epochs Used: **15**\n",
        "\n",
        "*Target for this Iteration:*\n",
        "\n",
        "1.   Stabalise the accuracy.\n",
        "2.   Acheive 99.4% accuracy for 3-5 epochs consistently.\n",
        "3.   Use ScheduledLR"
      ]
    },
    {
      "cell_type": "markdown",
      "metadata": {
        "id": "6aO2zedARdx6",
        "colab_type": "text"
      },
      "source": [
        "#Raw Data Statistics"
      ]
    },
    {
      "cell_type": "code",
      "metadata": {
        "id": "ssmdtShCPSJ3",
        "colab_type": "code",
        "outputId": "73135543-e176-4f17-a09d-3aeebc35e08a",
        "colab": {
          "base_uri": "https://localhost:8080/",
          "height": 153
        }
      },
      "source": [
        "#Getting to know Data\n",
        "data = datasets.MNIST('./data', train= True, transform= transforms.Compose([transforms.ToTensor(),]), download= True)\n",
        "\n",
        "exp = data.data\n",
        "exp = data.transform(exp.numpy())\n",
        "\n",
        "print('Train Statistics')\n",
        "print(' - Numpy Shape:', data.data.cpu().numpy().shape)\n",
        "print(' - Tensor Shape:', data.data.size())\n",
        "print(' - min:', torch.min(exp))\n",
        "print(' - max:', torch.max(exp))\n",
        "print(' - mean:', torch.mean(exp))\n",
        "print(' - std:', torch.std(exp))\n",
        "print(' - var:', torch.var(exp))"
      ],
      "execution_count": 2,
      "outputs": [
        {
          "output_type": "stream",
          "text": [
            "Train Statistics\n",
            " - Numpy Shape: (60000, 28, 28)\n",
            " - Tensor Shape: torch.Size([60000, 28, 28])\n",
            " - min: tensor(0.)\n",
            " - max: tensor(1.)\n",
            " - mean: tensor(0.1305)\n",
            " - std: tensor(0.3081)\n",
            " - var: tensor(0.0949)\n"
          ],
          "name": "stdout"
        }
      ]
    },
    {
      "cell_type": "markdown",
      "metadata": {
        "id": "9vYMCFayZNOe",
        "colab_type": "text"
      },
      "source": [
        "#Transforming Raw Data to Normalized Data"
      ]
    },
    {
      "cell_type": "code",
      "metadata": {
        "id": "F_I0mdJXViHB",
        "colab_type": "code",
        "colab": {}
      },
      "source": [
        "#Transforming Data (Normalizing to mean=1, std= 0)\n",
        "train_transform = transforms.Compose([\n",
        "                                      transforms.RandomRotation((-12.0,12.0), fill=(1,)),\n",
        "                                      transforms.ToTensor(),\n",
        "                                      transforms.Normalize((0.1311,), (0.3081,))\n",
        "]\n",
        ")\n",
        "\n",
        "test_transform = transforms.Compose([\n",
        "                                     transforms.ToTensor(),\n",
        "                                     transforms.Normalize((0.1311,),(0.3081,))\n",
        "])"
      ],
      "execution_count": 0,
      "outputs": []
    },
    {
      "cell_type": "markdown",
      "metadata": {
        "id": "xbRjcrBZZSOu",
        "colab_type": "text"
      },
      "source": [
        "#Creating Train/Test Split"
      ]
    },
    {
      "cell_type": "code",
      "metadata": {
        "id": "0iY_810tYFOH",
        "colab_type": "code",
        "colab": {}
      },
      "source": [
        "#Getting Train and Test Data\n",
        "train = datasets.MNIST('./data', train= True, transform= train_transform)\n",
        "test = datasets.MNIST('./data', train= False, transform= test_transform)"
      ],
      "execution_count": 0,
      "outputs": []
    },
    {
      "cell_type": "markdown",
      "metadata": {
        "id": "4zj8qSLYZWUz",
        "colab_type": "text"
      },
      "source": [
        "#Dataloader Arguments & Test/Train Dataloaders"
      ]
    },
    {
      "cell_type": "code",
      "metadata": {
        "id": "BOXq3mHkZbwR",
        "colab_type": "code",
        "outputId": "b383dc2a-02ae-4a7e-e863-3775a6be50bd",
        "colab": {
          "base_uri": "https://localhost:8080/",
          "height": 34
        }
      },
      "source": [
        "seed = 1\n",
        "\n",
        "#CUDA Availability\n",
        "cuda = torch.cuda.is_available()\n",
        "print(\"CUDA Available?\", cuda)\n",
        "\n",
        "#For Reproducibility\n",
        "torch.manual_seed(seed)\n",
        "\n",
        "if cuda:\n",
        "    torch.cuda.manual_seed(seed)\n",
        "\n",
        "dataloader_args = dict(shuffle=True, batch_size=64, num_workers=4, pin_memory= True) if cuda else dict(shuffle= True, batch_size=64)\n",
        "\n",
        "#Train Dataloader\n",
        "train_loader = torch.utils.data.DataLoader(train, **dataloader_args)\n",
        "\n",
        "#Test Dataloader\n",
        "test_loader = torch.utils.data.DataLoader(test, **dataloader_args)"
      ],
      "execution_count": 5,
      "outputs": [
        {
          "output_type": "stream",
          "text": [
            "CUDA Available? True\n"
          ],
          "name": "stdout"
        }
      ]
    },
    {
      "cell_type": "markdown",
      "metadata": {
        "id": "d6Z2eOs0c2_L",
        "colab_type": "text"
      },
      "source": [
        "#**THE MODEL**"
      ]
    },
    {
      "cell_type": "code",
      "metadata": {
        "id": "LV7npc4zcFqB",
        "colab_type": "code",
        "colab": {}
      },
      "source": [
        "class Net(nn.Module):\n",
        "\n",
        "  def __init__(self):\n",
        "\n",
        "    super(Net, self).__init__()\n",
        "\n",
        "    #Input Block - Input= 28\n",
        "    self.block1 = nn.Sequential(\n",
        "        nn.Conv2d(in_channels= 1, out_channels= 8, kernel_size= 3, padding= 1, bias= False),\n",
        "        nn.ReLU(),\n",
        "        nn.BatchNorm2d(8),\n",
        "       # nn.Dropout2d(0.1),\n",
        "    ) #Output= 28 / ReceptiveField= 3\n",
        "\n",
        "    #Convolution Block - Input= 28\n",
        "    self.block2 = nn.Sequential(\n",
        "        nn.Conv2d(in_channels= 8, out_channels= 8, kernel_size= 3, padding= 1, bias= False),\n",
        "        nn.ReLU(),\n",
        "        nn.BatchNorm2d(8),\n",
        "        #nn.Dropout2d(0.1),\n",
        "    ) #Output= 28 / ReceptiveField= 5\n",
        "\n",
        "    #Max Pooling and 1x1 Convolution\n",
        "    self.mp1 = nn.Sequential(\n",
        "        nn.MaxPool2d(2)\n",
        "    )#Output= 14 / ReceptiveField= 6\n",
        "\n",
        "    #Convolution Block - Input= 14\n",
        "    self.block3 = nn.Sequential(\n",
        "        nn.Conv2d(in_channels= 8, out_channels= 12, kernel_size= 3, bias= False),\n",
        "        nn.ReLU(),\n",
        "        nn.BatchNorm2d(12),\n",
        "        #nn.Dropout2d(0.1), \n",
        "        #Output= 12 / ReceptiveField= 10\n",
        "        nn.Conv2d(in_channels= 12, out_channels= 12, kernel_size= 3, bias= False),\n",
        "        nn.ReLU(),\n",
        "        nn.BatchNorm2d(12),\n",
        "        #nn.Dropout2d(0.1),\n",
        "    ) #Output= 10 / ReceptiveField= 14  \n",
        "\n",
        "    #Convolution Block - Input= 10\n",
        "    self.block4 = nn.Sequential(\n",
        "        nn.Conv2d(in_channels= 12, out_channels= 12, kernel_size= 3, padding= 0, bias= False),\n",
        "        nn.ReLU(),\n",
        "        nn.BatchNorm2d(12),\n",
        "        #nn.Dropout2d(0.1),\n",
        "        #Output= 8 / ReceptiveField= 18\n",
        "        nn.Conv2d(in_channels= 12, out_channels= 16, kernel_size= 3, padding= 0, bias= False),\n",
        "        nn.ReLU(),\n",
        "        nn.BatchNorm2d(16),\n",
        "        #nn.Dropout2d(0.1),\n",
        "    ) #Output= 6 / ReceptiveField= 22\n",
        "    \n",
        "    #Convolution Block - Input= 6\n",
        "    self.block5 = nn.Sequential(\n",
        "        nn.Conv2d(in_channels= 16, out_channels= 16, kernel_size= 3, bias= False),\n",
        "        nn.ReLU(),\n",
        "        nn.BatchNorm2d(16),\n",
        "        #nn.Dropout2d(0.1),\n",
        "    ) #Output= 4 / ReceptiveField= 26\n",
        "\n",
        "    #GAP - Input 3\n",
        "    self.gap = nn.AvgPool2d(4)\n",
        "    #Output= 1 / ReceptiveField= 32\n",
        "    \n",
        "    self.conv = nn.Conv2d(in_channels= 16, out_channels= 10, kernel_size= 1, bias= False)\n",
        "\n",
        "  def forward(self,x):\n",
        "\n",
        "     x = self.block1(x)\n",
        "     x = self.block2(x)\n",
        "     x = self.mp1(x)\n",
        "     x = self.block3(x)\n",
        "     x = self.block4(x)\n",
        "     x = self.block5(x)\n",
        "     x = self.gap(x)\n",
        "     x = self.conv(x)\n",
        "     x = x.view(-1,10)\n",
        "\n",
        "     return F.log_softmax(x, dim=-1)"
      ],
      "execution_count": 0,
      "outputs": []
    },
    {
      "cell_type": "markdown",
      "metadata": {
        "id": "8hG0p9wAT4fa",
        "colab_type": "text"
      },
      "source": [
        "#Inspecting Model Parameters"
      ]
    },
    {
      "cell_type": "code",
      "metadata": {
        "id": "JachGIPfeIFb",
        "colab_type": "code",
        "outputId": "bbaef328-a2aa-4721-c29c-ad700f5c730c",
        "colab": {
          "base_uri": "https://localhost:8080/",
          "height": 680
        }
      },
      "source": [
        "!pip install torchsummary\n",
        "from torchsummary import summary\n",
        "\n",
        "use_cuda = torch.cuda.is_available()\n",
        "device = torch.device(\"cuda\" if use_cuda else \"cpu\")\n",
        "print(device)\n",
        "model = Net().to(device)\n",
        "summary(model, input_size=(1, 28, 28))"
      ],
      "execution_count": 7,
      "outputs": [
        {
          "output_type": "stream",
          "text": [
            "Requirement already satisfied: torchsummary in /usr/local/lib/python3.6/dist-packages (1.5.1)\n",
            "cuda\n",
            "----------------------------------------------------------------\n",
            "        Layer (type)               Output Shape         Param #\n",
            "================================================================\n",
            "            Conv2d-1            [-1, 8, 28, 28]              72\n",
            "              ReLU-2            [-1, 8, 28, 28]               0\n",
            "       BatchNorm2d-3            [-1, 8, 28, 28]              16\n",
            "            Conv2d-4            [-1, 8, 28, 28]             576\n",
            "              ReLU-5            [-1, 8, 28, 28]               0\n",
            "       BatchNorm2d-6            [-1, 8, 28, 28]              16\n",
            "         MaxPool2d-7            [-1, 8, 14, 14]               0\n",
            "            Conv2d-8           [-1, 12, 12, 12]             864\n",
            "              ReLU-9           [-1, 12, 12, 12]               0\n",
            "      BatchNorm2d-10           [-1, 12, 12, 12]              24\n",
            "           Conv2d-11           [-1, 12, 10, 10]           1,296\n",
            "             ReLU-12           [-1, 12, 10, 10]               0\n",
            "      BatchNorm2d-13           [-1, 12, 10, 10]              24\n",
            "           Conv2d-14             [-1, 12, 8, 8]           1,296\n",
            "             ReLU-15             [-1, 12, 8, 8]               0\n",
            "      BatchNorm2d-16             [-1, 12, 8, 8]              24\n",
            "           Conv2d-17             [-1, 16, 6, 6]           1,728\n",
            "             ReLU-18             [-1, 16, 6, 6]               0\n",
            "      BatchNorm2d-19             [-1, 16, 6, 6]              32\n",
            "           Conv2d-20             [-1, 16, 4, 4]           2,304\n",
            "             ReLU-21             [-1, 16, 4, 4]               0\n",
            "      BatchNorm2d-22             [-1, 16, 4, 4]              32\n",
            "        AvgPool2d-23             [-1, 16, 1, 1]               0\n",
            "           Conv2d-24             [-1, 10, 1, 1]             160\n",
            "================================================================\n",
            "Total params: 8,464\n",
            "Trainable params: 8,464\n",
            "Non-trainable params: 0\n",
            "----------------------------------------------------------------\n",
            "Input size (MB): 0.00\n",
            "Forward/backward pass size (MB): 0.40\n",
            "Params size (MB): 0.03\n",
            "Estimated Total Size (MB): 0.44\n",
            "----------------------------------------------------------------\n"
          ],
          "name": "stdout"
        }
      ]
    },
    {
      "cell_type": "markdown",
      "metadata": {
        "id": "DSzU_wXyf89W",
        "colab_type": "text"
      },
      "source": [
        "#Training and Testing"
      ]
    },
    {
      "cell_type": "code",
      "metadata": {
        "id": "xsi7UsciUaQe",
        "colab_type": "code",
        "colab": {}
      },
      "source": [
        "from tqdm import tqdm\n",
        "\n",
        "train_loss = []\n",
        "test_loss = []\n",
        "\n",
        "train_acc = []\n",
        "train_endacc = []\n",
        "test_acc = []\n",
        "\n",
        "def train(model, device, train_loader, optimizer, epoch):\n",
        "  model.train()\n",
        "  pbar = tqdm(train_loader)\n",
        "  correct = 0\n",
        "  processed = 0\n",
        "  for batch_idx, (data, target) in enumerate(pbar):\n",
        "    data, target = data.to(device), target.to(device)\n",
        "\n",
        "    optimizer.zero_grad()\n",
        "\n",
        "    y_pred = model(data)\n",
        "\n",
        "    loss = F.nll_loss(y_pred, target)\n",
        "    train_loss.append(loss)\n",
        "\n",
        "    loss.backward()\n",
        "    optimizer.step()\n",
        "\n",
        "    pred = y_pred.argmax(dim=1, keepdim= True)\n",
        "    correct+= pred.eq(target.view_as(pred)).sum().item()\n",
        "    processed += len(data)\n",
        "\n",
        "    pbar.set_description(desc= f'Loss={loss.item()} Batch_id={batch_idx} Accuracy={100*correct/processed:0.2f}')\n",
        "    train_acc.append(100 * correct/processed)\n",
        "  train_endacc.append(train_acc[-1])"
      ],
      "execution_count": 0,
      "outputs": []
    },
    {
      "cell_type": "code",
      "metadata": {
        "id": "d0nDMuzd2ZzP",
        "colab_type": "code",
        "colab": {}
      },
      "source": [
        "def test(model, device, test_loader):\n",
        "  model.eval()\n",
        "  correct= 0\n",
        "  tloss= 0\n",
        "\n",
        "  with torch.no_grad():\n",
        "    for data, target in test_loader:\n",
        "      data, target = data.to(device), target.to(device)\n",
        "\n",
        "      output = model(data)\n",
        "\n",
        "      tloss+= F.nll_loss(output, target, reduction= 'sum').item()\n",
        "      pred= output.argmax(dim= 1, keepdim= True)\n",
        "      correct+= pred.eq(target.view_as(pred)).sum().item()\n",
        "\n",
        "  tloss /= len(test_loader.dataset)\n",
        "  test_loss.append(tloss)\n",
        "  print(100 * correct/len(test_loader.dataset))\n",
        "  print('\\nTest set: Average loss: {:.4f}, Accuracy: {}/{} ({:.2f}%)\\n'.format(\n",
        "        tloss, correct, len(test_loader.dataset),\n",
        "        100 * correct/len(test_loader.dataset)))\n",
        "  \n",
        "  test_acc.append(100 * correct/len(test_loader.dataset))"
      ],
      "execution_count": 0,
      "outputs": []
    },
    {
      "cell_type": "markdown",
      "metadata": {
        "id": "vgydLZAl4XnJ",
        "colab_type": "text"
      },
      "source": [
        "#Running the Model"
      ]
    },
    {
      "cell_type": "code",
      "metadata": {
        "id": "NQy5kh2d4Vg6",
        "colab_type": "code",
        "outputId": "ccc48270-9ca9-43cd-cc07-39988ec294fd",
        "colab": {
          "base_uri": "https://localhost:8080/",
          "height": 1000
        }
      },
      "source": [
        "from torch.optim.lr_scheduler import StepLR\n",
        "\n",
        "model = Net().to(device)\n",
        "optimizer = optim.SGD(model.parameters(), lr= 0.01, momentum= 0.9)\n",
        "epochs = 15\n",
        "scheduler = StepLR(optimizer, step_size= 7, gamma= 0.1)\n",
        "for epoch in range(epochs):\n",
        "  print('EPOCH: ', epoch+1)\n",
        "  train(model, device, train_loader, optimizer, epoch)\n",
        "  scheduler.step()\n",
        "  test(model, device, test_loader)"
      ],
      "execution_count": 10,
      "outputs": [
        {
          "output_type": "stream",
          "text": [
            "\r  0%|          | 0/938 [00:00<?, ?it/s]"
          ],
          "name": "stderr"
        },
        {
          "output_type": "stream",
          "text": [
            "EPOCH:  1\n"
          ],
          "name": "stdout"
        },
        {
          "output_type": "stream",
          "text": [
            "Loss=0.04250643402338028 Batch_id=937 Accuracy=93.88: 100%|██████████| 938/938 [00:15<00:00, 61.97it/s]\n",
            "  0%|          | 0/938 [00:00<?, ?it/s]"
          ],
          "name": "stderr"
        },
        {
          "output_type": "stream",
          "text": [
            "98.62\n",
            "\n",
            "Test set: Average loss: 0.0449, Accuracy: 9862/10000 (98.62%)\n",
            "\n",
            "EPOCH:  2\n"
          ],
          "name": "stdout"
        },
        {
          "output_type": "stream",
          "text": [
            "Loss=0.06848883628845215 Batch_id=937 Accuracy=98.08: 100%|██████████| 938/938 [00:15<00:00, 59.39it/s]\n",
            "  0%|          | 0/938 [00:00<?, ?it/s]"
          ],
          "name": "stderr"
        },
        {
          "output_type": "stream",
          "text": [
            "98.96\n",
            "\n",
            "Test set: Average loss: 0.0376, Accuracy: 9896/10000 (98.96%)\n",
            "\n",
            "EPOCH:  3\n"
          ],
          "name": "stdout"
        },
        {
          "output_type": "stream",
          "text": [
            "Loss=0.2598465085029602 Batch_id=937 Accuracy=98.39: 100%|██████████| 938/938 [00:15<00:00, 60.93it/s]\n",
            "  0%|          | 0/938 [00:00<?, ?it/s]"
          ],
          "name": "stderr"
        },
        {
          "output_type": "stream",
          "text": [
            "98.91\n",
            "\n",
            "Test set: Average loss: 0.0329, Accuracy: 9891/10000 (98.91%)\n",
            "\n",
            "EPOCH:  4\n"
          ],
          "name": "stdout"
        },
        {
          "output_type": "stream",
          "text": [
            "Loss=0.03139156103134155 Batch_id=937 Accuracy=98.62: 100%|██████████| 938/938 [00:15<00:00, 61.04it/s]\n",
            "  0%|          | 0/938 [00:00<?, ?it/s]"
          ],
          "name": "stderr"
        },
        {
          "output_type": "stream",
          "text": [
            "99.07\n",
            "\n",
            "Test set: Average loss: 0.0278, Accuracy: 9907/10000 (99.07%)\n",
            "\n",
            "EPOCH:  5\n"
          ],
          "name": "stdout"
        },
        {
          "output_type": "stream",
          "text": [
            "Loss=0.011090263724327087 Batch_id=937 Accuracy=98.80: 100%|██████████| 938/938 [00:15<00:00, 60.20it/s]\n",
            "  0%|          | 0/938 [00:00<?, ?it/s]"
          ],
          "name": "stderr"
        },
        {
          "output_type": "stream",
          "text": [
            "99.26\n",
            "\n",
            "Test set: Average loss: 0.0234, Accuracy: 9926/10000 (99.26%)\n",
            "\n",
            "EPOCH:  6\n"
          ],
          "name": "stdout"
        },
        {
          "output_type": "stream",
          "text": [
            "Loss=0.046000316739082336 Batch_id=937 Accuracy=98.78: 100%|██████████| 938/938 [00:15<00:00, 60.22it/s]\n",
            "  0%|          | 0/938 [00:00<?, ?it/s]"
          ],
          "name": "stderr"
        },
        {
          "output_type": "stream",
          "text": [
            "99.17\n",
            "\n",
            "Test set: Average loss: 0.0249, Accuracy: 9917/10000 (99.17%)\n",
            "\n",
            "EPOCH:  7\n"
          ],
          "name": "stdout"
        },
        {
          "output_type": "stream",
          "text": [
            "Loss=0.0038566291332244873 Batch_id=937 Accuracy=98.94: 100%|██████████| 938/938 [00:15<00:00, 60.36it/s]\n",
            "  0%|          | 0/938 [00:00<?, ?it/s]"
          ],
          "name": "stderr"
        },
        {
          "output_type": "stream",
          "text": [
            "99.38\n",
            "\n",
            "Test set: Average loss: 0.0199, Accuracy: 9938/10000 (99.38%)\n",
            "\n",
            "EPOCH:  8\n"
          ],
          "name": "stdout"
        },
        {
          "output_type": "stream",
          "text": [
            "Loss=0.0144062340259552 Batch_id=937 Accuracy=99.17: 100%|██████████| 938/938 [00:15<00:00, 60.49it/s]\n",
            "  0%|          | 0/938 [00:00<?, ?it/s]"
          ],
          "name": "stderr"
        },
        {
          "output_type": "stream",
          "text": [
            "99.55\n",
            "\n",
            "Test set: Average loss: 0.0153, Accuracy: 9955/10000 (99.55%)\n",
            "\n",
            "EPOCH:  9\n"
          ],
          "name": "stdout"
        },
        {
          "output_type": "stream",
          "text": [
            "Loss=0.03775106370449066 Batch_id=937 Accuracy=99.30: 100%|██████████| 938/938 [00:15<00:00, 58.77it/s]\n",
            "  0%|          | 0/938 [00:00<?, ?it/s]"
          ],
          "name": "stderr"
        },
        {
          "output_type": "stream",
          "text": [
            "99.6\n",
            "\n",
            "Test set: Average loss: 0.0151, Accuracy: 9960/10000 (99.60%)\n",
            "\n",
            "EPOCH:  10\n"
          ],
          "name": "stdout"
        },
        {
          "output_type": "stream",
          "text": [
            "Loss=0.004320859909057617 Batch_id=937 Accuracy=99.29: 100%|██████████| 938/938 [00:15<00:00, 58.97it/s]\n",
            "  0%|          | 0/938 [00:00<?, ?it/s]"
          ],
          "name": "stderr"
        },
        {
          "output_type": "stream",
          "text": [
            "99.57\n",
            "\n",
            "Test set: Average loss: 0.0154, Accuracy: 9957/10000 (99.57%)\n",
            "\n",
            "EPOCH:  11\n"
          ],
          "name": "stdout"
        },
        {
          "output_type": "stream",
          "text": [
            "Loss=0.008017927408218384 Batch_id=937 Accuracy=99.33: 100%|██████████| 938/938 [00:16<00:00, 58.47it/s]\n",
            "  0%|          | 0/938 [00:00<?, ?it/s]"
          ],
          "name": "stderr"
        },
        {
          "output_type": "stream",
          "text": [
            "99.55\n",
            "\n",
            "Test set: Average loss: 0.0154, Accuracy: 9955/10000 (99.55%)\n",
            "\n",
            "EPOCH:  12\n"
          ],
          "name": "stdout"
        },
        {
          "output_type": "stream",
          "text": [
            "Loss=0.012802302837371826 Batch_id=937 Accuracy=99.30: 100%|██████████| 938/938 [00:15<00:00, 58.83it/s]\n",
            "  0%|          | 0/938 [00:00<?, ?it/s]"
          ],
          "name": "stderr"
        },
        {
          "output_type": "stream",
          "text": [
            "99.55\n",
            "\n",
            "Test set: Average loss: 0.0147, Accuracy: 9955/10000 (99.55%)\n",
            "\n",
            "EPOCH:  13\n"
          ],
          "name": "stdout"
        },
        {
          "output_type": "stream",
          "text": [
            "Loss=0.002640470862388611 Batch_id=937 Accuracy=99.30: 100%|██████████| 938/938 [00:15<00:00, 59.54it/s]\n",
            "  0%|          | 0/938 [00:00<?, ?it/s]"
          ],
          "name": "stderr"
        },
        {
          "output_type": "stream",
          "text": [
            "99.57\n",
            "\n",
            "Test set: Average loss: 0.0148, Accuracy: 9957/10000 (99.57%)\n",
            "\n",
            "EPOCH:  14\n"
          ],
          "name": "stdout"
        },
        {
          "output_type": "stream",
          "text": [
            "Loss=0.003788366913795471 Batch_id=937 Accuracy=99.33: 100%|██████████| 938/938 [00:15<00:00, 60.78it/s]\n",
            "  0%|          | 0/938 [00:00<?, ?it/s]"
          ],
          "name": "stderr"
        },
        {
          "output_type": "stream",
          "text": [
            "99.6\n",
            "\n",
            "Test set: Average loss: 0.0144, Accuracy: 9960/10000 (99.60%)\n",
            "\n",
            "EPOCH:  15\n"
          ],
          "name": "stdout"
        },
        {
          "output_type": "stream",
          "text": [
            "Loss=0.008885711431503296 Batch_id=937 Accuracy=99.37: 100%|██████████| 938/938 [00:15<00:00, 59.85it/s]\n"
          ],
          "name": "stderr"
        },
        {
          "output_type": "stream",
          "text": [
            "99.58\n",
            "\n",
            "Test set: Average loss: 0.0145, Accuracy: 9958/10000 (99.58%)\n",
            "\n"
          ],
          "name": "stdout"
        }
      ]
    },
    {
      "cell_type": "code",
      "metadata": {
        "id": "mZxlJ2NWGRwp",
        "colab_type": "code",
        "outputId": "eab66bb3-a588-4e73-f579-19223485dd07",
        "colab": {
          "base_uri": "https://localhost:8080/",
          "height": 624
        }
      },
      "source": [
        "import matplotlib.pyplot as plt\n",
        "%matplotlib inline\n",
        "\n",
        "fig, axs = plt.subplots(2,2,figsize=(15,10))\n",
        "axs[0, 0].plot(train_loss)\n",
        "axs[0, 0].set_title(\"Training Loss\")\n",
        "axs[1, 0].plot(train_acc)\n",
        "axs[1, 0].set_title(\"Training Accuracy\")\n",
        "axs[0, 1].plot(test_loss)\n",
        "axs[0, 1].set_title(\"Test Loss\")\n",
        "axs[1, 1].plot(test_acc)\n",
        "axs[1, 1].set_title(\"Test Accuracy\")"
      ],
      "execution_count": 11,
      "outputs": [
        {
          "output_type": "execute_result",
          "data": {
            "text/plain": [
              "Text(0.5, 1.0, 'Test Accuracy')"
            ]
          },
          "metadata": {
            "tags": []
          },
          "execution_count": 11
        },
        {
          "output_type": "display_data",
          "data": {
            "image/png": "[encoded data removed]",
            "text/plain": [
              "<Figure size 1080x720 with 4 Axes>"
            ]
          },
          "metadata": {
            "tags": [],
            "needs_background": "light"
          }
        }
      ]
    },
    {
      "cell_type": "code",
      "metadata": {
        "id": "OU6q1TNfXwVA",
        "colab_type": "code",
        "outputId": "ff66eaa1-46b5-4a4c-d278-e2acad00bbcc",
        "colab": {
          "base_uri": "https://localhost:8080/",
          "height": 312
        }
      },
      "source": [
        "plt.axes(xlabel= 'epochs', ylabel= 'Accuracy')\n",
        "plt.plot(train_endacc)\n",
        "plt.plot(test_acc)\n",
        "plt.title('Test vs Train Accuracy')\n",
        "plt.legend(['Train', 'Test'])"
      ],
      "execution_count": 12,
      "outputs": [
        {
          "output_type": "execute_result",
          "data": {
            "text/plain": [
              "<matplotlib.legend.Legend at 0x7fd7d7374be0>"
            ]
          },
          "metadata": {
            "tags": []
          },
          "execution_count": 12
        },
        {
          "output_type": "display_data",
          "data": {
            "image/png": "[encoded data removed]",
            "text/plain": [
              "<Figure size 432x288 with 1 Axes>"
            ]
          },
          "metadata": {
            "tags": [],
            "needs_background": "light"
          }
        }
      ]
    },
    {
      "cell_type": "code",
      "metadata": {
        "id": "b2Bww4XEX3No",
        "colab_type": "code",
        "outputId": "d1f0f589-1723-44e6-a552-b445d975f3ec",
        "colab": {
          "base_uri": "https://localhost:8080/",
          "height": 68
        }
      },
      "source": [
        "print(f'Max Training Loss {min(train_loss)} with Max Training Accuracy {max(train_endacc)}\\n')\n",
        "print(f'Max Testing Loss {min(test_loss)} with Max Testing Accuracy {max(test_acc)}')"
      ],
      "execution_count": 13,
      "outputs": [
        {
          "output_type": "stream",
          "text": [
            "Max Training Loss 0.0002926141023635864 with Max Training Accuracy 99.37166666666667\n",
            "\n",
            "Max Testing Loss 0.01440966169834137 with Max Testing Accuracy 99.6\n"
          ],
          "name": "stdout"
        }
      ]
    },
    {
      "cell_type": "markdown",
      "metadata": {
        "id": "fWOHrt_eXKtV",
        "colab_type": "text"
      },
      "source": [
        "#Results:"
      ]
    },
    {
      "cell_type": "markdown",
      "metadata": {
        "id": "Sfu3QqN4XMKR",
        "colab_type": "text"
      },
      "source": [
        "\n",
        "\n",
        "1.   Parameters Used: **8464**\n",
        "1.   Test Accuracy: **99.60%**\n",
        "2.   Training Accuracy: **99.37%**\n",
        "2.   Epochs Used: **15**\n",
        "\n"
      ]
    },
    {
      "cell_type": "markdown",
      "metadata": {
        "id": "7aZvVhIBXS8z",
        "colab_type": "text"
      },
      "source": [
        "#Analysis:"
      ]
    },
    {
      "cell_type": "markdown",
      "metadata": {
        "id": "D4rE0AvgXV9y",
        "colab_type": "text"
      },
      "source": [
        "\n",
        "\n",
        "1.   Acheived 99.55% Test Accuracy at epoch:8\n",
        "2.   StepLR has done wonders, keeping accuracy consistent.\n",
        "\n",
        "\n",
        "\n",
        "*   Test accuracy 99.55 (epoch 8)\n",
        "*   Test accuracy 99.60 (epoch 9)\n",
        "*   Test accuracy 99.57 (epoch 10)\n",
        "*   Test accuracy 99.55 (epoch 11)\n",
        "*   Test accuracy 99.55 (epoch 12)\n",
        "*   Test accuracy 99.57 (epoch 13)\n",
        "*   Test accuracy 99.60 (epoch 14)\n",
        "*   Test accuracy 99.58 (epoch 15)\n",
        "\n",
        "\n",
        "\n",
        "\n",
        "\n",
        "\n"
      ]
    },
    {
      "cell_type": "code",
      "metadata": {
        "id": "FzsnHvgMXqx-",
        "colab_type": "code",
        "colab": {}
      },
      "source": [
        ""
      ],
      "execution_count": 0,
      "outputs": []
    }
  ]
}