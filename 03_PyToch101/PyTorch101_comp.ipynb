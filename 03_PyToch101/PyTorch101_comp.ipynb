{
  "nbformat": 4,
  "nbformat_minor": 0,
  "metadata": {
    "colab": {
      "name": "PyTorch101.ipynb",
      "provenance": [],
      "include_colab_link": true
    },
    "kernelspec": {
      "name": "python3",
      "display_name": "Python 3"
    }
  },
  "cells": [
    {
      "cell_type": "markdown",
      "metadata": {
        "id": "view-in-github",
        "colab_type": "text"
      },
      "source": [
        "<a href=\"https://colab.research.google.com/github/abksyed/EVA4/blob/master/03PyToch101/PyTorch101_comp.ipynb\" target=\"_parent\"><img src=\"https://colab.research.google.com/assets/colab-badge.svg\" alt=\"Open In Colab\"/></a>"
      ]
    },
    {
      "cell_type": "markdown",
      "metadata": {
        "id": "_kYM3ylzYo1Q",
        "colab_type": "text"
      },
      "source": [
        "![PyTorch](https://devblogs.nvidia.com/wp-content/uploads/2017/04/pytorch-logo-dark.png)\n",
        "\n",
        "An open source machine learning framework that accelerates the path from research prototyping to production deployment.\n",
        "\n"
      ]
    },
    {
      "cell_type": "markdown",
      "metadata": {
        "id": "WcVqSTrWY6oz",
        "colab_type": "text"
      },
      "source": [
        "# Tensor - Pytorch's core data structure\n",
        "\n",
        "In Python we can create lists, lists of lists, lists of lists and so on. In NumPy there is a `numpy.ndarray` which represents `n`- dimensional array. In math there is a special name for the generalization of vectors and matrices to a higher dimensional space - a tensor\n",
        "\n",
        "Tensor is an entity with a defined number of dimensions called an order (rank). \n",
        "\n",
        "**Scalar** can be considered as a rank-0-tensor. \n",
        "\n",
        "**Vector** can be introduced as a rank-1-tensor. \n",
        "\n",
        "**Matrices** can be considered as a rank-2-tensor.\n",
        "\n",
        "# Tensor Basics\n",
        "\n",
        "Let's import the torch module first."
      ]
    },
    {
      "cell_type": "code",
      "metadata": {
        "id": "e-oFVL2tYYqp",
        "colab_type": "code",
        "colab": {}
      },
      "source": [
        "import numpy as np\n",
        "import torch"
      ],
      "execution_count": 0,
      "outputs": []
    },
    {
      "cell_type": "markdown",
      "metadata": {
        "id": "uGxuR5IEaFJa",
        "colab_type": "text"
      },
      "source": [
        "## Tensor Creation\n",
        "Let's view examples of matrices and tensors generation\n",
        "\n",
        "2-dimensional (rank-2) tensor of zeros:"
      ]
    },
    {
      "cell_type": "code",
      "metadata": {
        "id": "897JQc25aD3E",
        "colab_type": "code",
        "outputId": "21d0b46d-f59a-471c-a7dd-073873418468",
        "colab": {
          "base_uri": "https://localhost:8080/",
          "height": 68
        }
      },
      "source": [
        "torch.zeros(3, 4)"
      ],
      "execution_count": 129,
      "outputs": [
        {
          "output_type": "execute_result",
          "data": {
            "text/plain": [
              "tensor([[0., 0., 0., 0.],\n",
              "        [0., 0., 0., 0.],\n",
              "        [0., 0., 0., 0.]])"
            ]
          },
          "metadata": {
            "tags": []
          },
          "execution_count": 129
        }
      ]
    },
    {
      "cell_type": "markdown",
      "metadata": {
        "id": "pujmpEBhaPRA",
        "colab_type": "text"
      },
      "source": [
        "Random rank-3 tensor:\n",
        "_read the print below and convince yourself how this is a rank-3-tensor and learn what those 2, 3, 4 values are there for_"
      ]
    },
    {
      "cell_type": "code",
      "metadata": {
        "id": "mBrznTNhaOL7",
        "colab_type": "code",
        "outputId": "ab5e5af6-69e6-42b3-df37-dd169348842d",
        "colab": {
          "base_uri": "https://localhost:8080/",
          "height": 136
        }
      },
      "source": [
        "torch.rand(2, 3, 4)"
      ],
      "execution_count": 130,
      "outputs": [
        {
          "output_type": "execute_result",
          "data": {
            "text/plain": [
              "tensor([[[0.2820, 0.6914, 0.4831, 0.2919],\n",
              "         [0.8257, 0.6144, 0.5993, 0.5940],\n",
              "         [0.9721, 0.0513, 0.7880, 0.2941]],\n",
              "\n",
              "        [[0.0732, 0.6776, 0.8928, 0.1070],\n",
              "         [0.7695, 0.7220, 0.4020, 0.0615],\n",
              "         [0.7726, 0.1053, 0.8774, 0.1177]]])"
            ]
          },
          "metadata": {
            "tags": []
          },
          "execution_count": 130
        }
      ]
    },
    {
      "cell_type": "markdown",
      "metadata": {
        "id": "kO4fIr15asdi",
        "colab_type": "text"
      },
      "source": [
        "I am hoping you have noticed 4-elements in a row, 3 rows making one block and there are 2 blocks. \n",
        "\n",
        "Random rank-4-tensor:"
      ]
    },
    {
      "cell_type": "code",
      "metadata": {
        "id": "KiCLvMGCaVZ3",
        "colab_type": "code",
        "outputId": "f96c1684-f662-45c9-be69-7b1dc8725d65",
        "colab": {
          "base_uri": "https://localhost:8080/",
          "height": 221
        }
      },
      "source": [
        "torch.rand(2, 2, 2, 3)"
      ],
      "execution_count": 131,
      "outputs": [
        {
          "output_type": "execute_result",
          "data": {
            "text/plain": [
              "tensor([[[[0.0037, 0.1836, 0.4515],\n",
              "          [0.4034, 0.1959, 0.6056]],\n",
              "\n",
              "         [[0.1013, 0.6996, 0.4221],\n",
              "          [0.4231, 0.1687, 0.2169]]],\n",
              "\n",
              "\n",
              "        [[[0.9579, 0.3588, 0.0993],\n",
              "          [0.8030, 0.3363, 0.8410]],\n",
              "\n",
              "         [[0.8107, 0.1109, 0.4863],\n",
              "          [0.1030, 0.1754, 0.9215]]]])"
            ]
          },
          "metadata": {
            "tags": []
          },
          "execution_count": 131
        }
      ]
    },
    {
      "cell_type": "markdown",
      "metadata": {
        "id": "lF6VL68s3AMV",
        "colab_type": "text"
      },
      "source": [
        "## Question 1:\n",
        "\n",
        "How many dimensions are there in a tensor defined as below?"
      ]
    },
    {
      "cell_type": "code",
      "metadata": {
        "id": "8IbXcI3x3Ibt",
        "colab_type": "code",
        "outputId": "a1a0e5cd-fa4b-46a3-8908-9e8047372e34",
        "colab": {
          "base_uri": "https://localhost:8080/",
          "height": 34
        }
      },
      "source": [
        "torch.rand(1, 1, 1, 1)"
      ],
      "execution_count": 132,
      "outputs": [
        {
          "output_type": "execute_result",
          "data": {
            "text/plain": [
              "tensor([[[[0.2188]]]])"
            ]
          },
          "metadata": {
            "tags": []
          },
          "execution_count": 132
        }
      ]
    },
    {
      "cell_type": "markdown",
      "metadata": {
        "id": "dkvKAjpqcaUO",
        "colab_type": "text"
      },
      "source": [
        "**4**"
      ]
    },
    {
      "cell_type": "markdown",
      "metadata": {
        "id": "qmgpqssRa9jF",
        "colab_type": "text"
      },
      "source": [
        ".\n",
        "\n",
        "---\n",
        "\n",
        "\n",
        "There are many more ways to create tensor using some restrictions on values it should contatn - for the full reference, please follow the [official docs](https://pytorch.org/docs/stable/torch.html#creation-ops). \n",
        "\n",
        "\n",
        ".\n",
        "---\n",
        "\n",
        "\n",
        "# Python / NumPy / Pytorch interoperability\n",
        "\n",
        "You can create tensors from python as well as numpy arrays. You can also convert torch tensors to numpy arrays. So, the interoperability between torch and numpy is pretty good. "
      ]
    },
    {
      "cell_type": "code",
      "metadata": {
        "id": "ipgpeWPfa6gE",
        "colab_type": "code",
        "outputId": "8517ce70-1739-4f2f-db4d-9e57516bf390",
        "colab": {
          "base_uri": "https://localhost:8080/",
          "height": 119
        }
      },
      "source": [
        "# Simple Python List\n",
        "python_list = [1, 2]\n",
        "\n",
        "# Create a numpy array from python list\n",
        "numpy_array = np.array(python_list)\n",
        "\n",
        "# Create a torch Tensor from python list\n",
        "tensor_from_list = torch.tensor(python_list)\n",
        "\n",
        "# Create a torch Tensor from Numpy array\n",
        "tensor_from_array = torch.tensor(numpy_array)\n",
        "\n",
        "# Another way to create a torch Tensor from Numpy array (share same storage)\n",
        "tensor_from_array_v2 = torch.from_numpy(numpy_array)\n",
        "\n",
        "# Convert torch tensor to numpy array\n",
        "array_from_tensor = tensor_from_array.numpy()\n",
        "\n",
        "print('List:   ', python_list)\n",
        "print('Array:  ', numpy_array)\n",
        "print('Tensor: ', tensor_from_list)\n",
        "print('Tensor: ', tensor_from_array)\n",
        "print('Tensor: ', tensor_from_array_v2)\n",
        "print('Array:  ', array_from_tensor)"
      ],
      "execution_count": 133,
      "outputs": [
        {
          "output_type": "stream",
          "text": [
            "List:    [1, 2]\n",
            "Array:   [1 2]\n",
            "Tensor:  tensor([1, 2])\n",
            "Tensor:  tensor([1, 2])\n",
            "Tensor:  tensor([1, 2])\n",
            "Array:   [1 2]\n"
          ],
          "name": "stdout"
        }
      ]
    },
    {
      "cell_type": "markdown",
      "metadata": {
        "id": "X_x-86B8gqik",
        "colab_type": "text"
      },
      "source": [
        "**Difference between** `torch.Tensor` **and** `torch.from_numpy`\n",
        "\n",
        "Pytorch aims to be an effective library for computations. What does it mean? It means that pytorch avoids memory copying if it can. "
      ]
    },
    {
      "cell_type": "code",
      "metadata": {
        "id": "eHCKDGpygn_d",
        "colab_type": "code",
        "outputId": "6ee89168-a9f8-43e7-ed05-a2d2b8296352",
        "colab": {
          "base_uri": "https://localhost:8080/",
          "height": 68
        }
      },
      "source": [
        "numpy_array[0] = 10\n",
        "\n",
        "print('Array:  ', numpy_array)\n",
        "print('Tensor: ', tensor_from_array)\n",
        "print('Tensor: ', tensor_from_array_v2)"
      ],
      "execution_count": 134,
      "outputs": [
        {
          "output_type": "stream",
          "text": [
            "Array:   [10  2]\n",
            "Tensor:  tensor([1, 2])\n",
            "Tensor:  tensor([10,  2])\n"
          ],
          "name": "stdout"
        }
      ]
    },
    {
      "cell_type": "markdown",
      "metadata": {
        "id": "Lm2rvf7sR32Y",
        "colab_type": "text"
      },
      "source": [
        "**Accuracy Increases**"
      ]
    },
    {
      "cell_type": "markdown",
      "metadata": {
        "id": "-CKtdNRM3SMp",
        "colab_type": "text"
      },
      "source": [
        "## Question 2:\n",
        "\n",
        "Assume that we moved our complete (cats vs dogs) image dataset to numpy arrays. Then we use torch.from_numpy to convert these images to tensor. Then we apply a specific data augmentation strategy called \"CutOut\" which blocks a portion of the image directly on these tensors. What will happen to the accuracy of a model trained on this strategy compared to the one without this strategy? CutOut strategy is shown below: \n",
        "\n",
        "![CutOut](https://encrypted-tbn0.gstatic.com/images?q=tbn%3AANd9GcSnSyN835AmtQPKQbPjDHX-FmshNilbtexX95cRGQPwl56QCGDn)\n",
        "\n",
        "## Question 3:\n",
        "Why do you think we are observing this behavior?\n",
        "\n",
        "\n",
        "\n",
        "---\n",
        "\n",
        "\n"
      ]
    },
    {
      "cell_type": "markdown",
      "metadata": {
        "id": "OwJ8ROw9eu7Z",
        "colab_type": "text"
      },
      "source": [
        "**When using cutout, we are asking the model to learn even the minute features from the images too, by hiding some major features, which may lead to better accuracy, so the Model Accuracy Increases after CutOut**"
      ]
    },
    {
      "cell_type": "markdown",
      "metadata": {
        "id": "dZq7O-aihSOA",
        "colab_type": "text"
      },
      "source": [
        "We have two different ways to create tensor from its NumPy counterpart - one copies memory and another one shares the same underlying storage. It works in the opposite way:"
      ]
    },
    {
      "cell_type": "code",
      "metadata": {
        "id": "TNFOwV8EhPwQ",
        "colab_type": "code",
        "outputId": "8ece5009-ab9b-4440-c0ab-9cf3ce7849bf",
        "colab": {
          "base_uri": "https://localhost:8080/",
          "height": 170
        }
      },
      "source": [
        "array_from_tensor = tensor_from_array.numpy()\n",
        "array_from_tensor_v2 = tensor_from_array_v2.numpy()\n",
        "print('Tensor: ', tensor_from_array)\n",
        "print('Array: ', array_from_tensor)\n",
        "print('Tensor: ', tensor_from_array_v2)\n",
        "print('Array v2: ', array_from_tensor_v2)\n",
        "print()\n",
        "tensor_from_array[0] = 11\n",
        "tensor_from_array_v2[0] = 11\n",
        "\n",
        "print('Tensor: ', tensor_from_array)\n",
        "print('Array: ', array_from_tensor)\n",
        "print('Tensor: ', tensor_from_array_v2)\n",
        "print('Array v2: ', array_from_tensor_v2)"
      ],
      "execution_count": 135,
      "outputs": [
        {
          "output_type": "stream",
          "text": [
            "Tensor:  tensor([1, 2])\n",
            "Array:  [1 2]\n",
            "Tensor:  tensor([10,  2])\n",
            "Array v2:  [10  2]\n",
            "\n",
            "Tensor:  tensor([11,  2])\n",
            "Array:  [11  2]\n",
            "Tensor:  tensor([11,  2])\n",
            "Array v2:  [11  2]\n"
          ],
          "name": "stdout"
        }
      ]
    },
    {
      "cell_type": "markdown",
      "metadata": {
        "id": "UM9ytbvKhtCw",
        "colab_type": "text"
      },
      "source": [
        "## Data types\n",
        "\n",
        "The basic data type of all Deep Learning-related operations is float, but sometimes you may need something else. Pytorch support different number types for its tensors the same way NumPy does it - by specifying the data type on tensor creation or via casting. Ths full list of supported data types can be found [here](https://pytorch.org/docs/stable/tensors.html). "
      ]
    },
    {
      "cell_type": "code",
      "metadata": {
        "id": "Bd6WkzJ4hpYi",
        "colab_type": "code",
        "outputId": "ee1a358a-7732-48ea-944d-92c5108cf4f3",
        "colab": {
          "base_uri": "https://localhost:8080/",
          "height": 153
        }
      },
      "source": [
        "tensor = torch.zeros(2, 2)\n",
        "print('Tensor with default type: ', tensor)\n",
        "tensor = torch.zeros(2, 2, dtype=torch.float16)\n",
        "print('Tensor with 16-bit float: ', tensor)\n",
        "tensor = torch.zeros(2, 2, dtype=torch.int16)\n",
        "print('Tensor with integers: ', tensor)\n",
        "tensor = torch.zeros(2, 2, dtype=torch.bool)\n",
        "print('Tensor with boolean data: ', tensor)"
      ],
      "execution_count": 136,
      "outputs": [
        {
          "output_type": "stream",
          "text": [
            "Tensor with default type:  tensor([[0., 0.],\n",
            "        [0., 0.]])\n",
            "Tensor with 16-bit float:  tensor([[0., 0.],\n",
            "        [0., 0.]], dtype=torch.float16)\n",
            "Tensor with integers:  tensor([[0, 0],\n",
            "        [0, 0]], dtype=torch.int16)\n",
            "Tensor with boolean data:  tensor([[False, False],\n",
            "        [False, False]])\n"
          ],
          "name": "stdout"
        }
      ]
    },
    {
      "cell_type": "markdown",
      "metadata": {
        "id": "a9F4Dkdr40TE",
        "colab_type": "text"
      },
      "source": [
        "\n",
        "\n",
        "---\n",
        "\n",
        "\n",
        "## Question 4:\n",
        "We saw above that some times numpy and tensors share same storage and changing one changes the other. \n",
        "If we define a rank-2-tensor with ones (dtype of f16), and then convert it into a numpy data type using tensor.numpy() and store it in a variable called \"num\", and then we perform this operation `num = num * 0.5`, will the original tensor have 1.0s or 0.5s as its element values? \n"
      ]
    },
    {
      "cell_type": "code",
      "metadata": {
        "id": "8ksDW3ezgdDT",
        "colab_type": "code",
        "colab": {
          "base_uri": "https://localhost:8080/",
          "height": 221
        },
        "outputId": "66e7970e-8c2e-4f2c-d62d-0ad1f03062b8"
      },
      "source": [
        "ones = torch.ones(3,4, dtype=torch.float16)\n",
        "print(ones)\n",
        "num = ones.numpy()\n",
        "print(num)\n",
        "num = num * 0.5\n",
        "print(ones)\n",
        "print(num)"
      ],
      "execution_count": 137,
      "outputs": [
        {
          "output_type": "stream",
          "text": [
            "tensor([[1., 1., 1., 1.],\n",
            "        [1., 1., 1., 1.],\n",
            "        [1., 1., 1., 1.]], dtype=torch.float16)\n",
            "[[1. 1. 1. 1.]\n",
            " [1. 1. 1. 1.]\n",
            " [1. 1. 1. 1.]]\n",
            "tensor([[1., 1., 1., 1.],\n",
            "        [1., 1., 1., 1.],\n",
            "        [1., 1., 1., 1.]], dtype=torch.float16)\n",
            "[[0.5 0.5 0.5 0.5]\n",
            " [0.5 0.5 0.5 0.5]\n",
            " [0.5 0.5 0.5 0.5]]\n"
          ],
          "name": "stdout"
        }
      ]
    },
    {
      "cell_type": "markdown",
      "metadata": {
        "id": "T4IVmQT_gVqI",
        "colab_type": "text"
      },
      "source": [
        "**The Label 'num' has been moved from all 1.0s to all 0.5s, but the label 'ones' will remain at 1.0s**"
      ]
    },
    {
      "cell_type": "markdown",
      "metadata": {
        "id": "OiQt8Mmm51OE",
        "colab_type": "text"
      },
      "source": [
        "\n",
        "\n",
        "---\n",
        "\n",
        "## Question 5: \n",
        "If the operation `num = num*5` is changed to `num[:] = num*5` will the original tensor have 1.0s or 0.5s as its element values? \n",
        "\n",
        "\n",
        "\n",
        "---\n",
        "\n"
      ]
    },
    {
      "cell_type": "code",
      "metadata": {
        "id": "Fs2kAwaPhkGf",
        "colab_type": "code",
        "colab": {
          "base_uri": "https://localhost:8080/",
          "height": 221
        },
        "outputId": "bd4659a8-f844-4908-cf79-e6053122329a"
      },
      "source": [
        "ones = torch.ones(3,4, dtype= torch.float16)\n",
        "print(ones)\n",
        "num = ones.numpy()\n",
        "print(num)\n",
        "num[:] = num * 0.5\n",
        "print(ones)\n",
        "print(num)"
      ],
      "execution_count": 138,
      "outputs": [
        {
          "output_type": "stream",
          "text": [
            "tensor([[1., 1., 1., 1.],\n",
            "        [1., 1., 1., 1.],\n",
            "        [1., 1., 1., 1.]], dtype=torch.float16)\n",
            "[[1. 1. 1. 1.]\n",
            " [1. 1. 1. 1.]\n",
            " [1. 1. 1. 1.]]\n",
            "tensor([[0.5000, 0.5000, 0.5000, 0.5000],\n",
            "        [0.5000, 0.5000, 0.5000, 0.5000],\n",
            "        [0.5000, 0.5000, 0.5000, 0.5000]], dtype=torch.float16)\n",
            "[[0.5 0.5 0.5 0.5]\n",
            " [0.5 0.5 0.5 0.5]\n",
            " [0.5 0.5 0.5 0.5]]\n"
          ],
          "name": "stdout"
        }
      ]
    },
    {
      "cell_type": "markdown",
      "metadata": {
        "id": "slPRfeaihrHQ",
        "colab_type": "text"
      },
      "source": [
        "**Now we are changing the values in the label num, so this changes will automatically show up in ones(tensor)**"
      ]
    },
    {
      "cell_type": "markdown",
      "metadata": {
        "id": "vzh8UB8KiVmb",
        "colab_type": "text"
      },
      "source": [
        "## Indexing\n",
        "\n",
        "Tensor provides access to its elements via the same `[]` operation as a regular python list or NumPy array. However, as you may recall from NumPy usage, the full power of math libraries is accessible only via vectorized operations, i.e. operations without explicit looping over all vector elements in python and using implicit optimized loops in C/C++/CUDA/Fortran/etc. available via special function calls. Pytorch employs the same paradigm and provides a wide range of vectorized operations. Let's take a look at some examples. \n",
        "\n",
        "Joining a list of tensors together with `torch.cat`"
      ]
    },
    {
      "cell_type": "code",
      "metadata": {
        "id": "GMaCDKPhiUAb",
        "colab_type": "code",
        "outputId": "dd97ac33-e5c4-46ab-e668-17f56f40fcad",
        "colab": {
          "base_uri": "https://localhost:8080/",
          "height": 119
        }
      },
      "source": [
        "a = torch.zeros(3, 2)\n",
        "b = torch.ones(3, 2)\n",
        "print(torch.cat((a, b), dim=0))"
      ],
      "execution_count": 139,
      "outputs": [
        {
          "output_type": "stream",
          "text": [
            "tensor([[0., 0.],\n",
            "        [0., 0.],\n",
            "        [0., 0.],\n",
            "        [1., 1.],\n",
            "        [1., 1.],\n",
            "        [1., 1.]])\n"
          ],
          "name": "stdout"
        }
      ]
    },
    {
      "cell_type": "markdown",
      "metadata": {
        "id": "5bj4aeE86zdH",
        "colab_type": "text"
      },
      "source": [
        "\n",
        "\n",
        "---\n",
        "\n",
        "## Question 6: \n",
        "Is the transpose of concatenated a & b tensor on dimension 1, same as the contatenated tensor of a & b on dimension 0? \n",
        "\n",
        "\n",
        "\n",
        "---\n",
        "\n"
      ]
    },
    {
      "cell_type": "code",
      "metadata": {
        "id": "5VIbkpw4TqNY",
        "colab_type": "code",
        "colab": {
          "base_uri": "https://localhost:8080/",
          "height": 238
        },
        "outputId": "2c7ff7f3-6b77-40b5-d3bd-834e852f3572"
      },
      "source": [
        "a = torch.zeros(3, 2)\n",
        "b = torch.ones(3, 2)\n",
        "concat = torch.cat((a, b), dim=0)\n",
        "concat1 = torch.cat((a, b), dim=1)\n",
        "concatT = concat1.T\n",
        "\n",
        "print(concat)\n",
        "print(concat1)\n",
        "print(concatT)"
      ],
      "execution_count": 140,
      "outputs": [
        {
          "output_type": "stream",
          "text": [
            "tensor([[0., 0.],\n",
            "        [0., 0.],\n",
            "        [0., 0.],\n",
            "        [1., 1.],\n",
            "        [1., 1.],\n",
            "        [1., 1.]])\n",
            "tensor([[0., 0., 1., 1.],\n",
            "        [0., 0., 1., 1.],\n",
            "        [0., 0., 1., 1.]])\n",
            "tensor([[0., 0., 0.],\n",
            "        [0., 0., 0.],\n",
            "        [1., 1., 1.],\n",
            "        [1., 1., 1.]])\n"
          ],
          "name": "stdout"
        }
      ]
    },
    {
      "cell_type": "markdown",
      "metadata": {
        "id": "jjF22TXKUaQD",
        "colab_type": "text"
      },
      "source": [
        "**NO Transpose of concat of a&b on dim=1 is NOT same as concat of ab on dim=0**"
      ]
    },
    {
      "cell_type": "markdown",
      "metadata": {
        "id": "0TXNne69j7LP",
        "colab_type": "text"
      },
      "source": [
        "Indexing with another tenxor/array:"
      ]
    },
    {
      "cell_type": "code",
      "metadata": {
        "id": "KiE-Fsi4jVd6",
        "colab_type": "code",
        "outputId": "6dfd521f-0bea-4f05-90b1-aa3f2ffb2dfa",
        "colab": {
          "base_uri": "https://localhost:8080/",
          "height": 102
        }
      },
      "source": [
        "a = torch.arange(start=0, end=10)\n",
        "indices = np.arange(0, 10) > 5\n",
        "print(a)\n",
        "print(indices)\n",
        "print(a[indices])\n",
        "\n",
        "indices = torch.arange(start=0, end=10) %5\n",
        "print(indices)\n",
        "print(a[indices])"
      ],
      "execution_count": 141,
      "outputs": [
        {
          "output_type": "stream",
          "text": [
            "tensor([0, 1, 2, 3, 4, 5, 6, 7, 8, 9])\n",
            "[False False False False False False  True  True  True  True]\n",
            "tensor([6, 7, 8, 9])\n",
            "tensor([0, 1, 2, 3, 4, 0, 1, 2, 3, 4])\n",
            "tensor([0, 1, 2, 3, 4, 0, 1, 2, 3, 4])\n"
          ],
          "name": "stdout"
        }
      ]
    },
    {
      "cell_type": "markdown",
      "metadata": {
        "id": "LS4dnlu47WQu",
        "colab_type": "text"
      },
      "source": [
        "\n",
        "\n",
        "---\n",
        "\n",
        "## Question 7:\n",
        "\n",
        "`a` is defined as `torch.arange(start=0, end=10)`. We will create `b` using the two operations as below. In both cases do we get the same value?\n",
        "\n",
        "\n",
        "1.   indices variable created by the modulo operation on arange between 0 and 10. Then a new varialble `b` is created from `a` using the last 5 elements of indices. \n",
        "2.   indices variable created by the modulo operation on arange betwenn 1 and 11. Then a new varialble `b` is created from `a` using the last 5 elements of indices. \n",
        "\n",
        "\n",
        "\n",
        "---\n",
        "\n",
        "\n"
      ]
    },
    {
      "cell_type": "code",
      "metadata": {
        "id": "i0fWtFGxVLAg",
        "colab_type": "code",
        "colab": {
          "base_uri": "https://localhost:8080/",
          "height": 85
        },
        "outputId": "63e70b55-2ecf-4417-abee-361bebfa8c87"
      },
      "source": [
        "a = torch.arange(start=0, end=10)\n",
        "\n",
        "indicesa = torch.arange(start=0, end=10) %5\n",
        "print(indicesa)\n",
        "print(a[indicesa])\n",
        "\n",
        "indicesb = torch.arange(start=1, end=11) %5\n",
        "print(indicesb)\n",
        "print(a[indicesb])"
      ],
      "execution_count": 142,
      "outputs": [
        {
          "output_type": "stream",
          "text": [
            "tensor([0, 1, 2, 3, 4, 0, 1, 2, 3, 4])\n",
            "tensor([0, 1, 2, 3, 4, 0, 1, 2, 3, 4])\n",
            "tensor([1, 2, 3, 4, 0, 1, 2, 3, 4, 0])\n",
            "tensor([1, 2, 3, 4, 0, 1, 2, 3, 4, 0])\n"
          ],
          "name": "stdout"
        }
      ]
    },
    {
      "cell_type": "markdown",
      "metadata": {
        "id": "vLYPIv_rVf2t",
        "colab_type": "text"
      },
      "source": [
        "**NO, we get different b**"
      ]
    },
    {
      "cell_type": "markdown",
      "metadata": {
        "id": "eQ4ZCVsTk-KH",
        "colab_type": "text"
      },
      "source": [
        "What should we do if we have, say, rank-2-tensor and want to select only some rows?"
      ]
    },
    {
      "cell_type": "code",
      "metadata": {
        "id": "_GtRpotjkt1q",
        "colab_type": "code",
        "outputId": "79de4819-7bd5-4b62-a445-84896538f79f",
        "colab": {
          "base_uri": "https://localhost:8080/",
          "height": 153
        }
      },
      "source": [
        "tensor = torch.rand((5, 3))\n",
        "rows = torch.tensor([0, 4])\n",
        "print(tensor)\n",
        "print(rows)\n",
        "tensor[rows]"
      ],
      "execution_count": 143,
      "outputs": [
        {
          "output_type": "stream",
          "text": [
            "tensor([[0.5964, 0.2671, 0.5366],\n",
            "        [0.0576, 0.4843, 0.1726],\n",
            "        [0.5012, 0.2892, 0.5416],\n",
            "        [0.3103, 0.0407, 0.6339],\n",
            "        [0.7747, 0.8756, 0.4561]])\n",
            "tensor([0, 4])\n"
          ],
          "name": "stdout"
        },
        {
          "output_type": "execute_result",
          "data": {
            "text/plain": [
              "tensor([[0.5964, 0.2671, 0.5366],\n",
              "        [0.7747, 0.8756, 0.4561]])"
            ]
          },
          "metadata": {
            "tags": []
          },
          "execution_count": 143
        }
      ]
    },
    {
      "cell_type": "markdown",
      "metadata": {
        "id": "zIJnr_N2_Qaf",
        "colab_type": "text"
      },
      "source": [
        "\n",
        "\n",
        "---\n",
        "\n",
        "## Question 8: \n",
        "\n",
        "Consider a tensor defined as `torch.rand((6, 5))`. Is the shape of the new tensor created by taking the 0th, 2nd and 4th row of the old tensor same as the shape of the a newer tensor created by taking the 0th, 2nd and 4th row of the old tensor after transposing it by operation `torch.transpose(tensor, 0, 1)` ?\n",
        "\n",
        "\n",
        "\n",
        "---\n",
        "\n",
        "\n"
      ]
    },
    {
      "cell_type": "code",
      "metadata": {
        "id": "hm2cqSbMlO8u",
        "colab_type": "code",
        "colab": {
          "base_uri": "https://localhost:8080/",
          "height": 51
        },
        "outputId": "1a5efa02-5632-44d5-c4dc-9f8b74cb5855"
      },
      "source": [
        "a = torch.rand((6,5))\n",
        "print(a[[0,2,4]].shape)\n",
        "b = a.T\n",
        "print(b[[0,2,4]].shape)"
      ],
      "execution_count": 144,
      "outputs": [
        {
          "output_type": "stream",
          "text": [
            "torch.Size([3, 5])\n",
            "torch.Size([3, 6])\n"
          ],
          "name": "stdout"
        }
      ]
    },
    {
      "cell_type": "markdown",
      "metadata": {
        "id": "Usww32xhl0QF",
        "colab_type": "text"
      },
      "source": [
        "**NO, the Shapes are different, it's 3x5 an 3x6**"
      ]
    },
    {
      "cell_type": "markdown",
      "metadata": {
        "id": "naDzFMkslU0b",
        "colab_type": "text"
      },
      "source": [
        "## Tensor Shapes\n",
        "\n",
        "Reshaping a tensor is a frequently used operation. We can change the shape of a tensor without the memory copying overhead. There are two methods for that: `reshape` and `view`. \n",
        "\n",
        "The difference is the following: \n",
        "\n",
        "\n",
        "*   view tries to return a tensor, and it shares the same memory with the original tensor. In case, if it cannot reuse the same memory due to [some reason](https://pytorch.org/docs/stable/tensors.html?highlight=view#torch.Tensor.view), it just fails. \n",
        "*   reshape always returns the tensor with the desired shape and tries to reuse the memory. If it cannot, it creates a copy\n",
        "\n",
        "Let's see with the help of an example:"
      ]
    },
    {
      "cell_type": "code",
      "metadata": {
        "id": "HClDkqLLlMJh",
        "colab_type": "code",
        "outputId": "a7e79490-d51d-47cc-93f7-f4ff4c1fbd87",
        "colab": {
          "base_uri": "https://localhost:8080/",
          "height": 510
        }
      },
      "source": [
        "tensor = torch.rand(2, 3, 4)\n",
        "print('Pointer to data: ', tensor.data_ptr())\n",
        "print('Shape: ', tensor.shape)\n",
        "\n",
        "reshaped = tensor.reshape(24)\n",
        "\n",
        "view = tensor.view(3, 2, 4)\n",
        "print('Reshaped tensor - pointer to data', reshaped.data_ptr())\n",
        "print('Reshaped tensor shape ', reshaped.shape)\n",
        "\n",
        "print('Viewed tensor - pointer to data', view.data_ptr())\n",
        "print('Viewed tensor shape ', view.shape)\n",
        "\n",
        "print()\n",
        "print(tensor)\n",
        "print(reshaped)\n",
        "print(view)\n",
        "print()\n",
        "\n",
        "assert tensor.data_ptr() == view.data_ptr()\n",
        "\n",
        "assert np.all(np.equal(tensor.numpy().flat, reshaped.numpy().flat))\n",
        "\n",
        "print('Original stride: ', tensor.stride())\n",
        "print('Reshaped stride: ', reshaped.stride())\n",
        "print('Viewed stride: ', view.stride())"
      ],
      "execution_count": 145,
      "outputs": [
        {
          "output_type": "stream",
          "text": [
            "Pointer to data:  102595584\n",
            "Shape:  torch.Size([2, 3, 4])\n",
            "Reshaped tensor - pointer to data 102595584\n",
            "Reshaped tensor shape  torch.Size([24])\n",
            "Viewed tensor - pointer to data 102595584\n",
            "Viewed tensor shape  torch.Size([3, 2, 4])\n",
            "\n",
            "tensor([[[0.9202, 0.1293, 0.7200, 0.9303],\n",
            "         [0.3450, 0.4786, 0.4762, 0.0730],\n",
            "         [0.5707, 0.0634, 0.7531, 0.8654]],\n",
            "\n",
            "        [[0.1642, 0.1648, 0.5201, 0.4134],\n",
            "         [0.6589, 0.0897, 0.7869, 0.1855],\n",
            "         [0.7867, 0.5314, 0.2357, 0.0796]]])\n",
            "tensor([0.9202, 0.1293, 0.7200, 0.9303, 0.3450, 0.4786, 0.4762, 0.0730, 0.5707,\n",
            "        0.0634, 0.7531, 0.8654, 0.1642, 0.1648, 0.5201, 0.4134, 0.6589, 0.0897,\n",
            "        0.7869, 0.1855, 0.7867, 0.5314, 0.2357, 0.0796])\n",
            "tensor([[[0.9202, 0.1293, 0.7200, 0.9303],\n",
            "         [0.3450, 0.4786, 0.4762, 0.0730]],\n",
            "\n",
            "        [[0.5707, 0.0634, 0.7531, 0.8654],\n",
            "         [0.1642, 0.1648, 0.5201, 0.4134]],\n",
            "\n",
            "        [[0.6589, 0.0897, 0.7869, 0.1855],\n",
            "         [0.7867, 0.5314, 0.2357, 0.0796]]])\n",
            "\n",
            "Original stride:  (12, 4, 1)\n",
            "Reshaped stride:  (1,)\n",
            "Viewed stride:  (8, 4, 1)\n"
          ],
          "name": "stdout"
        }
      ]
    },
    {
      "cell_type": "markdown",
      "metadata": {
        "id": "jIN5jSppm4yC",
        "colab_type": "text"
      },
      "source": [
        "The basic rule about reshaping the tensor is definitely that you cannot change the total number of elements in it, so the product of all tensor's dimensions should always be the same. It gives us the ability to avoid specifying one dimension when reshaping the tensor - Pytorch can calculate it for us:"
      ]
    },
    {
      "cell_type": "code",
      "metadata": {
        "id": "e3D19ERFmzOl",
        "colab_type": "code",
        "outputId": "92f0531f-bd91-4d90-f129-e17216dee340",
        "colab": {
          "base_uri": "https://localhost:8080/",
          "height": 68
        }
      },
      "source": [
        "print(tensor.reshape(3, 2, 4).shape)\n",
        "print(tensor.reshape(3, 2, -1).shape)\n",
        "print(tensor.reshape(3, -1, 4).shape)"
      ],
      "execution_count": 146,
      "outputs": [
        {
          "output_type": "stream",
          "text": [
            "torch.Size([3, 2, 4])\n",
            "torch.Size([3, 2, 4])\n",
            "torch.Size([3, 2, 4])\n"
          ],
          "name": "stdout"
        }
      ]
    },
    {
      "cell_type": "markdown",
      "metadata": {
        "id": "ObgCQKUiETak",
        "colab_type": "text"
      },
      "source": [
        "\n",
        "\n",
        "---\n",
        "\n",
        "\n",
        "## Question 9:\n",
        "\n",
        "Consider a tensor `a` created with [1, 2, 3] and [1, 2, 3] of size (2, 3) is reshaped with operation `.reshape(-1, 2)`. Also consider a tensor `b` created with [[2, 1]] and of size (1, 2), later operated with `view(2, -1)` operation. \n",
        "\n",
        "If we do a dot product of a and b (using `torch.mm`) and perform the sum of all the elements (using `torch.sum`) what do we get? (enter int value without any decimal point in the quiz)\n",
        "\n",
        "\n",
        "\n",
        "---\n",
        "\n"
      ]
    },
    {
      "cell_type": "code",
      "metadata": {
        "id": "PNYe6WbjnSp-",
        "colab_type": "code",
        "colab": {
          "base_uri": "https://localhost:8080/",
          "height": 187
        },
        "outputId": "931db193-ee5e-4098-e61b-311f155e1e01"
      },
      "source": [
        "a = torch.tensor([[1,2,3], [1,2,3]])\n",
        "print(a)\n",
        "print(a.reshape(-1,2))\n",
        "\n",
        "print()\n",
        "\n",
        "b = torch.tensor([[2, 1]])\n",
        "print(b)\n",
        "print(b.view(2,-1))\n",
        "\n",
        "torch.sum(torch.mm(a.reshape(-1,2), b.view(2,-1)))"
      ],
      "execution_count": 147,
      "outputs": [
        {
          "output_type": "stream",
          "text": [
            "tensor([[1, 2, 3],\n",
            "        [1, 2, 3]])\n",
            "tensor([[1, 2],\n",
            "        [3, 1],\n",
            "        [2, 3]])\n",
            "\n",
            "tensor([[2, 1]])\n",
            "tensor([[2],\n",
            "        [1]])\n"
          ],
          "name": "stdout"
        },
        {
          "output_type": "execute_result",
          "data": {
            "text/plain": [
              "tensor(18)"
            ]
          },
          "metadata": {
            "tags": []
          },
          "execution_count": 147
        }
      ]
    },
    {
      "cell_type": "markdown",
      "metadata": {
        "id": "hOlJv8NBoBiz",
        "colab_type": "text"
      },
      "source": [
        "**18**"
      ]
    },
    {
      "cell_type": "markdown",
      "metadata": {
        "id": "mza7QPg3ndeV",
        "colab_type": "text"
      },
      "source": [
        "**Alternative ways to view tensors** - `expand` or `expand_as`.\n",
        "\n",
        "\n",
        "\n",
        "*   `expand` - requires the desired shape as an input\n",
        "*   `expand_as` - uses the shape of another tensor\n",
        "\n",
        "These operations \"repeat\" tensor's values along the specified axes without actually copying the data. \n",
        "\n",
        "As the documentation says, expand:\n",
        "\n",
        "\n",
        "> returns a new view of the self tensor with singleton dimensions expanded to a larger size. Tensor can be also expanded to a larger number of dimensions, and the new ones will be appended at the front. For the new dimensions, the size cannot be set to -1. \n",
        "\n",
        "**Use case:**\n",
        "\n",
        "\n",
        "\n",
        "*   index multi-channel tensor with single-channel mask - imagine a color image with 3 channels (RGB) and binary mask for the area of interest on that image. We cannot index the image with this kind of mask directly since the dimensions are different, but we can use `expand_as` operation to create a view of the mask that has the same dimensions as the image we want to apply it to, but has not copied the data. "
      ]
    },
    {
      "cell_type": "code",
      "metadata": {
        "id": "iz33E-V7nPQT",
        "colab_type": "code",
        "outputId": "08225aac-9f3a-4f65-e10f-02401e7a92b7",
        "colab": {
          "base_uri": "https://localhost:8080/",
          "height": 646
        }
      },
      "source": [
        "%matplotlib inline\n",
        "from matplotlib import pyplot as plt\n",
        "\n",
        "# Create a black image\n",
        "image = torch.zeros(size=(3, 256, 256), dtype=torch.int)\n",
        "print(image.shape)\n",
        "# Leave the borders and make the rest of the image Green\n",
        "image[1, 18:256 - 18, 18:256 - 18] = 255\n",
        "\n",
        "# Create a mask of the same size\n",
        "mask = torch.zeros(size=(256, 256), dtype=torch.bool)\n",
        "print(mask.shape)\n",
        "# Assuming the green region in the original image is the Region of interest, change the mask to white for that area\n",
        "mask[18:256 - 18, 18:256 - 18] = 1\n",
        "\n",
        "# Create a view of the mask with the same dimensions as the original image\n",
        "mask_expanded = mask.expand_as(image)\n",
        "print(mask.shape)\n",
        "print(mask_expanded.shape)\n",
        "\n",
        "mask_np = mask_expanded.numpy().transpose(1, 2, 0) * 255\n",
        "image_np = image.numpy().transpose(1, 2, 0)\n",
        "\n",
        "fig, ax = plt.subplots(1, 2)\n",
        "ax[0].imshow(image_np)\n",
        "ax[1].imshow(mask_np)\n",
        "plt.show()\n",
        "\n",
        "image[0, mask] += 128\n",
        "fig, ax = plt.subplots(1, 2)\n",
        "ax[0].imshow(image_np)\n",
        "ax[1].imshow(mask_np)\n",
        "plt.show()\n",
        "\n",
        "image[mask_expanded] += 128\n",
        "image.clamp_(0, 255)\n",
        "fig, ax = plt.subplots(1, 2)\n",
        "ax[0].imshow(image_np)\n",
        "ax[1].imshow(mask_np)\n",
        "plt.show()"
      ],
      "execution_count": 148,
      "outputs": [
        {
          "output_type": "stream",
          "text": [
            "torch.Size([3, 256, 256])\n",
            "torch.Size([256, 256])\n",
            "torch.Size([256, 256])\n",
            "torch.Size([3, 256, 256])\n"
          ],
          "name": "stdout"
        },
        {
          "output_type": "display_data",
          "data": {
            "image/png": "[encoded data removed]",
            "text/plain": [
              "<Figure size 432x288 with 2 Axes>"
            ]
          },
          "metadata": {
            "tags": []
          }
        },
        {
          "output_type": "display_data",
          "data": {
            "image/png": "[encoded data removed]",
            "text/plain": [
              "<Figure size 432x288 with 2 Axes>"
            ]
          },
          "metadata": {
            "tags": []
          }
        },
        {
          "output_type": "display_data",
          "data": {
            "image/png": "[encoded data removed]",
            "text/plain": [
              "<Figure size 432x288 with 2 Axes>"
            ]
          },
          "metadata": {
            "tags": []
          }
        }
      ]
    },
    {
      "cell_type": "markdown",
      "metadata": {
        "id": "jiXBx0k3ptOI",
        "colab_type": "text"
      },
      "source": [
        "In the example above, one can also find a couple of useful tricks:\n",
        "\n",
        "\n",
        "*   `clamp` method and function is a Pytorch's analogue of NumPy's `clip` function\n",
        "*   many operations on tensors have in-place form, that does not return modified data, but change values in the tensor. The in-place version of the operation has trailing underscore according to Pytorch's naming convension - in the exmaple above it is `clamp_`\n",
        "*   tensors have the same indexing as Numpy's arrays - one can use `:` seperated range, negative indexes and so on.\n",
        "\n",
        "\n",
        ".\n",
        "\n",
        "\n",
        "---\n",
        "\n",
        "# Images and their representations\n",
        "\n",
        "Now, let's discuss images, their representations and how different Python librarties work with them. \n",
        "\n",
        "Probably, the most well-known library for image loading and simple processing is [Pillow](https://pillow.readthedocs.io/en/stable/). \n",
        "\n",
        "However, many people in deep learning area stick with OpenCV for image loading and processing with some usage of another libraries when it is justified by performance/functionality. This is because OpenCV is in general much faster than the other libraries. Here you can find a couple of benchmarks: \n",
        "\n",
        "*   https://www.kaggle.com/zfturbo/benchmark-2019-speed-of-image-reading\n",
        "*   https://github.com/albumentations-team/albumentations#benchmarking-results\n",
        "\n",
        "To sum up the benchmarks above, there are two most common image formats, PNG and JPEGs. If your data is in PNG format - use OpenCV to read it. If it is in JPEG - use libturbojpeg. For image processing, use OpenCV if possible. _We will be using PIL a lot along with these._\n",
        "\n",
        "As you will read the code from others, you may find out that some of them use Pillow/something else to read data. You should know, that color image representations in OpenCV and other libraries are different - OpenCV uses \"BGR\" channel order, while others use \"RGB\" one. \n",
        "\n",
        "To change \"BRG\" <-> \"RGB\" the only thing we need to do it to change channel order."
      ]
    },
    {
      "cell_type": "code",
      "metadata": {
        "id": "ZYv4sZMmpndu",
        "colab_type": "code",
        "outputId": "48f09672-2899-4eeb-ab51-939dc4ab36b8",
        "colab": {
          "base_uri": "https://localhost:8080/",
          "height": 1000
        }
      },
      "source": [
        "%matplotlib inline\n",
        "from matplotlib import pyplot as plt\n",
        "import cv2\n",
        "\n",
        "\n",
        "bgr_image = cv2.imread('mars.jpg') \n",
        "print(bgr_image)\n",
        "print(bgr_image.shape)\n",
        "print('break')\n",
        "print(bgr_image[:,:, ::-1])\n",
        "# remember to add your own image in case you run this block, if you want to use the same image, \n",
        "# download it from: https://encrypted-tbn0.gstatic.com/images?q=tbn%3AANd9GcRCA40ftnscVzfV8ft8e7vIzQXfXeZdtco8nknJrfCUW6INI40U\n",
        "rgb_image = bgr_image[..., ::-1]\n",
        "fig, ax = plt.subplots(1, 2)\n",
        "ax[0].imshow(bgr_image)\n",
        "ax[1].imshow(rgb_image)\n",
        "plt.show()"
      ],
      "execution_count": 149,
      "outputs": [
        {
          "output_type": "stream",
          "text": [
            "[[[5 7 8]\n",
            "  [5 7 8]\n",
            "  [5 7 8]\n",
            "  ...\n",
            "  [5 7 8]\n",
            "  [5 7 8]\n",
            "  [5 7 8]]\n",
            "\n",
            " [[5 7 8]\n",
            "  [5 7 8]\n",
            "  [5 7 8]\n",
            "  ...\n",
            "  [5 7 8]\n",
            "  [5 7 8]\n",
            "  [5 7 8]]\n",
            "\n",
            " [[5 7 8]\n",
            "  [5 7 8]\n",
            "  [5 7 8]\n",
            "  ...\n",
            "  [5 7 8]\n",
            "  [5 7 8]\n",
            "  [5 7 8]]\n",
            "\n",
            " ...\n",
            "\n",
            " [[5 7 8]\n",
            "  [5 7 8]\n",
            "  [5 7 8]\n",
            "  ...\n",
            "  [5 7 8]\n",
            "  [5 7 8]\n",
            "  [5 7 8]]\n",
            "\n",
            " [[3 5 6]\n",
            "  [4 6 7]\n",
            "  [4 6 7]\n",
            "  ...\n",
            "  [6 8 9]\n",
            "  [6 8 9]\n",
            "  [6 8 9]]\n",
            "\n",
            " [[3 5 6]\n",
            "  [4 6 7]\n",
            "  [4 6 7]\n",
            "  ...\n",
            "  [6 8 9]\n",
            "  [6 8 9]\n",
            "  [6 8 9]]]\n",
            "(450, 682, 3)\n",
            "break\n",
            "[[[8 7 5]\n",
            "  [8 7 5]\n",
            "  [8 7 5]\n",
            "  ...\n",
            "  [8 7 5]\n",
            "  [8 7 5]\n",
            "  [8 7 5]]\n",
            "\n",
            " [[8 7 5]\n",
            "  [8 7 5]\n",
            "  [8 7 5]\n",
            "  ...\n",
            "  [8 7 5]\n",
            "  [8 7 5]\n",
            "  [8 7 5]]\n",
            "\n",
            " [[8 7 5]\n",
            "  [8 7 5]\n",
            "  [8 7 5]\n",
            "  ...\n",
            "  [8 7 5]\n",
            "  [8 7 5]\n",
            "  [8 7 5]]\n",
            "\n",
            " ...\n",
            "\n",
            " [[8 7 5]\n",
            "  [8 7 5]\n",
            "  [8 7 5]\n",
            "  ...\n",
            "  [8 7 5]\n",
            "  [8 7 5]\n",
            "  [8 7 5]]\n",
            "\n",
            " [[6 5 3]\n",
            "  [7 6 4]\n",
            "  [7 6 4]\n",
            "  ...\n",
            "  [9 8 6]\n",
            "  [9 8 6]\n",
            "  [9 8 6]]\n",
            "\n",
            " [[6 5 3]\n",
            "  [7 6 4]\n",
            "  [7 6 4]\n",
            "  ...\n",
            "  [9 8 6]\n",
            "  [9 8 6]\n",
            "  [9 8 6]]]\n"
          ],
          "name": "stdout"
        },
        {
          "output_type": "display_data",
          "data": {
            "image/png": "[encoded data removed]",
            "text/plain": [
              "<Figure size 432x288 with 2 Axes>"
            ]
          },
          "metadata": {
            "tags": []
          }
        }
      ]
    },
    {
      "cell_type": "markdown",
      "metadata": {
        "id": "yoi4TeNBGHle",
        "colab_type": "text"
      },
      "source": [
        "\n",
        "\n",
        "---\n",
        "\n",
        "## Question 10:\n",
        "\n",
        "Looking at the results above it can be said that the pixel values in the blue channels would be very small compared to red channel. True/False?\n",
        "\n",
        "\n",
        "---\n",
        "\n",
        "\n"
      ]
    },
    {
      "cell_type": "markdown",
      "metadata": {
        "id": "h8JVdZTTw2I-",
        "colab_type": "text"
      },
      "source": [
        "**TRUE (in BGR case)**"
      ]
    },
    {
      "cell_type": "markdown",
      "metadata": {
        "id": "b3ugFd57zNwa",
        "colab_type": "text"
      },
      "source": [
        "# Autograd\n",
        "\n",
        "Pytorch supports automatic differentiation. The module which implements this is called **AutoGrad**. It calculates the gradients and keeps track in forward and backward passes. For primitive tensors, you need to enable or disable it using the `required_grad` flag. But, for advanced tensors, it is enabled by default"
      ]
    },
    {
      "cell_type": "code",
      "metadata": {
        "id": "VMOp4aiou6JR",
        "colab_type": "code",
        "outputId": "f11e430c-3fdd-43df-c4fc-cae017176874",
        "colab": {
          "base_uri": "https://localhost:8080/",
          "height": 442
        }
      },
      "source": [
        "a = torch.rand((3, 5), requires_grad = True)\n",
        "b = torch.randint(0,21,(3, 5), dtype=torch.float32, requires_grad = True)\n",
        "print(a)\n",
        "print(b)\n",
        "print()\n",
        "result = a*b*6\n",
        "print(result)\n",
        "print(a.grad)\n",
        "# grad can be implicitly created only for scalar outputs\n",
        "# so let's calculate the sum here so that the output becomes a scalar and we can apply a backward pass\n",
        "mean_result = result.sum()\n",
        "print(mean_result)\n",
        "print()\n",
        "# calculate gradient\n",
        "mean_result.backward()\n",
        "# print gradient of a\n",
        "print(a.grad)\n",
        "print()\n",
        "print(b.grad)\n",
        "print()\n",
        "print(b.grad)"
      ],
      "execution_count": 150,
      "outputs": [
        {
          "output_type": "stream",
          "text": [
            "tensor([[0.9337, 0.2769, 0.6357, 0.0320, 0.8888],\n",
            "        [0.9938, 0.8330, 0.1946, 0.1655, 0.7419],\n",
            "        [0.1421, 0.3284, 0.4615, 0.2694, 0.9638]], requires_grad=True)\n",
            "tensor([[19., 12., 13.,  2., 15.],\n",
            "        [ 0.,  4.,  6., 11.,  6.],\n",
            "        [18.,  8., 17.,  3.,  2.]], requires_grad=True)\n",
            "\n",
            "tensor([[106.4450,  19.9357,  49.5863,   0.3834,  79.9943],\n",
            "        [  0.0000,  19.9932,   7.0039,  10.9199,  26.7070],\n",
            "        [ 15.3471,  15.7652,  47.0772,   4.8493,  11.5650]],\n",
            "       grad_fn=<MulBackward0>)\n",
            "None\n",
            "tensor(415.5726, grad_fn=<SumBackward0>)\n",
            "\n",
            "tensor([[114.,  72.,  78.,  12.,  90.],\n",
            "        [  0.,  24.,  36.,  66.,  36.],\n",
            "        [108.,  48., 102.,  18.,  12.]])\n",
            "\n",
            "tensor([[5.6024, 1.6613, 3.8143, 0.1917, 5.3330],\n",
            "        [5.9627, 4.9983, 1.1673, 0.9927, 4.4512],\n",
            "        [0.8526, 1.9707, 2.7692, 1.6164, 5.7825]])\n",
            "\n",
            "tensor([[5.6024, 1.6613, 3.8143, 0.1917, 5.3330],\n",
            "        [5.9627, 4.9983, 1.1673, 0.9927, 4.4512],\n",
            "        [0.8526, 1.9707, 2.7692, 1.6164, 5.7825]])\n"
          ],
          "name": "stdout"
        }
      ]
    },
    {
      "cell_type": "markdown",
      "metadata": {
        "id": "ym0Amk2IGfLx",
        "colab_type": "text"
      },
      "source": [
        "\n",
        "\n",
        "---\n",
        "\n",
        "## Question 11: \n",
        "\n",
        "Why the gradient of a is all 5s above?\n",
        "\n",
        "\n",
        "\n",
        "---\n",
        "\n"
      ]
    },
    {
      "cell_type": "markdown",
      "metadata": {
        "id": "7PDgGq2R0k7I",
        "colab_type": "text"
      },
      "source": [
        "As we see, Pytorch automagically calculated the gradient value for us. It looks to be the correct value - we multiplied an input by 5, so the gradient of this operation equals to 5.\n",
        "\n",
        "# Disabling Autograd for tensors\n",
        "\n",
        "We don't need to compute gradients for all the variables that are involved in the pipeline. The Pytorch API provides 2 ways to disable autograd.\n",
        "\n",
        "`detach` - returns a copy of the tensor with autograd disabled. This \n",
        "\n",
        "1.   copy is built on the same memory as the original tensor, so in-place size / stride / storage changes (such as resize_ / resizeas / set / transpose) modifications are not allowed.\n",
        "2.   torch.no_grad() - It is a context manager that allows you to guard a series of operations from autograd without creating new tensors."
      ]
    },
    {
      "cell_type": "code",
      "metadata": {
        "id": "yqVG9fQb0cLW",
        "colab_type": "code",
        "outputId": "0f79bcdb-2a66-4a1f-d97d-f9999d53a994",
        "colab": {
          "base_uri": "https://localhost:8080/",
          "height": 357
        }
      },
      "source": [
        "a = torch.rand((3, 5), requires_grad=True)\n",
        "print(a)\n",
        "print()\n",
        "detached_a = a.detach()\n",
        "print(detached_a)\n",
        "print()\n",
        "detached_result = detached_a * 5\n",
        "print(detached_result)\n",
        "print()\n",
        "result = a * 10\n",
        "print(result)\n",
        "print()\n",
        "# we cannot do backward pass that is required for autograd using multideminsional output,\n",
        "# so let's calculate the sum here\n",
        "mean_result = result.sum()\n",
        "print('mean result:', mean_result)\n",
        "mean_result.backward()\n",
        "a.grad"
      ],
      "execution_count": 151,
      "outputs": [
        {
          "output_type": "stream",
          "text": [
            "tensor([[0.0388, 0.6878, 0.8593, 0.3522, 0.3974],\n",
            "        [0.3278, 0.5274, 0.7218, 0.5582, 0.5748],\n",
            "        [0.5920, 0.2391, 0.7932, 0.9749, 0.2967]], requires_grad=True)\n",
            "\n",
            "tensor([[0.0388, 0.6878, 0.8593, 0.3522, 0.3974],\n",
            "        [0.3278, 0.5274, 0.7218, 0.5582, 0.5748],\n",
            "        [0.5920, 0.2391, 0.7932, 0.9749, 0.2967]])\n",
            "\n",
            "tensor([[0.1941, 3.4391, 4.2966, 1.7610, 1.9868],\n",
            "        [1.6391, 2.6370, 3.6091, 2.7910, 2.8742],\n",
            "        [2.9602, 1.1957, 3.9661, 4.8745, 1.4833]])\n",
            "\n",
            "tensor([[0.3881, 6.8783, 8.5932, 3.5220, 3.9736],\n",
            "        [3.2783, 5.2740, 7.2182, 5.5820, 5.7483],\n",
            "        [5.9204, 2.3915, 7.9322, 9.7491, 2.9667]], grad_fn=<MulBackward0>)\n",
            "\n",
            "mean result: tensor(79.4159, grad_fn=<SumBackward0>)\n"
          ],
          "name": "stdout"
        },
        {
          "output_type": "execute_result",
          "data": {
            "text/plain": [
              "tensor([[10., 10., 10., 10., 10.],\n",
              "        [10., 10., 10., 10., 10.],\n",
              "        [10., 10., 10., 10., 10.]])"
            ]
          },
          "metadata": {
            "tags": []
          },
          "execution_count": 151
        }
      ]
    },
    {
      "cell_type": "code",
      "metadata": {
        "id": "uqpch2Be02J7",
        "colab_type": "code",
        "outputId": "f8f3acfe-a0e4-45ad-cb9a-eb6b9a9238aa",
        "colab": {
          "base_uri": "https://localhost:8080/",
          "height": 68
        }
      },
      "source": [
        "a = torch.rand((3, 5), requires_grad=True)\n",
        "with torch.no_grad():\n",
        "    detached_result = a * 5\n",
        "result = a * 10\n",
        "# we cannot do backward pass that is required for autograd using multideminsional output,\n",
        "# so let's calculate the sum here\n",
        "mean_result = result.sum()\n",
        "mean_result.backward()\n",
        "a.grad"
      ],
      "execution_count": 152,
      "outputs": [
        {
          "output_type": "execute_result",
          "data": {
            "text/plain": [
              "tensor([[10., 10., 10., 10., 10.],\n",
              "        [10., 10., 10., 10., 10.],\n",
              "        [10., 10., 10., 10., 10.]])"
            ]
          },
          "metadata": {
            "tags": []
          },
          "execution_count": 152
        }
      ]
    },
    {
      "cell_type": "markdown",
      "metadata": {
        "id": "vjh2rYOPJUAZ",
        "colab_type": "text"
      },
      "source": [
        "# Custom Network\n",
        "\n",
        "A fully-connected ReLU network with one hidden layer and no biases, trained to predict y from x by minimizing squared Euclidean distance.\n",
        "\n",
        "This implementation uses PyTorch tensors to manually compute the forward pass, loss, and backward pass.\n",
        "\n",
        "A PyTorch Tensor is basically the same as a numpy array: it does not know anything about deep learning or computational graphs or gradients, and is just a generic n-dimensional array to be used for arbitrary numeric computation.\n",
        "\n",
        "The biggest difference between a numpy array and a PyTorch Tensor is that a PyTorch Tensor can run on either CPU or GPU. To run operations on the GPU, just cast the Tensor to a cuda datatype."
      ]
    },
    {
      "cell_type": "code",
      "metadata": {
        "id": "0nf5RaB104Vp",
        "colab_type": "code",
        "outputId": "ab6e7a58-193b-4f5a-999e-6d9d70b2e1b6",
        "colab": {
          "base_uri": "https://localhost:8080/",
          "height": 1000
        }
      },
      "source": [
        "dtype = torch.float\n",
        "device = torch.device(\"cpu\")\n",
        "# device = torch.device(\"cuda:0\") # Uncomment this to run on GPU\n",
        "\n",
        "# N is batch size; D_in is input dimension;\n",
        "# H is hidden dimension; D_out is output dimension.\n",
        "N, D_in, H, D_out = 64, 1000, 100, 10\n",
        "\n",
        "# Create random input and output data\n",
        "x = torch.randn(N, D_in, device=device, dtype=dtype)\n",
        "y = torch.randn(N, D_out, device=device, dtype=dtype)\n",
        "\n",
        "# Randomly initialize weights\n",
        "w1 = torch.randn(D_in, H, device=device, dtype=dtype)\n",
        "w2 = torch.randn(H, D_out, device=device, dtype=dtype)\n",
        "\n",
        "learning_rate = 1e-6\n",
        "for t in range(500):\n",
        "    # Forward pass: compute predicted y\n",
        "    h = x.mm(w1)\n",
        "    h_relu = h.clamp(min=0)\n",
        "    y_pred = h_relu.mm(w2)\n",
        "\n",
        "    # Compute and print loss\n",
        "    loss = (y_pred - y).pow(2).sum().item()\n",
        "    print(t, loss)\n",
        "\n",
        "    # Backprop to compute gradients of w1 and w2 with respect to loss\n",
        "    grad_y_pred = 2*(y_pred - y)\n",
        "    grad_w2 = h_relu.t().mm(grad_y_pred)\n",
        "    grad_h_relu = grad_y_pred.mm(w2.t())\n",
        "    grad_h = grad_h_relu.clone()\n",
        "    grad_h[h < 0] = 0\n",
        "    grad_w1 = x.t().mm(grad_h)\n",
        "\n",
        "    # Update weights using gradient descent\n",
        "    w1 -= learning_rate * grad_w1\n",
        "    w2 -= learning_rate * grad_w2"
      ],
      "execution_count": 154,
      "outputs": [
        {
          "output_type": "stream",
          "text": [
            "0 34056640.0\n",
            "1 32800776.0\n",
            "2 34710580.0\n",
            "3 33638512.0\n",
            "4 27025384.0\n",
            "5 17290406.0\n",
            "6 9334626.0\n",
            "7 4753064.5\n",
            "8 2592421.0\n",
            "9 1618996.625\n",
            "10 1153078.375\n",
            "11 898144.25\n",
            "12 736308.75\n",
            "13 620461.5\n",
            "14 530933.625\n",
            "15 458723.6875\n",
            "16 399092.71875\n",
            "17 349096.9375\n",
            "18 306786.6875\n",
            "19 270757.0625\n",
            "20 239880.75\n",
            "21 213264.0625\n",
            "22 190193.734375\n",
            "23 170152.8125\n",
            "24 152666.09375\n",
            "25 137341.4375\n",
            "26 123872.875\n",
            "27 111997.0859375\n",
            "28 101521.375\n",
            "29 92241.765625\n",
            "30 83971.4765625\n",
            "31 76582.34375\n",
            "32 69962.9921875\n",
            "33 64019.0546875\n",
            "34 58672.91796875\n",
            "35 53859.6015625\n",
            "36 49511.59375\n",
            "37 45572.31640625\n",
            "38 41999.30859375\n",
            "39 38766.3671875\n",
            "40 35829.671875\n",
            "41 33150.6328125\n",
            "42 30703.203125\n",
            "43 28464.560546875\n",
            "44 26413.447265625\n",
            "45 24531.38671875\n",
            "46 22802.08984375\n",
            "47 21211.650390625\n",
            "48 19747.48828125\n",
            "49 18397.64453125\n",
            "50 17151.88671875\n",
            "51 16001.2080078125\n",
            "52 14937.79296875\n",
            "53 13954.79296875\n",
            "54 13044.3662109375\n",
            "55 12200.1337890625\n",
            "56 11416.763671875\n",
            "57 10689.4541015625\n",
            "58 10013.9248046875\n",
            "59 9385.748046875\n",
            "60 8801.2998046875\n",
            "61 8257.03125\n",
            "62 7750.01611328125\n",
            "63 7277.275390625\n",
            "64 6836.341796875\n",
            "65 6424.57470703125\n",
            "66 6040.01953125\n",
            "67 5680.7890625\n",
            "68 5344.88720703125\n",
            "69 5030.90087890625\n",
            "70 4736.8544921875\n",
            "71 4461.53857421875\n",
            "72 4203.75439453125\n",
            "73 3962.1103515625\n",
            "74 3735.572265625\n",
            "75 3523.0947265625\n",
            "76 3323.62255859375\n",
            "77 3136.37841796875\n",
            "78 2960.557861328125\n",
            "79 2795.420166015625\n",
            "80 2640.1484375\n",
            "81 2494.17626953125\n",
            "82 2356.878173828125\n",
            "83 2227.72900390625\n",
            "84 2106.45654296875\n",
            "85 1992.2974853515625\n",
            "86 1884.829833984375\n",
            "87 1783.60888671875\n",
            "88 1688.1861572265625\n",
            "89 1598.203369140625\n",
            "90 1513.3743896484375\n",
            "91 1433.343017578125\n",
            "92 1357.814453125\n",
            "93 1286.571044921875\n",
            "94 1219.335205078125\n",
            "95 1155.8480224609375\n",
            "96 1095.8564453125\n",
            "97 1039.166015625\n",
            "98 985.5866088867188\n",
            "99 934.9861450195312\n",
            "100 887.111328125\n",
            "101 841.8292236328125\n",
            "102 799.0091552734375\n",
            "103 758.487060546875\n",
            "104 720.1343383789062\n",
            "105 683.845947265625\n",
            "106 649.531494140625\n",
            "107 617.0413208007812\n",
            "108 586.260986328125\n",
            "109 557.1046142578125\n",
            "110 529.4721069335938\n",
            "111 503.2926025390625\n",
            "112 478.4783630371094\n",
            "113 454.9522399902344\n",
            "114 432.64605712890625\n",
            "115 411.4891357421875\n",
            "116 391.42425537109375\n",
            "117 372.3757019042969\n",
            "118 354.3072509765625\n",
            "119 337.1634826660156\n",
            "120 320.8920593261719\n",
            "121 305.44244384765625\n",
            "122 290.77423095703125\n",
            "123 276.8501892089844\n",
            "124 263.62078857421875\n",
            "125 251.05645751953125\n",
            "126 239.11558532714844\n",
            "127 227.7795867919922\n",
            "128 217.00811767578125\n",
            "129 206.76962280273438\n",
            "130 197.03994750976562\n",
            "131 187.7907257080078\n",
            "132 178.9937744140625\n",
            "133 170.62660217285156\n",
            "134 162.66757202148438\n",
            "135 155.0952606201172\n",
            "136 147.8927001953125\n",
            "137 141.03817749023438\n",
            "138 134.5208282470703\n",
            "139 128.31297302246094\n",
            "140 122.40496826171875\n",
            "141 116.78207397460938\n",
            "142 111.42595672607422\n",
            "143 106.32771301269531\n",
            "144 101.4719009399414\n",
            "145 96.84744262695312\n",
            "146 92.4419174194336\n",
            "147 88.24549865722656\n",
            "148 84.24908447265625\n",
            "149 80.43864440917969\n",
            "150 76.80784606933594\n",
            "151 73.34793090820312\n",
            "152 70.0510025024414\n",
            "153 66.90660858154297\n",
            "154 63.90745544433594\n",
            "155 61.050785064697266\n",
            "156 58.32606887817383\n",
            "157 55.728328704833984\n",
            "158 53.249603271484375\n",
            "159 50.88452911376953\n",
            "160 48.628822326660156\n",
            "161 46.478179931640625\n",
            "162 44.42692565917969\n",
            "163 42.467140197753906\n",
            "164 40.59714126586914\n",
            "165 38.81380081176758\n",
            "166 37.11069107055664\n",
            "167 35.48524475097656\n",
            "168 33.9331169128418\n",
            "169 32.451576232910156\n",
            "170 31.036922454833984\n",
            "171 29.68561553955078\n",
            "172 28.39508056640625\n",
            "173 27.163448333740234\n",
            "174 25.9866886138916\n",
            "175 24.862354278564453\n",
            "176 23.788551330566406\n",
            "177 22.762184143066406\n",
            "178 21.78226089477539\n",
            "179 20.845165252685547\n",
            "180 19.950197219848633\n",
            "181 19.09490394592285\n",
            "182 18.276500701904297\n",
            "183 17.495580673217773\n",
            "184 16.747900009155273\n",
            "185 16.034181594848633\n",
            "186 15.351622581481934\n",
            "187 14.697883605957031\n",
            "188 14.073607444763184\n",
            "189 13.477136611938477\n",
            "190 12.906364440917969\n",
            "191 12.359890937805176\n",
            "192 11.83803939819336\n",
            "193 11.338415145874023\n",
            "194 10.860772132873535\n",
            "195 10.403360366821289\n",
            "196 9.966052055358887\n",
            "197 9.547796249389648\n",
            "198 9.14758014678955\n",
            "199 8.763863563537598\n",
            "200 8.397283554077148\n",
            "201 8.046247482299805\n",
            "202 7.710227012634277\n",
            "203 7.388814449310303\n",
            "204 7.080937385559082\n",
            "205 6.786227703094482\n",
            "206 6.5042338371276855\n",
            "207 6.234268665313721\n",
            "208 5.975848197937012\n",
            "209 5.728304862976074\n",
            "210 5.491381645202637\n",
            "211 5.264081001281738\n",
            "212 5.04667854309082\n",
            "213 4.838666915893555\n",
            "214 4.6390790939331055\n",
            "215 4.448025226593018\n",
            "216 4.265389442443848\n",
            "217 4.09004020690918\n",
            "218 3.9220752716064453\n",
            "219 3.761260986328125\n",
            "220 3.607046604156494\n",
            "221 3.4597859382629395\n",
            "222 3.318270206451416\n",
            "223 3.1825754642486572\n",
            "224 3.052567481994629\n",
            "225 2.928213119506836\n",
            "226 2.8089046478271484\n",
            "227 2.6945343017578125\n",
            "228 2.5848093032836914\n",
            "229 2.4797897338867188\n",
            "230 2.379206657409668\n",
            "231 2.2825024127960205\n",
            "232 2.1901354789733887\n",
            "233 2.101331949234009\n",
            "234 2.0163581371307373\n",
            "235 1.9349002838134766\n",
            "236 1.8566055297851562\n",
            "237 1.7815437316894531\n",
            "238 1.7097141742706299\n",
            "239 1.6409155130386353\n",
            "240 1.5747299194335938\n",
            "241 1.5113271474838257\n",
            "242 1.4504815340042114\n",
            "243 1.392232060432434\n",
            "244 1.3363313674926758\n",
            "245 1.2827329635620117\n",
            "246 1.2313629388809204\n",
            "247 1.1820321083068848\n",
            "248 1.13457190990448\n",
            "249 1.0892099142074585\n",
            "250 1.0456749200820923\n",
            "251 1.0038529634475708\n",
            "252 0.9637324213981628\n",
            "253 0.9253312945365906\n",
            "254 0.8884928822517395\n",
            "255 0.8528655767440796\n",
            "256 0.8189748525619507\n",
            "257 0.786360502243042\n",
            "258 0.7550552487373352\n",
            "259 0.7250768542289734\n",
            "260 0.6962325572967529\n",
            "261 0.668590247631073\n",
            "262 0.6420386433601379\n",
            "263 0.6165562272071838\n",
            "264 0.5921268463134766\n",
            "265 0.5686210989952087\n",
            "266 0.5461059212684631\n",
            "267 0.5244911313056946\n",
            "268 0.5037455558776855\n",
            "269 0.48381665349006653\n",
            "270 0.46469613909721375\n",
            "271 0.4463278353214264\n",
            "272 0.42869025468826294\n",
            "273 0.41179603338241577\n",
            "274 0.39553189277648926\n",
            "275 0.3798748254776001\n",
            "276 0.36494889855384827\n",
            "277 0.3506162166595459\n",
            "278 0.3368509113788605\n",
            "279 0.32352596521377563\n",
            "280 0.3108629584312439\n",
            "281 0.29862290620803833\n",
            "282 0.28684481978416443\n",
            "283 0.27558833360671997\n",
            "284 0.26482728123664856\n",
            "285 0.25445830821990967\n",
            "286 0.24446582794189453\n",
            "287 0.23493288457393646\n",
            "288 0.22573792934417725\n",
            "289 0.216912642121315\n",
            "290 0.20841437578201294\n",
            "291 0.20020943880081177\n",
            "292 0.19240926206111908\n",
            "293 0.18490706384181976\n",
            "294 0.17763660848140717\n",
            "295 0.17068494856357574\n",
            "296 0.1640738695859909\n",
            "297 0.15768106281757355\n",
            "298 0.15153737366199493\n",
            "299 0.1456204354763031\n",
            "300 0.13990889489650726\n",
            "301 0.1344587206840515\n",
            "302 0.12926462292671204\n",
            "303 0.12427236884832382\n",
            "304 0.11943905800580978\n",
            "305 0.11478839814662933\n",
            "306 0.11034384369850159\n",
            "307 0.10604630410671234\n",
            "308 0.10189999639987946\n",
            "309 0.09793122112751007\n",
            "310 0.09413956105709076\n",
            "311 0.09048395603895187\n",
            "312 0.08699870109558105\n",
            "313 0.08363799750804901\n",
            "314 0.08037162572145462\n",
            "315 0.07725878059864044\n",
            "316 0.07427341490983963\n",
            "317 0.07137488573789597\n",
            "318 0.06863632053136826\n",
            "319 0.06599728018045425\n",
            "320 0.06343613564968109\n",
            "321 0.06096910312771797\n",
            "322 0.058638639748096466\n",
            "323 0.056371696293354034\n",
            "324 0.05422236770391464\n",
            "325 0.05212303623557091\n",
            "326 0.050110675394535065\n",
            "327 0.04817575216293335\n",
            "328 0.046320170164108276\n",
            "329 0.04455536603927612\n",
            "330 0.04283038526773453\n",
            "331 0.04116503894329071\n",
            "332 0.03959677368402481\n",
            "333 0.03808429464697838\n",
            "334 0.036611445248126984\n",
            "335 0.035208359360694885\n",
            "336 0.033865682780742645\n",
            "337 0.03254914656281471\n",
            "338 0.03131544217467308\n",
            "339 0.030108872801065445\n",
            "340 0.02897140569984913\n",
            "341 0.027861852198839188\n",
            "342 0.026796959340572357\n",
            "343 0.02578422799706459\n",
            "344 0.024807311594486237\n",
            "345 0.02386513538658619\n",
            "346 0.022947516292333603\n",
            "347 0.0220808032900095\n",
            "348 0.021240713074803352\n",
            "349 0.020440321415662766\n",
            "350 0.019658705219626427\n",
            "351 0.018907450139522552\n",
            "352 0.018191631883382797\n",
            "353 0.01749798096716404\n",
            "354 0.01683744415640831\n",
            "355 0.016207585111260414\n",
            "356 0.015600237064063549\n",
            "357 0.015007360838353634\n",
            "358 0.014446706511080265\n",
            "359 0.013894127681851387\n",
            "360 0.013373281806707382\n",
            "361 0.012867532670497894\n",
            "362 0.012392541393637657\n",
            "363 0.011927494779229164\n",
            "364 0.01147675421088934\n",
            "365 0.011049813590943813\n",
            "366 0.010638322681188583\n",
            "367 0.010239902883768082\n",
            "368 0.009866501204669476\n",
            "369 0.009499911218881607\n",
            "370 0.00914251059293747\n",
            "371 0.008805956691503525\n",
            "372 0.008483486250042915\n",
            "373 0.00817143451422453\n",
            "374 0.007873988710343838\n",
            "375 0.007582857273519039\n",
            "376 0.0073059662245213985\n",
            "377 0.007039886899292469\n",
            "378 0.0067854770459234715\n",
            "379 0.006534979213029146\n",
            "380 0.0063020591624081135\n",
            "381 0.006078328005969524\n",
            "382 0.005858112592250109\n",
            "383 0.005643125157803297\n",
            "384 0.00544158648699522\n",
            "385 0.005248104687780142\n",
            "386 0.005057765636593103\n",
            "387 0.004882487002760172\n",
            "388 0.004708721302449703\n",
            "389 0.00454168813303113\n",
            "390 0.004382086917757988\n",
            "391 0.004227551631629467\n",
            "392 0.004076467361301184\n",
            "393 0.003933151718229055\n",
            "394 0.003797877347096801\n",
            "395 0.003660794347524643\n",
            "396 0.003536584321409464\n",
            "397 0.0034133708104491234\n",
            "398 0.003296682145446539\n",
            "399 0.0031833485700190067\n",
            "400 0.0030759740620851517\n",
            "401 0.002971499226987362\n",
            "402 0.0028711240738630295\n",
            "403 0.0027733328752219677\n",
            "404 0.0026807368267327547\n",
            "405 0.0025891736149787903\n",
            "406 0.0025038053281605244\n",
            "407 0.002420855686068535\n",
            "408 0.0023380531929433346\n",
            "409 0.002261044457554817\n",
            "410 0.002188547980040312\n",
            "411 0.002118030097335577\n",
            "412 0.002048405585810542\n",
            "413 0.0019817701540887356\n",
            "414 0.0019161866512149572\n",
            "415 0.001857925788499415\n",
            "416 0.0017990234773606062\n",
            "417 0.0017413250170648098\n",
            "418 0.0016889002872630954\n",
            "419 0.001635606400668621\n",
            "420 0.0015846792375668883\n",
            "421 0.001535662915557623\n",
            "422 0.0014883470721542835\n",
            "423 0.0014430074952542782\n",
            "424 0.0013995337067171931\n",
            "425 0.00135648506693542\n",
            "426 0.0013179361121729016\n",
            "427 0.0012783624697476625\n",
            "428 0.0012390792835503817\n",
            "429 0.0012029979843646288\n",
            "430 0.0011668408988043666\n",
            "431 0.0011319799814373255\n",
            "432 0.0010980917140841484\n",
            "433 0.0010649701580405235\n",
            "434 0.0010364692425355315\n",
            "435 0.0010057099862024188\n",
            "436 0.0009786369046196342\n",
            "437 0.0009503712644800544\n",
            "438 0.000924313033465296\n",
            "439 0.0008985530585050583\n",
            "440 0.0008750142878852785\n",
            "441 0.0008495670044794679\n",
            "442 0.0008250849205069244\n",
            "443 0.0008032762561924756\n",
            "444 0.0007819428574293852\n",
            "445 0.0007608005544170737\n",
            "446 0.0007409090176224709\n",
            "447 0.0007215941441245377\n",
            "448 0.0007029564585536718\n",
            "449 0.0006850539357401431\n",
            "450 0.0006665443070232868\n",
            "451 0.000649160414468497\n",
            "452 0.0006326232687570155\n",
            "453 0.0006175420712679625\n",
            "454 0.0006008202326484025\n",
            "455 0.0005843841354362667\n",
            "456 0.0005709201795980334\n",
            "457 0.0005562247824855149\n",
            "458 0.0005426970892585814\n",
            "459 0.000528710603248328\n",
            "460 0.0005152492085471749\n",
            "461 0.0005033439374528825\n",
            "462 0.000491199316456914\n",
            "463 0.0004782713658642024\n",
            "464 0.0004675998061429709\n",
            "465 0.00045606179628521204\n",
            "466 0.0004455256275832653\n",
            "467 0.0004353431868366897\n",
            "468 0.00042532954830676317\n",
            "469 0.0004149495798628777\n",
            "470 0.000405945407692343\n",
            "471 0.0003964293282479048\n",
            "472 0.0003876109840348363\n",
            "473 0.0003792017523664981\n",
            "474 0.00037040532333776355\n",
            "475 0.0003617069742176682\n",
            "476 0.0003538376768119633\n",
            "477 0.00034620630322024226\n",
            "478 0.0003387874457985163\n",
            "479 0.0003316778165753931\n",
            "480 0.00032431638101115823\n",
            "481 0.00031753905932419\n",
            "482 0.00031084890360943973\n",
            "483 0.00030427967431023717\n",
            "484 0.00029811650165356696\n",
            "485 0.0002914304786827415\n",
            "486 0.00028486934024840593\n",
            "487 0.00027923358720727265\n",
            "488 0.000273374083917588\n",
            "489 0.00026760163018479943\n",
            "490 0.00026268395595252514\n",
            "491 0.0002574783284217119\n",
            "492 0.00025228920276276767\n",
            "493 0.00024698040215298533\n",
            "494 0.00024208409013226628\n",
            "495 0.00023724260972812772\n",
            "496 0.00023221762967295945\n",
            "497 0.00022824134794063866\n",
            "498 0.00022425387578550726\n",
            "499 0.00022006110521033406\n"
          ],
          "name": "stdout"
        }
      ]
    },
    {
      "cell_type": "markdown",
      "metadata": {
        "id": "ycwxAPHZLNST",
        "colab_type": "text"
      },
      "source": [
        "\n",
        "\n",
        "---\n",
        "## Question 12\n",
        "\n",
        "In the code above, why do we have 2 in '2.0*(y_pred - y)`?\n",
        "\n",
        "## Question 13\n",
        "In the code above, what does `grad_h[h < 0] = 0` signify?\n",
        "\n",
        "## Question 14\n",
        "In the code above, how many \"epochs\" have we trained the model for? \n",
        "\n",
        "## Question 15\n",
        "In the code above, if we take the trained model, and run it on fresh  inputs, the trained model will be able to predict fresh output with high accuracy. \n",
        "\n",
        "## Question 16\n",
        "In the code above, if we dont use clone in `grad_h = grad_h_relu.clone()` the model will still train without any issues. "
      ]
    },
    {
      "cell_type": "markdown",
      "metadata": {
        "id": "d0Lo_GK4JKmh",
        "colab_type": "text"
      },
      "source": [
        "**12. After diffrentiation, power comes in front.**\n",
        "\n",
        "**13. Changing all value of less than zero to Zero, so to not have any negative numbers**\n",
        "\n",
        "**14. 500**\n",
        "\n",
        "**15. no, since it is some random data.**\n",
        "\n",
        "**16.**"
      ]
    },
    {
      "cell_type": "code",
      "metadata": {
        "id": "PnJ49I07JJI6",
        "colab_type": "code",
        "colab": {}
      },
      "source": [
        ""
      ],
      "execution_count": 0,
      "outputs": []
    }
  ]
}